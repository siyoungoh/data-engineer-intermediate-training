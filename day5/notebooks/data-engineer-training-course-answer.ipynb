{
 "cells": [
  {
   "cell_type": "markdown",
   "metadata": {},
   "source": [
    "# 5. 수집된 데이터 탐색\n",
    "## 5-1. 스파크 세션 생성\n",
    "### 5-1-1. 스파크 객체를 생성하는 코드를 작성하고, Shift+Enter 로 스파크 버전을 확인합니다\n",
    "<details><summary> 정답확인</summary>\n",
    "\n",
    "> 스파크 엔진의 버전 `v3.1.2`이 출력되면 성공입니다\n",
    "\n",
    "</details>\n",
    "<br> "
   ]
  },
  {
   "cell_type": "code",
   "execution_count": 1,
   "metadata": {},
   "outputs": [
    {
     "name": "stderr",
     "output_type": "stream",
     "text": [
      "22/04/14 16:53:42 WARN NativeCodeLoader: Unable to load native-hadoop library for your platform... using builtin-java classes where applicable\n",
      "Using Spark's default log4j profile: org/apache/spark/log4j-defaults.properties\n",
      "Setting default log level to \"WARN\".\n",
      "To adjust logging level use sc.setLogLevel(newLevel). For SparkR, use setLogLevel(newLevel).\n"
     ]
    },
    {
     "data": {
      "text/html": [
       "\n",
       "            <div>\n",
       "                <p><b>SparkSession - in-memory</b></p>\n",
       "                \n",
       "        <div>\n",
       "            <p><b>SparkContext</b></p>\n",
       "\n",
       "            <p><a href=\"http://388857f070c9:4040\">Spark UI</a></p>\n",
       "\n",
       "            <dl>\n",
       "              <dt>Version</dt>\n",
       "                <dd><code>v3.1.2</code></dd>\n",
       "              <dt>Master</dt>\n",
       "                <dd><code>local[*]</code></dd>\n",
       "              <dt>AppName</dt>\n",
       "                <dd><code>Data Engineer Training Course</code></dd>\n",
       "            </dl>\n",
       "        </div>\n",
       "        \n",
       "            </div>\n",
       "        "
      ],
      "text/plain": [
       "<pyspark.sql.session.SparkSession at 0x7fbc8227b760>"
      ]
     },
     "execution_count": 1,
     "metadata": {},
     "output_type": "execute_result"
    }
   ],
   "source": [
    "# 여기에 실습 코드를 작성하고 실행하세요 (Shift+Enter)\n",
    "# 코어 스파크 라이브러리를 임포트 합니다\n",
    "from pyspark.sql import SparkSession\n",
    "from pyspark.sql.functions import *\n",
    "from pyspark.sql.types import *\n",
    "\n",
    "spark = (\n",
    "    SparkSession\n",
    "    .builder\n",
    "    .appName(\"Data Engineer Training Course\")\n",
    "    .config(\"spark.sql.session.timeZone\", \"Asia/Seoul\")\n",
    "    .getOrCreate()\n",
    ")\n",
    "\n",
    "# 노트북에서 테이블 형태로 데이터 프레임 출력을 위한 설정을 합니다\n",
    "from IPython.display import display, display_pretty, clear_output, JSON\n",
    "spark.conf.set(\"spark.sql.repl.eagerEval.enabled\", True) # display enabled\n",
    "spark.conf.set(\"spark.sql.repl.eagerEval.truncate\", 100) # display output columns size\n",
    "spark"
   ]
  },
  {
   "cell_type": "markdown",
   "metadata": {},
   "source": [
    "### 3-0. 출력하기 연습\n",
    "#### 3-0-1. notebook 에서는 셀의 가장 마지막 줄의 변수를 자동으로 출력합니다. \n",
    "- 예를 들어, `spark.sql(\"select * from user25\")` 가 셀의 가장 마지막 줄에 있다면, 자동으로 데이터가 출력됩니다. "
   ]
  },
  {
   "cell_type": "code",
   "execution_count": 35,
   "metadata": {},
   "outputs": [
    {
     "data": {
      "text/html": [
       "<table border='1'>\n",
       "<tr><th>1</th></tr>\n",
       "<tr><td>1</td></tr>\n",
       "</table>\n"
      ],
      "text/plain": [
       "+---+\n",
       "|  1|\n",
       "+---+\n",
       "|  1|\n",
       "+---+"
      ]
     },
     "execution_count": 35,
     "metadata": {},
     "output_type": "execute_result"
    }
   ],
   "source": [
    "spark.sql(\"select 1\")"
   ]
  },
  {
   "cell_type": "markdown",
   "metadata": {},
   "source": [
    "#### 3-0-2. 데이터프레임을 명시하지 않고 아래처럼 사용해도 바로 결과를 show 해서 볼 수 있습니다. \n",
    "- `spark.sql(\"show tables\").show()`"
   ]
  },
  {
   "cell_type": "code",
   "execution_count": 36,
   "metadata": {},
   "outputs": [
    {
     "name": "stdout",
     "output_type": "stream",
     "text": [
      "+---+\n",
      "|  1|\n",
      "+---+\n",
      "|  1|\n",
      "+---+\n",
      "\n"
     ]
    }
   ],
   "source": [
    "spark.sql(\"select 1\").show()"
   ]
  },
  {
   "cell_type": "markdown",
   "metadata": {},
   "source": [
    "#### 3-0-3. 데이터프레임으로 연산한 결과를 파이썬 변수에 저장하기\n",
    "\n",
    "- 지표 연산을 위해 앞에서 생성한 지표를 사용해야할 경우가 있습니다. 이 경우, 파이썬 변수에 저장해서 사용하는 것이 필요합니다. \n",
    "- dataframe 의 collect 를 사용해서 레코드인 Row 를 반환받아 특정 column 에 접근해 저장합니다. \n",
    "https://spark.apache.org/docs/3.1.2/api/python/reference/api/pyspark.sql.DataFrame.collect.html\n",
    "\n",
    "예를 들어 아래와 같이 dau 이라는 이름의 dataframe 이 있을 경우, \n",
    "\n",
    "| dau | count |\n",
    "|-----|-------|\n",
    "| 5   | 3     |\n",
    "\n",
    "0번째(첫번째) row 의 'dau' column 의 값인 '5' 를 v_dau 라는 변수로 저장할 수 있습니다. \n",
    "\n",
    "```python\n",
    "v_dau = dau.collect()[0][\"DAU\"]\n",
    "```"
   ]
  },
  {
   "cell_type": "markdown",
   "metadata": {
    "tags": []
   },
   "source": [
    "### 5-1-2. 수집된 테이블을 데이터프레임으로 읽고, 스키마 및 데이터 출력하기\n",
    "> 파케이 포맷의 경우는 명시적인 스키마 정의가 되어 있지만, Json 포맷의 경우는 데이터의 값에 따라 달라질 수 있기 때문에 데이터를 읽어들일 때에 주의해야 합니다\n",
    "\n",
    "- 데이터프레임 변수명 및 경로는 아래와 같습니다\n",
    "  - 2020/10/25 일자 고객 (parquet) : user25 <- user/20201025\n",
    "  - 2020/10/25 일자 매출 (parquet) : purchase25 <- purchase/20201025\n",
    "  - 2020/10/25 일자 접속 (json) : access25 <- access/20201025\n",
    "- 아래의 제약조건을 만족 시켜야 합니다\n",
    "  - 입력 포맷이 Json 인 경우는 json 명령어와 추정(infer) 옵션을 사용하세요 spark.read.option(\"inferSchema\", \"true\").json(\"access/20201024\")\n",
    "  - 모든 데이터에 대한 스키마를 출력하세요 dataFrame.printSchema()\n",
    "  - 데이터 내용을 출력하여 확인하세요 dataFrame.show() 혹은 display(dataFrame)\n",
    "- 고객 정보 파일을 읽고, 스키마와 데이터 출력하기\n",
    "\n",
    "<details><summary> 정답확인</summary>\n",
    "\n",
    "> 고객, 매출 및 접속 데이터의 스키마와, 데이터가 모두 출력되면 성공입니다\n",
    "\n",
    "</details>\n",
    "<br>"
   ]
  },
  {
   "cell_type": "code",
   "execution_count": 2,
   "metadata": {},
   "outputs": [
    {
     "name": "stdout",
     "output_type": "stream",
     "text": [
      "root\n",
      " |-- u_id: integer (nullable = true)\n",
      " |-- u_name: string (nullable = true)\n",
      " |-- u_gender: string (nullable = true)\n",
      " |-- u_signup: integer (nullable = true)\n",
      "\n",
      "+----+----------+--------+--------+\n",
      "|u_id|u_name    |u_gender|u_signup|\n",
      "+----+----------+--------+--------+\n",
      "|1   |정휘센    |남      |20201025|\n",
      "|2   |김싸이언  |남      |20201025|\n",
      "|3   |박트롬    |여      |20201025|\n",
      "|4   |청소기    |남      |20201025|\n",
      "|5   |유코드제로|여      |20201025|\n",
      "+----+----------+--------+--------+\n",
      "\n"
     ]
    },
    {
     "data": {
      "text/html": [
       "<table border='1'>\n",
       "<tr><th>u_id</th><th>u_name</th><th>u_gender</th><th>u_signup</th></tr>\n",
       "<tr><td>1</td><td>정휘센</td><td>남</td><td>20201025</td></tr>\n",
       "<tr><td>2</td><td>김싸이언</td><td>남</td><td>20201025</td></tr>\n",
       "<tr><td>3</td><td>박트롬</td><td>여</td><td>20201025</td></tr>\n",
       "<tr><td>4</td><td>청소기</td><td>남</td><td>20201025</td></tr>\n",
       "<tr><td>5</td><td>유코드제로</td><td>여</td><td>20201025</td></tr>\n",
       "</table>\n"
      ],
      "text/plain": [
       "+----+----------+--------+--------+\n",
       "|u_id|    u_name|u_gender|u_signup|\n",
       "+----+----------+--------+--------+\n",
       "|   1|    정휘센|      남|20201025|\n",
       "|   2|  김싸이언|      남|20201025|\n",
       "|   3|    박트롬|      여|20201025|\n",
       "|   4|    청소기|      남|20201025|\n",
       "|   5|유코드제로|      여|20201025|\n",
       "+----+----------+--------+--------+"
      ]
     },
     "metadata": {},
     "output_type": "display_data"
    },
    {
     "name": "stdout",
     "output_type": "stream",
     "text": [
      "root\n",
      " |-- p_time: string (nullable = true)\n",
      " |-- p_uid: integer (nullable = true)\n",
      " |-- p_id: integer (nullable = true)\n",
      " |-- p_name: string (nullable = true)\n",
      " |-- p_amount: integer (nullable = true)\n",
      "\n"
     ]
    },
    {
     "data": {
      "text/html": [
       "<table border='1'>\n",
       "<tr><th>p_time</th><th>p_uid</th><th>p_id</th><th>p_name</th><th>p_amount</th></tr>\n",
       "<tr><td>1603571550</td><td>1</td><td>2000</td><td>LG DIOS</td><td>2000000</td></tr>\n",
       "<tr><td>1603614755</td><td>1</td><td>2000</td><td>LG Gram</td><td>1800000</td></tr>\n",
       "<tr><td>1603593500</td><td>2</td><td>2001</td><td>LG Cyon</td><td>1400000</td></tr>\n",
       "<tr><td>1603572155</td><td>3</td><td>2002</td><td>LG TV</td><td>1000000</td></tr>\n",
       "<tr><td>1603585955</td><td>5</td><td>2004</td><td>LG Gram</td><td>3500000</td></tr>\n",
       "<tr><td>1603586155</td><td>5</td><td>2004</td><td>LG TV</td><td>2500000</td></tr>\n",
       "</table>\n"
      ],
      "text/plain": [
       "+----------+-----+----+-------+--------+\n",
       "|    p_time|p_uid|p_id| p_name|p_amount|\n",
       "+----------+-----+----+-------+--------+\n",
       "|1603571550|    1|2000|LG DIOS| 2000000|\n",
       "|1603614755|    1|2000|LG Gram| 1800000|\n",
       "|1603593500|    2|2001|LG Cyon| 1400000|\n",
       "|1603572155|    3|2002|  LG TV| 1000000|\n",
       "|1603585955|    5|2004|LG Gram| 3500000|\n",
       "|1603586155|    5|2004|  LG TV| 2500000|\n",
       "+----------+-----+----+-------+--------+"
      ]
     },
     "metadata": {},
     "output_type": "display_data"
    },
    {
     "name": "stdout",
     "output_type": "stream",
     "text": [
      "root\n",
      " |-- a_id: string (nullable = true)\n",
      " |-- a_tag: string (nullable = true)\n",
      " |-- a_time: long (nullable = true)\n",
      " |-- a_timestamp: string (nullable = true)\n",
      " |-- a_uid: long (nullable = true)\n",
      "\n"
     ]
    },
    {
     "data": {
      "text/html": [
       "<table border='1'>\n",
       "<tr><th>a_id</th><th>a_tag</th><th>a_time</th><th>a_timestamp</th><th>a_uid</th></tr>\n",
       "<tr><td>logout</td><td>access</td><td>1603570200</td><td>2020-10-25 05:10:00.000</td><td>2</td></tr>\n",
       "<tr><td>logout</td><td>access</td><td>1603589500</td><td>2020-10-25 10:31:40.000</td><td>5</td></tr>\n",
       "<tr><td>logout</td><td>access</td><td>1603579200</td><td>2020-10-25 07:40:00.000</td><td>3</td></tr>\n",
       "<tr><td>logout</td><td>access</td><td>1603567200</td><td>2020-10-25 04:20:00.000</td><td>1</td></tr>\n",
       "<tr><td>logout</td><td>access</td><td>1603584200</td><td>2020-10-25 09:03:20.000</td><td>4</td></tr>\n",
       "<tr><td>login</td><td>access</td><td>1603577200</td><td>2020-10-25 07:06:40.000</td><td>3</td></tr>\n",
       "<tr><td>login</td><td>access</td><td>1603586500</td><td>2020-10-25 09:41:40.000</td><td>5</td></tr>\n",
       "<tr><td>login</td><td>access</td><td>1603573200</td><td>2020-10-25 06:00:00.000</td><td>2</td></tr>\n",
       "<tr><td>login</td><td>access</td><td>1603584500</td><td>2020-10-25 09:08:20.000</td><td>4</td></tr>\n",
       "<tr><td>login</td><td>access</td><td>1603569200</td><td>2020-10-25 04:53:20.000</td><td>2</td></tr>\n",
       "<tr><td>login</td><td>access</td><td>1603580200</td><td>2020-10-25 07:56:40.000</td><td>4</td></tr>\n",
       "<tr><td>login</td><td>access</td><td>1603565200</td><td>2020-10-25 03:46:40.000</td><td>1</td></tr>\n",
       "</table>\n"
      ],
      "text/plain": [
       "+------+------+----------+-----------------------+-----+\n",
       "|  a_id| a_tag|    a_time|            a_timestamp|a_uid|\n",
       "+------+------+----------+-----------------------+-----+\n",
       "|logout|access|1603570200|2020-10-25 05:10:00.000|    2|\n",
       "|logout|access|1603589500|2020-10-25 10:31:40.000|    5|\n",
       "|logout|access|1603579200|2020-10-25 07:40:00.000|    3|\n",
       "|logout|access|1603567200|2020-10-25 04:20:00.000|    1|\n",
       "|logout|access|1603584200|2020-10-25 09:03:20.000|    4|\n",
       "| login|access|1603577200|2020-10-25 07:06:40.000|    3|\n",
       "| login|access|1603586500|2020-10-25 09:41:40.000|    5|\n",
       "| login|access|1603573200|2020-10-25 06:00:00.000|    2|\n",
       "| login|access|1603584500|2020-10-25 09:08:20.000|    4|\n",
       "| login|access|1603569200|2020-10-25 04:53:20.000|    2|\n",
       "| login|access|1603580200|2020-10-25 07:56:40.000|    4|\n",
       "| login|access|1603565200|2020-10-25 03:46:40.000|    1|\n",
       "+------+------+----------+-----------------------+-----+"
      ]
     },
     "metadata": {},
     "output_type": "display_data"
    }
   ],
   "source": [
    "# 여기에 실습 코드를 작성하고 실행하세요 (Shift+Enter)\n",
    "user25 = spark.read.parquet(\"user/20201025\")\n",
    "user25.printSchema()\n",
    "user25.show(truncate=False)\n",
    "display(user25)\n",
    "\n",
    "purchase25 = spark.read.parquet(\"purchase/20201025\")\n",
    "purchase25.createOrReplaceTempView(\"purchase25\")\n",
    "purchase25.printSchema()\n",
    "display(purchase25)\n",
    "\n",
    "accesslog = spark.read.option(\"inferSchema\", \"true\").json(\"access/20201025\")\n",
    "accesslog.createOrReplaceTempView(\"accesslog\")\n",
    "access25 = spark.sql(\"select a_id, a_tag, a_time, a_timestamp, a_uid from accesslog\")\n",
    "access25.createOrReplaceTempView(\"access25\")\n",
    "access25.printSchema()\n",
    "display(access25)"
   ]
  },
  {
   "cell_type": "markdown",
   "metadata": {},
   "source": [
    "## 5-2. 수집된 고객, 매출 및 접속 임시 테이블 생성\n",
    "### 5-2-1. 데이터프레임을 이용하여 임시테이블 생성하기\n",
    "- 각각 user25, purchase25, access25 으로 생성하세요.  \n",
    "\n",
    "<br>\n",
    "<details><summary> 정답확인</summary>\n",
    "\n",
    "> `show tables` 결과로 `user25`, `purchase25`, `access25` 3개 테이블이 출력되면 성공입니다\n",
    "\n",
    "</details>\n",
    "<br>\n"
   ]
  },
  {
   "cell_type": "code",
   "execution_count": 4,
   "metadata": {},
   "outputs": [
    {
     "data": {
      "text/html": [
       "<table border='1'>\n",
       "<tr><th>database</th><th>tableName</th><th>isTemporary</th></tr>\n",
       "<tr><td></td><td>access25</td><td>true</td></tr>\n",
       "<tr><td></td><td>purchase25</td><td>true</td></tr>\n",
       "<tr><td></td><td>user25</td><td>true</td></tr>\n",
       "</table>\n"
      ],
      "text/plain": [
       "+--------+----------+-----------+\n",
       "|database| tableName|isTemporary|\n",
       "+--------+----------+-----------+\n",
       "|        |  access25|       true|\n",
       "|        |purchase25|       true|\n",
       "|        |    user25|       true|\n",
       "+--------+----------+-----------+"
      ]
     },
     "execution_count": 4,
     "metadata": {},
     "output_type": "execute_result"
    }
   ],
   "source": [
    "# 여기에 실습 코드를 작성하고 실행하세요 (Shift+Enter)\n",
    "user25.createOrReplaceTempView(\"user25\")\n",
    "purchase25.createOrReplaceTempView(\"purchase25\")\n",
    "access25.createOrReplaceTempView(\"access25\")\n",
    "spark.sql(\"show tables '*25'\")"
   ]
  },
  {
   "cell_type": "markdown",
   "metadata": {},
   "source": [
    "## 5-3. SparkSQL을 이용하여 테이블 별 데이터프레임 생성하기\n",
    "### 5-3-1. 아래에 비어있는 조건을 채워서 올바른 코드를 작성하세요\n",
    "* 아래의 조건이 만족되어야 합니다\n",
    "  - 2020/10/25 에 등록(`u_signup`)된 유저만 포함될 것 <kbd>`u_signup` >= '20201025' and `u_signup` < '20201026'</kbd>\n",
    "  - 2020/10/25 에 발생한 매출(`p_time`)만 포함할 것 <kbd>`p_time` >= '2020-10-25 00:00:00' and `p_time` < '2020-10-26 00:00:00'</kbd>"
   ]
  },
  {
   "cell_type": "code",
   "execution_count": 5,
   "metadata": {},
   "outputs": [
    {
     "data": {
      "text/html": [
       "<table border='1'>\n",
       "<tr><th>u_id</th><th>u_name</th><th>u_gender</th></tr>\n",
       "<tr><td>1</td><td>정휘센</td><td>남</td></tr>\n",
       "<tr><td>2</td><td>김싸이언</td><td>남</td></tr>\n",
       "<tr><td>3</td><td>박트롬</td><td>여</td></tr>\n",
       "<tr><td>4</td><td>청소기</td><td>남</td></tr>\n",
       "<tr><td>5</td><td>유코드제로</td><td>여</td></tr>\n",
       "</table>\n"
      ],
      "text/plain": [
       "+----+----------+--------+\n",
       "|u_id|    u_name|u_gender|\n",
       "+----+----------+--------+\n",
       "|   1|    정휘센|      남|\n",
       "|   2|  김싸이언|      남|\n",
       "|   3|    박트롬|      여|\n",
       "|   4|    청소기|      남|\n",
       "|   5|유코드제로|      여|\n",
       "+----+----------+--------+"
      ]
     },
     "metadata": {},
     "output_type": "display_data"
    },
    {
     "data": {
      "text/html": [
       "<table border='1'>\n",
       "<tr><th>p_time</th><th>p_uid</th><th>p_id</th><th>p_name</th><th>p_amount</th></tr>\n",
       "<tr><td>2020-10-25 05:32:30</td><td>1</td><td>2000</td><td>LG DIOS</td><td>2000000</td></tr>\n",
       "<tr><td>2020-10-25 17:32:35</td><td>1</td><td>2000</td><td>LG Gram</td><td>1800000</td></tr>\n",
       "<tr><td>2020-10-25 11:38:20</td><td>2</td><td>2001</td><td>LG Cyon</td><td>1400000</td></tr>\n",
       "<tr><td>2020-10-25 05:42:35</td><td>3</td><td>2002</td><td>LG TV</td><td>1000000</td></tr>\n",
       "<tr><td>2020-10-25 09:32:35</td><td>5</td><td>2004</td><td>LG Gram</td><td>3500000</td></tr>\n",
       "<tr><td>2020-10-25 09:35:55</td><td>5</td><td>2004</td><td>LG TV</td><td>2500000</td></tr>\n",
       "</table>\n"
      ],
      "text/plain": [
       "+-------------------+-----+----+-------+--------+\n",
       "|             p_time|p_uid|p_id| p_name|p_amount|\n",
       "+-------------------+-----+----+-------+--------+\n",
       "|2020-10-25 05:32:30|    1|2000|LG DIOS| 2000000|\n",
       "|2020-10-25 17:32:35|    1|2000|LG Gram| 1800000|\n",
       "|2020-10-25 11:38:20|    2|2001|LG Cyon| 1400000|\n",
       "|2020-10-25 05:42:35|    3|2002|  LG TV| 1000000|\n",
       "|2020-10-25 09:32:35|    5|2004|LG Gram| 3500000|\n",
       "|2020-10-25 09:35:55|    5|2004|  LG TV| 2500000|\n",
       "+-------------------+-----+----+-------+--------+"
      ]
     },
     "metadata": {},
     "output_type": "display_data"
    },
    {
     "data": {
      "text/html": [
       "<table border='1'>\n",
       "<tr><th>a_id</th><th>a_tag</th><th>a_timestamp</th><th>a_uid</th></tr>\n",
       "<tr><td>logout</td><td>access</td><td>2020-10-25 05:10:00.000</td><td>2</td></tr>\n",
       "<tr><td>logout</td><td>access</td><td>2020-10-25 10:31:40.000</td><td>5</td></tr>\n",
       "<tr><td>logout</td><td>access</td><td>2020-10-25 07:40:00.000</td><td>3</td></tr>\n",
       "<tr><td>logout</td><td>access</td><td>2020-10-25 04:20:00.000</td><td>1</td></tr>\n",
       "<tr><td>logout</td><td>access</td><td>2020-10-25 09:03:20.000</td><td>4</td></tr>\n",
       "<tr><td>login</td><td>access</td><td>2020-10-25 07:06:40.000</td><td>3</td></tr>\n",
       "<tr><td>login</td><td>access</td><td>2020-10-25 09:41:40.000</td><td>5</td></tr>\n",
       "<tr><td>login</td><td>access</td><td>2020-10-25 06:00:00.000</td><td>2</td></tr>\n",
       "<tr><td>login</td><td>access</td><td>2020-10-25 09:08:20.000</td><td>4</td></tr>\n",
       "<tr><td>login</td><td>access</td><td>2020-10-25 04:53:20.000</td><td>2</td></tr>\n",
       "<tr><td>login</td><td>access</td><td>2020-10-25 07:56:40.000</td><td>4</td></tr>\n",
       "<tr><td>login</td><td>access</td><td>2020-10-25 03:46:40.000</td><td>1</td></tr>\n",
       "</table>\n"
      ],
      "text/plain": [
       "+------+------+-----------------------+-----+\n",
       "|  a_id| a_tag|            a_timestamp|a_uid|\n",
       "+------+------+-----------------------+-----+\n",
       "|logout|access|2020-10-25 05:10:00.000|    2|\n",
       "|logout|access|2020-10-25 10:31:40.000|    5|\n",
       "|logout|access|2020-10-25 07:40:00.000|    3|\n",
       "|logout|access|2020-10-25 04:20:00.000|    1|\n",
       "|logout|access|2020-10-25 09:03:20.000|    4|\n",
       "| login|access|2020-10-25 07:06:40.000|    3|\n",
       "| login|access|2020-10-25 09:41:40.000|    5|\n",
       "| login|access|2020-10-25 06:00:00.000|    2|\n",
       "| login|access|2020-10-25 09:08:20.000|    4|\n",
       "| login|access|2020-10-25 04:53:20.000|    2|\n",
       "| login|access|2020-10-25 07:56:40.000|    4|\n",
       "| login|access|2020-10-25 03:46:40.000|    1|\n",
       "+------+------+-----------------------+-----+"
      ]
     },
     "metadata": {},
     "output_type": "display_data"
    },
    {
     "data": {
      "text/html": [
       "<table border='1'>\n",
       "<tr><th>database</th><th>tableName</th><th>isTemporary</th></tr>\n",
       "<tr><td></td><td>access</td><td>true</td></tr>\n",
       "<tr><td></td><td>access25</td><td>true</td></tr>\n",
       "<tr><td></td><td>accesslog</td><td>true</td></tr>\n",
       "<tr><td></td><td>purchase</td><td>true</td></tr>\n",
       "<tr><td></td><td>purchase25</td><td>true</td></tr>\n",
       "<tr><td></td><td>user</td><td>true</td></tr>\n",
       "<tr><td></td><td>user25</td><td>true</td></tr>\n",
       "</table>\n"
      ],
      "text/plain": [
       "+--------+----------+-----------+\n",
       "|database| tableName|isTemporary|\n",
       "+--------+----------+-----------+\n",
       "|        |    access|       true|\n",
       "|        |  access25|       true|\n",
       "|        | accesslog|       true|\n",
       "|        |  purchase|       true|\n",
       "|        |purchase25|       true|\n",
       "|        |      user|       true|\n",
       "|        |    user25|       true|\n",
       "+--------+----------+-----------+"
      ]
     },
     "execution_count": 5,
     "metadata": {},
     "output_type": "execute_result"
    }
   ],
   "source": [
    "# 여기에 실습 코드를 작성하고 실행하세요 (Shift+Enter)\n",
    "u_signup_condition = \"u_signup >= '20201025' and u_signup < '20201026'\"\n",
    "user = spark.sql(\"select u_id, u_name, u_gender from user25\").where(u_signup_condition)\n",
    "user.createOrReplaceTempView(\"user\")\n",
    "display(user)\n",
    "\n",
    "p_time_condition = \"p_time >= '2020-10-25 00:00:00' and p_time < '2020-10-26 00:00:00'\"\n",
    "purchase = spark.sql(\"select from_unixtime(p_time) as p_time, p_uid, p_id, p_name, p_amount from purchase25\").where(p_time_condition)\n",
    "purchase.createOrReplaceTempView(\"purchase\")\n",
    "display(purchase)\n",
    "\n",
    "access = spark.sql(\"select a_id, a_tag, a_timestamp, a_uid from access25\")\n",
    "access.createOrReplaceTempView(\"access\")\n",
    "display(access)\n",
    "\n",
    "spark.sql(\"show tables\")"
   ]
  },
  {
   "cell_type": "markdown",
   "metadata": {},
   "source": [
    "## 5-4. 생성된 테이블을 SQL 문을 이용하여 탐색하기\n",
    "> SQL 혹은 DataFrame API 어느 쪽을 이용하여도 무관하며, 결과만 동일하게 나오면 정답입니다\n",
    "\n",
    "### 5-4-1. 성별 출력\n",
    "- 성별이 '남'인 목록을 출력하세요. \n",
    "- 성별이 '여'인 목록을 출력하세요\n",
    "\n",
    "<details><summary> 정답확인</summary>\n",
    "\n",
    "> 여 가 2 row, 남은 3 row 가 출력되면 정답입니다\n",
    "\n",
    "    \n",
    "+----+--------+--------+  \n",
    "|u_id|  u_name|u_gender|  \n",
    "+----+--------+--------+  \n",
    "|   1|  정휘센|      남|  \n",
    "|   2|김싸이언|      남|  \n",
    "|   4|  청소기|      남|  \n",
    "+----+--------+--------+  \n",
    "\n",
    "+----+----------+--------+  \n",
    "|u_id|    u_name|u_gender|  \n",
    "+----+----------+--------+  \n",
    "|   3|    박트롬|      여|  \n",
    "|   5|유코드제로|      여|  \n",
    "+----+----------+--------+  \n",
    "  \n",
    "</details>\n",
    "<br>"
   ]
  },
  {
   "cell_type": "code",
   "execution_count": 53,
   "metadata": {},
   "outputs": [
    {
     "name": "stdout",
     "output_type": "stream",
     "text": [
      "+----+--------+--------+\n",
      "|u_id|  u_name|u_gender|\n",
      "+----+--------+--------+\n",
      "|   1|  정휘센|      남|\n",
      "|   2|김싸이언|      남|\n",
      "|   4|  청소기|      남|\n",
      "+----+--------+--------+\n",
      "\n",
      "+----+----------+--------+\n",
      "|u_id|    u_name|u_gender|\n",
      "+----+----------+--------+\n",
      "|   3|    박트롬|      여|\n",
      "|   5|유코드제로|      여|\n",
      "+----+----------+--------+\n",
      "\n"
     ]
    }
   ],
   "source": [
    "# 여기에 실습 코드를 작성하고 실행하세요 (Shift+Enter)\n",
    "spark.sql(\"describe user\")\n",
    "spark.sql(\"select * from user\")\n",
    "whereCondition_m = \"u_gender = '남'\"\n",
    "male = spark.sql(\"select * from user\").where(whereCondition_m)\n",
    "male.show()\n",
    "\n",
    "whereCondition_f = \"u_gender = '여'\"\n",
    "female = spark.sql(\"select * from user\").where(whereCondition_f)\n",
    "female.show()"
   ]
  },
  {
   "cell_type": "markdown",
   "metadata": {},
   "source": [
    "### 5-4-2. 상품금액이 200만원을 초과하는 매출 목록을 출력하세요\n",
    "\n",
    "\n",
    "<details><summary> 정답확인</summary>\n",
    "\n",
    "|              p_time | p_uid | p_id |  p_name | p_amount |\n",
    "|--------------------:|------:|-----:|--------:|---------:|\n",
    "| 2020-10-25 09:32:35 |     5 | 2004 | LG Gram |  3500000 |\n",
    "| 2020-10-25 09:35:55 |     5 | 2004 |   LG TV |  2500000 |\n",
    "\n",
    "  \n",
    "</details>\n",
    "<br>"
   ]
  },
  {
   "cell_type": "code",
   "execution_count": 7,
   "metadata": {},
   "outputs": [
    {
     "data": {
      "text/html": [
       "<table border='1'>\n",
       "<tr><th>p_time</th><th>p_uid</th><th>p_id</th><th>p_name</th><th>p_amount</th></tr>\n",
       "<tr><td>2020-10-25 09:32:35</td><td>5</td><td>2004</td><td>LG Gram</td><td>3500000</td></tr>\n",
       "<tr><td>2020-10-25 09:35:55</td><td>5</td><td>2004</td><td>LG TV</td><td>2500000</td></tr>\n",
       "</table>\n"
      ],
      "text/plain": [
       "+-------------------+-----+----+-------+--------+\n",
       "|             p_time|p_uid|p_id| p_name|p_amount|\n",
       "+-------------------+-----+----+-------+--------+\n",
       "|2020-10-25 09:32:35|    5|2004|LG Gram| 3500000|\n",
       "|2020-10-25 09:35:55|    5|2004|  LG TV| 2500000|\n",
       "+-------------------+-----+----+-------+--------+"
      ]
     },
     "execution_count": 7,
     "metadata": {},
     "output_type": "execute_result"
    }
   ],
   "source": [
    "# 여기에 실습 코드를 작성하고 실행하세요 (Shift+Enter)\n",
    "spark.sql(\"describe purchase\")\n",
    "spark.sql(\"select * from purchase\")\n",
    "selectClause = \"select * from purchase where p_amount > 2000000\"\n",
    "spark.sql(selectClause)"
   ]
  },
  {
   "cell_type": "markdown",
   "metadata": {},
   "source": [
    "### 5-4-3. GroupBy 구문을 이용하여 로그인, 로그아웃 횟수를 출력하세요\n",
    "<details><summary> 정답확인</summary>\n",
    "\n",
    "|   a_id | count(a_id) | p_id |\n",
    "|-------:|------------:|-----:|\n",
    "| logout |           5 | 2004 |\n",
    "|  login |           7 | 2004 |\n",
    "  \n",
    "</details>\n",
    "<br>"
   ]
  },
  {
   "cell_type": "code",
   "execution_count": 8,
   "metadata": {},
   "outputs": [
    {
     "name": "stdout",
     "output_type": "stream",
     "text": [
      "+-----------+---------+-------+\n",
      "|   col_name|data_type|comment|\n",
      "+-----------+---------+-------+\n",
      "|       a_id|   string|   null|\n",
      "|      a_tag|   string|   null|\n",
      "|a_timestamp|   string|   null|\n",
      "|      a_uid|   bigint|   null|\n",
      "+-----------+---------+-------+\n",
      "\n",
      "+------+------+--------------------+-----+\n",
      "|  a_id| a_tag|         a_timestamp|a_uid|\n",
      "+------+------+--------------------+-----+\n",
      "|logout|access|2020-10-25 05:10:...|    2|\n",
      "|logout|access|2020-10-25 10:31:...|    5|\n",
      "|logout|access|2020-10-25 07:40:...|    3|\n",
      "|logout|access|2020-10-25 04:20:...|    1|\n",
      "|logout|access|2020-10-25 09:03:...|    4|\n",
      "| login|access|2020-10-25 07:06:...|    3|\n",
      "| login|access|2020-10-25 09:41:...|    5|\n",
      "| login|access|2020-10-25 06:00:...|    2|\n",
      "| login|access|2020-10-25 09:08:...|    4|\n",
      "| login|access|2020-10-25 04:53:...|    2|\n",
      "| login|access|2020-10-25 07:56:...|    4|\n",
      "| login|access|2020-10-25 03:46:...|    1|\n",
      "+------+------+--------------------+-----+\n",
      "\n"
     ]
    },
    {
     "data": {
      "text/html": [
       "<table border='1'>\n",
       "<tr><th>a_id</th><th>count(a_id)</th></tr>\n",
       "<tr><td>logout</td><td>5</td></tr>\n",
       "<tr><td>login</td><td>7</td></tr>\n",
       "</table>\n"
      ],
      "text/plain": [
       "+------+-----------+\n",
       "|  a_id|count(a_id)|\n",
       "+------+-----------+\n",
       "|logout|          5|\n",
       "| login|          7|\n",
       "+------+-----------+"
      ]
     },
     "execution_count": 8,
     "metadata": {},
     "output_type": "execute_result"
    }
   ],
   "source": [
    "# 여기에 실습 코드를 작성하고 실행하세요 (Shift+Enter)\n",
    "spark.sql(\"describe access\").show()\n",
    "spark.sql(\"select * from access\").show()\n",
    "groupByClause=\"select a_id, count(a_id) from access group by a_id\"\n",
    "spark.sql(groupByClause)"
   ]
  },
  {
   "cell_type": "markdown",
   "metadata": {},
   "source": [
    "# 6. 기본 지표 생성\n",
    "> 생성된 테이블을 통하여 기본 지표(DAU, DPU, DR, ARPU, ARPPU) 를 생성합니다\n",
    "## 6-1. DAU (Daily Activer User) 지표를 생성하세요\n",
    "* 아래의 조건이 만족하는 코드를 작성하세요\n",
    "  - 지표정의 : 지정한 일자의 접속한 유저 수 <kbd>count(distinct `a_uid`)</kbd>\n",
    "  - 지표산식 : 지정한 일자의 접속 테이블에 로그(로그인 혹은 로그아웃)가 한 번 이상 발생한 이용자의 빈도수\n",
    "  - 입력형태 : access 테이블\n",
    "  - 출력형태 : number (컬럼명: DAU)\n",
    "\n",
    "* v_dau 라는 파이썬 변수에 DAU 결과를 저장하세요.\n",
    "  \n",
    "<details><summary> 정답확인</summary>\n",
    "  \n",
    "> DAU 값이 5 가 나오면 정답입니다 \n",
    "  \n",
    "</details>\n",
    "<br>\n"
   ]
  },
  {
   "cell_type": "code",
   "execution_count": 14,
   "metadata": {},
   "outputs": [
    {
     "data": {
      "text/html": [
       "<table border='1'>\n",
       "<tr><th>a_id</th><th>a_tag</th><th>a_timestamp</th><th>a_uid</th></tr>\n",
       "<tr><td>logout</td><td>access</td><td>2020-10-25 05:10:00.000</td><td>2</td></tr>\n",
       "<tr><td>logout</td><td>access</td><td>2020-10-25 10:31:40.000</td><td>5</td></tr>\n",
       "<tr><td>logout</td><td>access</td><td>2020-10-25 07:40:00.000</td><td>3</td></tr>\n",
       "<tr><td>logout</td><td>access</td><td>2020-10-25 04:20:00.000</td><td>1</td></tr>\n",
       "<tr><td>logout</td><td>access</td><td>2020-10-25 09:03:20.000</td><td>4</td></tr>\n",
       "<tr><td>login</td><td>access</td><td>2020-10-25 07:06:40.000</td><td>3</td></tr>\n",
       "<tr><td>login</td><td>access</td><td>2020-10-25 09:41:40.000</td><td>5</td></tr>\n",
       "<tr><td>login</td><td>access</td><td>2020-10-25 06:00:00.000</td><td>2</td></tr>\n",
       "<tr><td>login</td><td>access</td><td>2020-10-25 09:08:20.000</td><td>4</td></tr>\n",
       "<tr><td>login</td><td>access</td><td>2020-10-25 04:53:20.000</td><td>2</td></tr>\n",
       "<tr><td>login</td><td>access</td><td>2020-10-25 07:56:40.000</td><td>4</td></tr>\n",
       "<tr><td>login</td><td>access</td><td>2020-10-25 03:46:40.000</td><td>1</td></tr>\n",
       "</table>\n"
      ],
      "text/plain": [
       "DataFrame[a_id: string, a_tag: string, a_timestamp: string, a_uid: bigint]"
      ]
     },
     "metadata": {},
     "output_type": "display_data"
    },
    {
     "data": {
      "text/html": [
       "<table border='1'>\n",
       "<tr><th>DAU</th></tr>\n",
       "<tr><td>5</td></tr>\n",
       "</table>\n"
      ],
      "text/plain": [
       "+---+\n",
       "|DAU|\n",
       "+---+\n",
       "|  5|\n",
       "+---+"
      ]
     },
     "metadata": {},
     "output_type": "display_data"
    },
    {
     "name": "stdout",
     "output_type": "stream",
     "text": [
      "5\n"
     ]
    }
   ],
   "source": [
    "# 여기에 실습 코드를 작성하고 실행하세요 (Shift+Enter)\n",
    "display(access)\n",
    "distinctAccessUser = \"select count(distinct a_uid) as DAU from access\"\n",
    "dau = spark.sql(distinctAccessUser)\n",
    "display(dau)\n",
    "\n",
    "v_dau = dau.collect()[0][\"DAU\"]\n",
    "print(v_dau)"
   ]
  },
  {
   "cell_type": "markdown",
   "metadata": {},
   "source": [
    "## 6-2. DPU (Daily Paying User) 지표를 생성하세요\n",
    "* 아래의 조건이 만족하는 코드를 작성하세요\n",
    "  - 지표정의 : 지정한 일자의 구매 유저 수 <kbd>count(distinct `p_uid`)</kbd>\n",
    "  - 지표산식 : 지정한 일자의 구매 테이블에 한 번이라도 구매가 발생한 이용자의 빈도수\n",
    "  - 입력형태 : purchase 테이블\n",
    "  - 출력형태 : number (컬럼명: PU)\n",
    "* v_pu 라는 파이썬 변수에 PU 결과를 저장하세요.\n",
    "\n",
    "<details><summary> 정답확인</summary>\n",
    "\n",
    "> PU 값이 4 가 나오면 정답입니다\n",
    "\n",
    "</details>\n",
    "<br>\n",
    "\n"
   ]
  },
  {
   "cell_type": "code",
   "execution_count": 15,
   "metadata": {},
   "outputs": [
    {
     "data": {
      "text/html": [
       "<table border='1'>\n",
       "<tr><th>p_time</th><th>p_uid</th><th>p_id</th><th>p_name</th><th>p_amount</th></tr>\n",
       "<tr><td>2020-10-25 05:32:30</td><td>1</td><td>2000</td><td>LG DIOS</td><td>2000000</td></tr>\n",
       "<tr><td>2020-10-25 17:32:35</td><td>1</td><td>2000</td><td>LG Gram</td><td>1800000</td></tr>\n",
       "<tr><td>2020-10-25 11:38:20</td><td>2</td><td>2001</td><td>LG Cyon</td><td>1400000</td></tr>\n",
       "<tr><td>2020-10-25 05:42:35</td><td>3</td><td>2002</td><td>LG TV</td><td>1000000</td></tr>\n",
       "<tr><td>2020-10-25 09:32:35</td><td>5</td><td>2004</td><td>LG Gram</td><td>3500000</td></tr>\n",
       "<tr><td>2020-10-25 09:35:55</td><td>5</td><td>2004</td><td>LG TV</td><td>2500000</td></tr>\n",
       "</table>\n"
      ],
      "text/plain": [
       "DataFrame[p_time: string, p_uid: int, p_id: int, p_name: string, p_amount: int]"
      ]
     },
     "metadata": {},
     "output_type": "display_data"
    },
    {
     "data": {
      "text/html": [
       "<table border='1'>\n",
       "<tr><th>PU</th></tr>\n",
       "<tr><td>4</td></tr>\n",
       "</table>\n"
      ],
      "text/plain": [
       "+---+\n",
       "| PU|\n",
       "+---+\n",
       "|  4|\n",
       "+---+"
      ]
     },
     "metadata": {},
     "output_type": "display_data"
    },
    {
     "name": "stdout",
     "output_type": "stream",
     "text": [
      "4\n"
     ]
    }
   ],
   "source": [
    "# 여기에 실습 코드를 작성하고 실행하세요 (Shift+Enter)\n",
    "\n",
    "display(purchase)\n",
    "distinctPayingUser = \"select count(distinct p_uid) as PU from purchase\"\n",
    "pu = spark.sql(distinctPayingUser)\n",
    "display(pu)\n",
    "v_pu = pu.collect()[0][\"PU\"]\n",
    "print(v_pu)"
   ]
  },
  {
   "cell_type": "markdown",
   "metadata": {},
   "source": [
    "## 6-3. DR (Daily Revenue) 지표를 생성하세요\n",
    "* 아래의 조건이 만족하는 코드를 작성하세요\n",
    "  - 지표정의 : 지정한 일자에 발생한 총 매출 금액 <kbd>sum(`p_amount`)</kbd>\n",
    "  - 지표산식 : 지정한 일자의 구매 테이블에 저장된 전체 매출 금액의 합\n",
    "  - 입력형태 : access 테이블\n",
    "  - 출력형태 : number (컬럼명: DR)\n",
    "* v_dr 라는 파이썬 변수에 DR 결과를 저장하세요.\n",
    "\n",
    "<details><summary> 정답확인</summary>\n",
    "\n",
    "> DR 값이 12200000 이 나오면 정답입니다\n",
    "\n",
    "</details>\n",
    "<br> "
   ]
  },
  {
   "cell_type": "code",
   "execution_count": 16,
   "metadata": {},
   "outputs": [
    {
     "data": {
      "text/html": [
       "<table border='1'>\n",
       "<tr><th>p_time</th><th>p_uid</th><th>p_id</th><th>p_name</th><th>p_amount</th></tr>\n",
       "<tr><td>2020-10-25 05:32:30</td><td>1</td><td>2000</td><td>LG DIOS</td><td>2000000</td></tr>\n",
       "<tr><td>2020-10-25 17:32:35</td><td>1</td><td>2000</td><td>LG Gram</td><td>1800000</td></tr>\n",
       "<tr><td>2020-10-25 11:38:20</td><td>2</td><td>2001</td><td>LG Cyon</td><td>1400000</td></tr>\n",
       "<tr><td>2020-10-25 05:42:35</td><td>3</td><td>2002</td><td>LG TV</td><td>1000000</td></tr>\n",
       "<tr><td>2020-10-25 09:32:35</td><td>5</td><td>2004</td><td>LG Gram</td><td>3500000</td></tr>\n",
       "<tr><td>2020-10-25 09:35:55</td><td>5</td><td>2004</td><td>LG TV</td><td>2500000</td></tr>\n",
       "</table>\n"
      ],
      "text/plain": [
       "DataFrame[p_time: string, p_uid: int, p_id: int, p_name: string, p_amount: int]"
      ]
     },
     "metadata": {},
     "output_type": "display_data"
    },
    {
     "data": {
      "text/html": [
       "<table border='1'>\n",
       "<tr><th>DR</th></tr>\n",
       "<tr><td>12200000</td></tr>\n",
       "</table>\n"
      ],
      "text/plain": [
       "+--------+\n",
       "|      DR|\n",
       "+--------+\n",
       "|12200000|\n",
       "+--------+"
      ]
     },
     "metadata": {},
     "output_type": "display_data"
    },
    {
     "name": "stdout",
     "output_type": "stream",
     "text": [
      "12200000\n"
     ]
    }
   ],
   "source": [
    "# 여기에 실습 코드를 작성하고 실행하세요 (Shift+Enter)\n",
    "display(purchase)\n",
    "sumOfDailyRevenue = \"select sum(p_amount) as DR from purchase\"\n",
    "dr = spark.sql(sumOfDailyRevenue)\n",
    "display(dr)\n",
    "v_dr = dr.collect()[0][\"DR\"]\n",
    "print(v_dr)"
   ]
  },
  {
   "cell_type": "markdown",
   "metadata": {},
   "source": [
    "## 6-4. ARPU (Average Revenue Per User) 지표를 생성하세요\n",
    "* 아래의 조건이 만족하는 코드를 작성하세요\n",
    "  - 지표정의 : 유저 당 평균 발생 매출 금액\n",
    "  - 지표산식 : 총 매출 / 전체 유저 수 = DR / DAU\n",
    "  - 입력형태 : Daily Revenue, Daily Active User\n",
    "  - 출력형태 : number (문자열: ARPU )\n",
    "\n",
    "<details><summary> 정답확인</summary>\n",
    "\n",
    "> ARPU 가 2440000.0 이 나오면 정답입니다\n",
    "\n",
    "</details>\n",
    "<br>\n"
   ]
  },
  {
   "cell_type": "code",
   "execution_count": 17,
   "metadata": {},
   "outputs": [
    {
     "name": "stdout",
     "output_type": "stream",
     "text": [
      "+------------------+\n",
      "|             ARPU |\n",
      "+------------------+\n",
      "|        2440000.0 |\n",
      "+------------------+\n"
     ]
    }
   ],
   "source": [
    "# 여기에 실습 코드를 작성하고 실행하세요 (Shift+Enter)\n",
    "# print(\"ARPU : {}\".format(<유저당 매출 금액 계산식>))\n",
    "print(\"+------------------+\")\n",
    "print(\"|             ARPU |\")\n",
    "print(\"+------------------+\")\n",
    "print(\"|        {} |\".format(v_dr / v_dau))\n",
    "print(\"+------------------+\")"
   ]
  },
  {
   "cell_type": "markdown",
   "metadata": {},
   "source": [
    "## 6-5. ARPPU (Average Revenue Per Paying User) 지표를 생성하세요\n",
    "* 아래의 조건이 만족하는 코드를 작성하세요\n",
    "  - 지표정의 : 유저 당 평균 발생 매출 금액\n",
    "  - 지표산식 : 총 매출 / 전체 유저 수 = DR / PU\n",
    "  - 입력형태 : Daily Revenue, Daily Paying User\n",
    "  - 출력형태 : number\n",
    "\n",
    "<details><summary> 정답확인</summary>\n",
    "\n",
    "> ARPPU 가 3050000.0 이 나오면 정답입니다\n",
    "\n",
    "</details>\n",
    "<br>"
   ]
  },
  {
   "cell_type": "code",
   "execution_count": 64,
   "metadata": {},
   "outputs": [
    {
     "name": "stdout",
     "output_type": "stream",
     "text": [
      "+------------------+\n",
      "|            ARPPU |\n",
      "+------------------+\n",
      "|        3050000.0 |\n",
      "+------------------+\n"
     ]
    }
   ],
   "source": [
    "# 여기에 실습 코드를 작성하고 실행하세요 (Shift+Enter)\n",
    "print(\"+------------------+\")\n",
    "print(\"|            ARPPU |\")\n",
    "print(\"+------------------+\")\n",
    "print(\"|        {} |\".format(v_dr / v_pu))\n",
    "print(\"+------------------+\")"
   ]
  },
  {
   "cell_type": "markdown",
   "metadata": {
    "tags": []
   },
   "source": [
    "# 7. 고급 지표 생성\n",
    "## 7-1. 디멘젼 테이블을 설계 합니다\n",
    "* 아래의 조건을 만족해야 합니다\n",
    "  - 지표정의 : 이용자 누적 상태 정보\n",
    "  - 지표산식 : 오늘까지 접속한 모든 유저의 정보를 저장하는 테이블\n",
    "  - 입력형태 : user, purchase, access\n",
    "  - 출력형태 : 아래와 같이 설계합니다\n",
    "\n",
    "* 디멘젼 테이블의 스키마는 아래와 같습니다\n",
    "\n",
    "| 컬럼명 | 컬럼타입 | 설명 |\n",
    "| --- | --- | --- |\n",
    "| `d_uid` | integer | 아이디 |\n",
    "| `d_name` | string | 이름 |\n",
    "| `d_gender` | string | 성별 |\n",
    "| `d_acount` | integer | 누적 접속 횟수 |\n",
    "| `d_pamount` | integer | 누적 구매 금액 |\n",
    "| `d_pcount` | integer | 누적 구매 횟수 |\n",
    "| `d_first_purchase` | string | 최초 구매 일시 |"
   ]
  },
  {
   "cell_type": "markdown",
   "metadata": {},
   "source": [
    "## 7-2. 접속한 모든 고객의 id 및 접속 횟수를 가진 데이터프레임을 생성합니다\n",
    "\n",
    "* 아래의 조건이 만족하는 코드를 작성하세요\n",
    "  - 지표정의 : 접속한 이용자 정보 <kbd>select `a_uid`, count(`a_uid`) ... group by `a_uid`</kbd>\n",
    "  - 지표산식 : 접속 여부는 'login' 로그가 존재하면 접속한 유저로 가정\n",
    "  - 출력형태 : `a_uid`, `a_count`\n",
    "  - 정렬형태 : `a_uid` asc\n",
    "\n",
    "* access 테이블로부터 `a_uid` 가 'login' 인 `a_uid` 값의 빈도수를 group by `a_uid` 집계를 통해 구하시오\n",
    "\n",
    "<details><summary> 정답확인</summary>\n",
    "    \n",
    "    \n",
    "| a_uid | a_count |\n",
    "|------:|--------:|\n",
    "|     1 |       1 |\n",
    "|     2 |       2 |\n",
    "|     3 |       1 |\n",
    "|     4 |       2 |\n",
    "|     5 |       1 |\n",
    "\n",
    "</details>\n",
    "<br>"
   ]
  },
  {
   "cell_type": "code",
   "execution_count": 20,
   "metadata": {},
   "outputs": [
    {
     "name": "stdout",
     "output_type": "stream",
     "text": [
      "root\n",
      " |-- a_id: string (nullable = true)\n",
      " |-- a_tag: string (nullable = true)\n",
      " |-- a_timestamp: string (nullable = true)\n",
      " |-- a_uid: long (nullable = true)\n",
      "\n"
     ]
    },
    {
     "data": {
      "text/html": [
       "<table border='1'>\n",
       "<tr><th>a_uid</th><th>a_count</th></tr>\n",
       "<tr><td>1</td><td>1</td></tr>\n",
       "<tr><td>2</td><td>2</td></tr>\n",
       "<tr><td>3</td><td>1</td></tr>\n",
       "<tr><td>4</td><td>2</td></tr>\n",
       "<tr><td>5</td><td>1</td></tr>\n",
       "</table>\n"
      ],
      "text/plain": [
       "+-----+-------+\n",
       "|a_uid|a_count|\n",
       "+-----+-------+\n",
       "|    1|      1|\n",
       "|    2|      2|\n",
       "|    3|      1|\n",
       "|    4|      2|\n",
       "|    5|      1|\n",
       "+-----+-------+"
      ]
     },
     "metadata": {},
     "output_type": "display_data"
    }
   ],
   "source": [
    "# 여기에 실습 코드를 작성하고 실행하세요 (Shift+Enter)\n",
    "access.printSchema()\n",
    "\n",
    "countOfAccess = \"select a_uid, count(a_uid) as a_count from access where a_id = 'login' group by a_uid\"\n",
    "accs = spark.sql(countOfAccess).orderBy(asc(\"a_uid\"))\n",
    "display(accs)"
   ]
  },
  {
   "cell_type": "markdown",
   "metadata": {},
   "source": [
    "## 7-3. 이용자별 총 매출 금액과, 구매 횟수를 가지는 데이터프레임을 생성합니다\n",
    "* 아래의 조건이 만족하는 코드를 작성하세요\n",
    "  - 지표정의 : 이용자 별 매출 횟수와, 합 <kbd>select `p_uid`, count(`p_uid`), sum(`p_amount`) ... group by `p_uid`</kbd>\n",
    "  - 지표산식 : 매출 금액을 이용자 별로 집계합니다\n",
    "  - 입력형태 : purchase\n",
    "  - 출력형태 : `p_uid`, `p_count`, `p_amount`\n",
    "  - 정렬형태 : `p_count` desc`, p_amount` desc\n",
    "* purchase 테이블로 부터 `p_uid` 별 매출 횟수(count)와, 매출 금액의 합(sum)을 구하는 집계 쿼리를 생성 하시오\n",
    "\n",
    "\n",
    "<details><summary> 정답확인</summary>\n",
    "    \n",
    "| p_uid | p_amount | p_count |\n",
    "|------:|---------:|--------:|\n",
    "|     5 |  6000000 |       2 |\n",
    "|     1 |  3800000 |       2 |\n",
    "|     2 |  1400000 |       1 |\n",
    "|     3 |  1000000 |       1 |\n",
    "</details>\n",
    "<br>\n"
   ]
  },
  {
   "cell_type": "code",
   "execution_count": 21,
   "metadata": {},
   "outputs": [
    {
     "name": "stdout",
     "output_type": "stream",
     "text": [
      "root\n",
      " |-- p_time: string (nullable = true)\n",
      " |-- p_uid: integer (nullable = true)\n",
      " |-- p_id: integer (nullable = true)\n",
      " |-- p_name: string (nullable = true)\n",
      " |-- p_amount: integer (nullable = true)\n",
      "\n"
     ]
    },
    {
     "data": {
      "text/html": [
       "<table border='1'>\n",
       "<tr><th>p_uid</th><th>p_amount</th><th>p_count</th></tr>\n",
       "<tr><td>5</td><td>6000000</td><td>2</td></tr>\n",
       "<tr><td>1</td><td>3800000</td><td>2</td></tr>\n",
       "<tr><td>2</td><td>1400000</td><td>1</td></tr>\n",
       "<tr><td>3</td><td>1000000</td><td>1</td></tr>\n",
       "</table>\n"
      ],
      "text/plain": [
       "+-----+--------+-------+\n",
       "|p_uid|p_amount|p_count|\n",
       "+-----+--------+-------+\n",
       "|    5| 6000000|      2|\n",
       "|    1| 3800000|      2|\n",
       "|    2| 1400000|      1|\n",
       "|    3| 1000000|      1|\n",
       "+-----+--------+-------+"
      ]
     },
     "metadata": {},
     "output_type": "display_data"
    }
   ],
   "source": [
    "# 여기에 실습 코드를 작성하고 실행하세요 (Shift+Enter)\n",
    "purchase.printSchema()\n",
    "sumOfCountAndAmount = \"select p_uid, sum(p_amount) as p_amount, count(p_uid) as p_count from purchase group by p_uid\"\n",
    "amts = spark.sql(sumOfCountAndAmount).orderBy(desc(\"p_count\"),desc(\"p_amount\"))\n",
    "display(amts)"
   ]
  },
  {
   "cell_type": "markdown",
   "metadata": {},
   "source": [
    "## 7-4. 이용자 정보와 구매 정보와 조인합니다\n",
    "* 아래의 조건이 만족하는 코드를 작성하세요\n",
    "  - 지표정의 : 이용자 데이터와 매출 정보의 결합 <kbd>leftSide.join(rightSide, joinCondition, joinHow)</kbd>\n",
    "  - 지표산식 : 이용자는 반드시 존재해야하며, 매출은 없어도 됩니다 (`left_outer`)\n",
    "  - 입력형태 : accs, amts\n",
    "  - 출력형태 : `a_uid`, `a_count`, `p_uid`, `p_count`, `p_amount`\n",
    "  - 정렬형태 : `a_uid` asc\n",
    "\n",
    "* 7-2 에서 생성한 accs 와 7-3 에서 생성한 amts 데이터를 uid 값을 기준으로 left outer 조인을 수행합니다\n",
    "\n",
    "<details><summary> 정답확인</summary>\n",
    "\n",
    "> uid 가 4번인 이용자만 매출 정보가 null 이면 정답입니다\n",
    "\n",
    "</details>\n",
    "<br>"
   ]
  },
  {
   "cell_type": "code",
   "execution_count": 22,
   "metadata": {},
   "outputs": [
    {
     "name": "stdout",
     "output_type": "stream",
     "text": [
      "root\n",
      " |-- a_uid: long (nullable = true)\n",
      " |-- a_count: long (nullable = false)\n",
      "\n",
      "root\n",
      " |-- p_uid: integer (nullable = true)\n",
      " |-- p_amount: long (nullable = true)\n",
      " |-- p_count: long (nullable = false)\n",
      "\n",
      "root\n",
      " |-- a_uid: long (nullable = true)\n",
      " |-- a_count: long (nullable = false)\n",
      " |-- p_uid: integer (nullable = true)\n",
      " |-- p_amount: long (nullable = true)\n",
      " |-- p_count: long (nullable = true)\n",
      "\n"
     ]
    },
    {
     "data": {
      "text/html": [
       "<table border='1'>\n",
       "<tr><th>a_uid</th><th>a_count</th><th>p_uid</th><th>p_amount</th><th>p_count</th></tr>\n",
       "<tr><td>1</td><td>1</td><td>1</td><td>3800000</td><td>2</td></tr>\n",
       "<tr><td>2</td><td>2</td><td>2</td><td>1400000</td><td>1</td></tr>\n",
       "<tr><td>3</td><td>1</td><td>3</td><td>1000000</td><td>1</td></tr>\n",
       "<tr><td>4</td><td>2</td><td>null</td><td>null</td><td>null</td></tr>\n",
       "<tr><td>5</td><td>1</td><td>5</td><td>6000000</td><td>2</td></tr>\n",
       "</table>\n"
      ],
      "text/plain": [
       "+-----+-------+-----+--------+-------+\n",
       "|a_uid|a_count|p_uid|p_amount|p_count|\n",
       "+-----+-------+-----+--------+-------+\n",
       "|    1|      1|    1| 3800000|      2|\n",
       "|    2|      2|    2| 1400000|      1|\n",
       "|    3|      1|    3| 1000000|      1|\n",
       "|    4|      2| null|    null|   null|\n",
       "|    5|      1|    5| 6000000|      2|\n",
       "+-----+-------+-----+--------+-------+"
      ]
     },
     "metadata": {},
     "output_type": "display_data"
    }
   ],
   "source": [
    "# 여기에 실습 코드를 작성하고 실행하세요 (Shift+Enter)\n",
    "accs.printSchema()\n",
    "amts.printSchema()\n",
    "joinCondition = (accs.a_uid == amts.p_uid)\n",
    "joinHow = \"left_outer\"\n",
    "dim1 = accs.join(amts, joinCondition, joinHow)\n",
    "dim1.printSchema()\n",
    "display(dim1.orderBy(asc(\"a_uid\")))"
   ]
  },
  {
   "cell_type": "markdown",
   "metadata": {},
   "source": [
    "## 7-5. 고객 정보를 추가합니다\n",
    "* 아래의 조건이 만족하는 코드를 작성하세요\n",
    "  - 지표정의 : 고객의 이름과 성별을 추가합니다 \n",
    "  - 지표산식 : dim1 테이블과 고객정보를 결합합니다\n",
    "  - 입력형태 : dim1, user\n",
    "  - 출력형태 : `a_uid`, `a_count`, `p_uid`, `p_count`, `p_amount`, `u_id`, `u_name`, `u_gender`\n",
    "  - 정렬형태 : `a_uid` asc\n",
    "\n",
    "* 7-4 에서 생성한 dim1 데이터와 기존의 user 데이터를 left outer 로 결합합니다\n",
    "\n",
    "<details><summary> 정답확인</summary>\n",
    "\n",
    "> uid 가 4번인 이용자만 매출 정보가 null 이면 정답입니다\n",
    "\n",
    "</details>\n",
    "<br>\n"
   ]
  },
  {
   "cell_type": "code",
   "execution_count": 23,
   "metadata": {},
   "outputs": [
    {
     "name": "stdout",
     "output_type": "stream",
     "text": [
      "root\n",
      " |-- a_uid: long (nullable = true)\n",
      " |-- a_count: long (nullable = false)\n",
      " |-- p_uid: integer (nullable = true)\n",
      " |-- p_amount: long (nullable = true)\n",
      " |-- p_count: long (nullable = true)\n",
      "\n",
      "root\n",
      " |-- u_id: integer (nullable = true)\n",
      " |-- u_name: string (nullable = true)\n",
      " |-- u_gender: string (nullable = true)\n",
      "\n",
      "root\n",
      " |-- a_uid: long (nullable = true)\n",
      " |-- a_count: long (nullable = false)\n",
      " |-- p_uid: integer (nullable = true)\n",
      " |-- p_amount: long (nullable = true)\n",
      " |-- p_count: long (nullable = true)\n",
      " |-- u_id: integer (nullable = true)\n",
      " |-- u_name: string (nullable = true)\n",
      " |-- u_gender: string (nullable = true)\n",
      "\n"
     ]
    },
    {
     "data": {
      "text/html": [
       "<table border='1'>\n",
       "<tr><th>a_uid</th><th>a_count</th><th>p_uid</th><th>p_amount</th><th>p_count</th><th>u_id</th><th>u_name</th><th>u_gender</th></tr>\n",
       "<tr><td>1</td><td>1</td><td>1</td><td>3800000</td><td>2</td><td>1</td><td>정휘센</td><td>남</td></tr>\n",
       "<tr><td>2</td><td>2</td><td>2</td><td>1400000</td><td>1</td><td>2</td><td>김싸이언</td><td>남</td></tr>\n",
       "<tr><td>3</td><td>1</td><td>3</td><td>1000000</td><td>1</td><td>3</td><td>박트롬</td><td>여</td></tr>\n",
       "<tr><td>4</td><td>2</td><td>null</td><td>null</td><td>null</td><td>4</td><td>청소기</td><td>남</td></tr>\n",
       "<tr><td>5</td><td>1</td><td>5</td><td>6000000</td><td>2</td><td>5</td><td>유코드제로</td><td>여</td></tr>\n",
       "</table>\n"
      ],
      "text/plain": [
       "+-----+-------+-----+--------+-------+----+----------+--------+\n",
       "|a_uid|a_count|p_uid|p_amount|p_count|u_id|    u_name|u_gender|\n",
       "+-----+-------+-----+--------+-------+----+----------+--------+\n",
       "|    1|      1|    1| 3800000|      2|   1|    정휘센|      남|\n",
       "|    2|      2|    2| 1400000|      1|   2|  김싸이언|      남|\n",
       "|    3|      1|    3| 1000000|      1|   3|    박트롬|      여|\n",
       "|    4|      2| null|    null|   null|   4|    청소기|      남|\n",
       "|    5|      1|    5| 6000000|      2|   5|유코드제로|      여|\n",
       "+-----+-------+-----+--------+-------+----+----------+--------+"
      ]
     },
     "metadata": {},
     "output_type": "display_data"
    }
   ],
   "source": [
    "# 여기에 실습 코드를 작성하고 실행하세요 (Shift+Enter)\n",
    "dim1.printSchema()\n",
    "user.printSchema()\n",
    "joinCondition = (dim1.a_uid == user.u_id)\n",
    "joinHow = \"left_outer\"\n",
    "dim2 = dim1.join(user, joinCondition, joinHow)\n",
    "dim2.printSchema()\n",
    "display(dim2.orderBy(asc(\"a_uid\")))"
   ]
  },
  {
   "cell_type": "markdown",
   "metadata": {},
   "source": [
    "## 7-6. 중복되는 ID 컬럼은 제거하고, 숫자 필드에 널값은 0으로 기본값을 넣어줍니다\n",
    "* 아래의 조건이 만족하는 코드를 작성하세요\n",
    "  - 지표정의 : 중복되는 uid 컬럼을 제거하고, 매출정보가 없는 계정은 0으로 기본값을 넣어줍니다\n",
    "  - 지표산식 : <kbd>fillDefaultValue = {\"`p_amount`\":0, \"`p_count`\":0}</kbd>\n",
    "  - 입력형태 : dim2\n",
    "  - 출력형태 : `a_uid`, `a_count`, `p_amount`, `p_count`, `u_name`, `u_gender`\n",
    "  - 정렬형태 : `a_uid` asc\n",
    "\n",
    "* 7-4 에서 생성한 dim1 데이터와 user 데이터를 결합하되, 중복 컬럼은 제거하고, 기본값을 0으로 채우는 `fillDefaultValue`를 작성하세요\n",
    "\n",
    "<details><summary> 정답확인</summary>\n",
    "\n",
    "> uid 가 4번인 이용자만 매출 정보가 0 이면 정답입니다\n",
    "\n",
    "</details>\n",
    "<br>\n"
   ]
  },
  {
   "cell_type": "code",
   "execution_count": 82,
   "metadata": {},
   "outputs": [
    {
     "name": "stdout",
     "output_type": "stream",
     "text": [
      "root\n",
      " |-- a_uid: long (nullable = true)\n",
      " |-- a_count: long (nullable = false)\n",
      " |-- p_uid: integer (nullable = true)\n",
      " |-- p_amount: long (nullable = true)\n",
      " |-- p_count: long (nullable = true)\n",
      " |-- u_id: integer (nullable = true)\n",
      " |-- u_name: string (nullable = true)\n",
      " |-- u_gender: string (nullable = true)\n",
      "\n",
      "root\n",
      " |-- a_uid: long (nullable = true)\n",
      " |-- a_count: long (nullable = false)\n",
      " |-- p_amount: long (nullable = false)\n",
      " |-- p_count: long (nullable = false)\n",
      " |-- u_name: string (nullable = true)\n",
      " |-- u_gender: string (nullable = true)\n",
      "\n"
     ]
    },
    {
     "data": {
      "text/html": [
       "<table border='1'>\n",
       "<tr><th>a_uid</th><th>a_count</th><th>p_amount</th><th>p_count</th><th>u_name</th><th>u_gender</th></tr>\n",
       "<tr><td>1</td><td>1</td><td>3800000</td><td>2</td><td>정휘센</td><td>남</td></tr>\n",
       "<tr><td>2</td><td>2</td><td>1400000</td><td>1</td><td>김싸이언</td><td>남</td></tr>\n",
       "<tr><td>3</td><td>1</td><td>1000000</td><td>1</td><td>박트롬</td><td>여</td></tr>\n",
       "<tr><td>4</td><td>2</td><td>0</td><td>0</td><td>청소기</td><td>남</td></tr>\n",
       "<tr><td>5</td><td>1</td><td>6000000</td><td>2</td><td>유코드제로</td><td>여</td></tr>\n",
       "</table>\n"
      ],
      "text/plain": [
       "+-----+-------+--------+-------+----------+--------+\n",
       "|a_uid|a_count|p_amount|p_count|    u_name|u_gender|\n",
       "+-----+-------+--------+-------+----------+--------+\n",
       "|    1|      1| 3800000|      2|    정휘센|      남|\n",
       "|    2|      2| 1400000|      1|  김싸이언|      남|\n",
       "|    3|      1| 1000000|      1|    박트롬|      여|\n",
       "|    4|      2|       0|      0|    청소기|      남|\n",
       "|    5|      1| 6000000|      2|유코드제로|      여|\n",
       "+-----+-------+--------+-------+----------+--------+"
      ]
     },
     "metadata": {},
     "output_type": "display_data"
    }
   ],
   "source": [
    "# 여기에 실습 코드를 작성하고 실행하세요 (Shift+Enter)\n",
    "dim2.printSchema()\n",
    "dim3 = dim2.drop(\"p_uid\", \"u_id\")\n",
    "fillDefaultValue = {\"p_amount\":0, \"p_count\":0}\n",
    "dim4 = dim3.na.fill(fillDefaultValue)\n",
    "dim4.printSchema()\n",
    "display(dim4.orderBy(asc(\"a_uid\")))"
   ]
  },
  {
   "cell_type": "markdown",
   "metadata": {},
   "source": [
    "## 7-7. 생성된 유저 테이블을 재사용 가능하도록 컬럼 명을 변경합니다\n",
    "* 아래의 조건이 만족하는 코드를 작성하세요\n",
    "  - 지표정의 : 컬럼명이 `d_`로 시작하도록 일괄 변경합니다\n",
    "  - 지표산식 : <kbd>withColumnRenamed(\"`a_uid`\", \"`d_uid`\" )</kbd>\n",
    "  - 입력형태 : dim4\n",
    "    - dimension 테이블이므로 `d_`로 시작하는 컬럼 규칙을 따릅니다\n",
    "    - access, purchase 와 같이 개별 테이블의 prefix 를 이용해서 `d_a<column-name>` 혹은 `d_p<column-name>` 규칙을 따릅니다\n",
    "  - 출력형태 : `d_uid`, `d_name`, `d_gender`, `d_acount`, `d_pamount`, `d_pcount`\n",
    "  - 정렬형태 : `d_uid` asc\n",
    "\n",
    "* 7-6 에서 생성한 dim4 의 모든 컬럼이 `d_`로 시작하도록 Rename 하여 정리합니다\n",
    "\n",
    "<details><summary> 정답확인</summary>\n",
    "\n",
    "> 모든 컬럼이 `d_`로 시작하고 6개의 컬럼으로 구성되어 있다면 정답입니다\n",
    "\n",
    "</details>\n",
    "<br>\n"
   ]
  },
  {
   "cell_type": "code",
   "execution_count": 88,
   "metadata": {},
   "outputs": [
    {
     "name": "stdout",
     "output_type": "stream",
     "text": [
      "root\n",
      " |-- a_uid: long (nullable = true)\n",
      " |-- a_count: long (nullable = false)\n",
      " |-- p_amount: long (nullable = false)\n",
      " |-- p_count: long (nullable = false)\n",
      " |-- u_name: string (nullable = true)\n",
      " |-- u_gender: string (nullable = true)\n",
      "\n"
     ]
    },
    {
     "data": {
      "text/html": [
       "<table border='1'>\n",
       "<tr><th>d_uid</th><th>d_name</th><th>d_gender</th><th>d_acount</th><th>d_pamount</th><th>d_pcount</th></tr>\n",
       "<tr><td>1</td><td>정휘센</td><td>남</td><td>1</td><td>3800000</td><td>2</td></tr>\n",
       "<tr><td>2</td><td>김싸이언</td><td>남</td><td>2</td><td>1400000</td><td>1</td></tr>\n",
       "<tr><td>3</td><td>박트롬</td><td>여</td><td>1</td><td>1000000</td><td>1</td></tr>\n",
       "<tr><td>4</td><td>청소기</td><td>남</td><td>2</td><td>0</td><td>0</td></tr>\n",
       "<tr><td>5</td><td>유코드제로</td><td>여</td><td>1</td><td>6000000</td><td>2</td></tr>\n",
       "</table>\n"
      ],
      "text/plain": [
       "+-----+----------+--------+--------+---------+--------+\n",
       "|d_uid|    d_name|d_gender|d_acount|d_pamount|d_pcount|\n",
       "+-----+----------+--------+--------+---------+--------+\n",
       "|    1|    정휘센|      남|       1|  3800000|       2|\n",
       "|    2|  김싸이언|      남|       2|  1400000|       1|\n",
       "|    3|    박트롬|      여|       1|  1000000|       1|\n",
       "|    4|    청소기|      남|       2|        0|       0|\n",
       "|    5|유코드제로|      여|       1|  6000000|       2|\n",
       "+-----+----------+--------+--------+---------+--------+"
      ]
     },
     "metadata": {},
     "output_type": "display_data"
    }
   ],
   "source": [
    "# 여기에 실습 코드를 작성하고 실행하세요 (Shift+Enter)\n",
    "dim4.printSchema()\n",
    "dim5 = (\n",
    "    dim4\n",
    "    .withColumnRenamed(\"a_uid\", \"d_uid\")\n",
    "    .withColumnRenamed(\"a_count\", \"d_acount\")\n",
    "    .withColumnRenamed(\"p_amount\", \"d_pamount\")\n",
    "    .withColumnRenamed(\"p_count\", \"d_pcount\")\n",
    "    .withColumnRenamed(\"u_name\", \"d_name\")\n",
    "    .withColumnRenamed(\"u_gender\", \"d_gender\")\n",
    "   .select(\"d_uid\", \"d_name\", \"d_gender\", \"d_acount\", \"d_pamount\", \"d_pcount\").orderBy(asc(\"d_uid\"))\n",
    ")\n",
    "\n",
    "\n",
    "display(dim5)"
   ]
  },
  {
   "cell_type": "markdown",
   "metadata": {},
   "source": [
    "## 7-8. 최초 구매정보를 유저 정보에 추가합니다\n",
    "* 아래의 조건이 만족하는 코드를 작성하세요\n",
    "  - 지표정의 : 최초 구매시간 정보를 추가합니다. \n",
    "    - 최초 구매정보가 없다면 null 로 두고, 그렇지 않으면 가장 과거 일자의 구매시간을 추가합니다.\n",
    "  - 지표산식 : 해당 일자의 가장 처음 구매한 구매일시를 이용하여 최초구매일을 구합니다\n",
    "    * 하루에 여러 번 구매가 있을 수 있으므로 가장 먼저 구매한 일시를 최초 구매시간으로 합니다.\n",
    "    * selectFirstPurchaseTime : min 함수를 사용해 `p_time` 의 최소값을 구합니다\n",
    "  - 입력형태 : dim5\n",
    "  - 출력형태 : `d_uid`, `d_count`, `d_amount`, `d_count`, `d_name`, `d_gender`, `d_first_purchase`\n",
    "  - 정렬형태 : `d_uid` asc\n",
    "\n",
    "<details><summary> 정답확인</summary>\n",
    "\n",
    "> 4번 고객의 제외한 모든 첫 번째 구매 일시가 출력되면 정답입니다\n",
    "\n",
    "</details>\n",
    "<br>\n"
   ]
  },
  {
   "cell_type": "code",
   "execution_count": 125,
   "metadata": {},
   "outputs": [
    {
     "data": {
      "text/html": [
       "<table border='1'>\n",
       "<tr><th>d_uid</th><th>d_name</th><th>d_gender</th><th>d_acount</th><th>d_pamount</th><th>d_pcount</th><th>d_first_purchase</th></tr>\n",
       "<tr><td>5</td><td>유코드제로</td><td>여</td><td>1</td><td>6000000</td><td>2</td><td>2020-10-25 09:32:35</td></tr>\n",
       "<tr><td>1</td><td>정휘센</td><td>남</td><td>1</td><td>3800000</td><td>2</td><td>2020-10-25 05:32:30</td></tr>\n",
       "<tr><td>3</td><td>박트롬</td><td>여</td><td>1</td><td>1000000</td><td>1</td><td>2020-10-25 05:42:35</td></tr>\n",
       "<tr><td>2</td><td>김싸이언</td><td>남</td><td>2</td><td>1400000</td><td>1</td><td>2020-10-25 11:38:20</td></tr>\n",
       "<tr><td>4</td><td>청소기</td><td>남</td><td>2</td><td>0</td><td>0</td><td>null</td></tr>\n",
       "</table>\n"
      ],
      "text/plain": [
       "+-----+----------+--------+--------+---------+--------+-------------------+\n",
       "|d_uid|    d_name|d_gender|d_acount|d_pamount|d_pcount|   d_first_purchase|\n",
       "+-----+----------+--------+--------+---------+--------+-------------------+\n",
       "|    5|유코드제로|      여|       1|  6000000|       2|2020-10-25 09:32:35|\n",
       "|    1|    정휘센|      남|       1|  3800000|       2|2020-10-25 05:32:30|\n",
       "|    3|    박트롬|      여|       1|  1000000|       1|2020-10-25 05:42:35|\n",
       "|    2|  김싸이언|      남|       2|  1400000|       1|2020-10-25 11:38:20|\n",
       "|    4|    청소기|      남|       2|        0|       0|               null|\n",
       "+-----+----------+--------+--------+---------+--------+-------------------+"
      ]
     },
     "metadata": {},
     "output_type": "display_data"
    },
    {
     "name": "stdout",
     "output_type": "stream",
     "text": [
      "root\n",
      " |-- d_uid: long (nullable = true)\n",
      " |-- d_name: string (nullable = true)\n",
      " |-- d_gender: string (nullable = true)\n",
      " |-- d_acount: long (nullable = false)\n",
      " |-- d_pamount: long (nullable = false)\n",
      " |-- d_pcount: long (nullable = false)\n",
      " |-- d_first_purchase: string (nullable = true)\n",
      "\n"
     ]
    },
    {
     "data": {
      "text/html": [
       "<table border='1'>\n",
       "<tr><th>d_uid</th><th>d_name</th><th>d_gender</th><th>d_acount</th><th>d_pamount</th><th>d_pcount</th><th>d_first_purchase</th></tr>\n",
       "<tr><td>1</td><td>정휘센</td><td>남</td><td>1</td><td>3800000</td><td>2</td><td>2020-10-25 05:32:30</td></tr>\n",
       "<tr><td>2</td><td>김싸이언</td><td>남</td><td>2</td><td>1400000</td><td>1</td><td>2020-10-25 11:38:20</td></tr>\n",
       "<tr><td>3</td><td>박트롬</td><td>여</td><td>1</td><td>1000000</td><td>1</td><td>2020-10-25 05:42:35</td></tr>\n",
       "<tr><td>4</td><td>청소기</td><td>남</td><td>2</td><td>0</td><td>0</td><td>null</td></tr>\n",
       "<tr><td>5</td><td>유코드제로</td><td>여</td><td>1</td><td>6000000</td><td>2</td><td>2020-10-25 09:32:35</td></tr>\n",
       "</table>\n"
      ],
      "text/plain": [
       "+-----+----------+--------+--------+---------+--------+-------------------+\n",
       "|d_uid|    d_name|d_gender|d_acount|d_pamount|d_pcount|   d_first_purchase|\n",
       "+-----+----------+--------+--------+---------+--------+-------------------+\n",
       "|    1|    정휘센|      남|       1|  3800000|       2|2020-10-25 05:32:30|\n",
       "|    2|  김싸이언|      남|       2|  1400000|       1|2020-10-25 11:38:20|\n",
       "|    3|    박트롬|      여|       1|  1000000|       1|2020-10-25 05:42:35|\n",
       "|    4|    청소기|      남|       2|        0|       0|               null|\n",
       "|    5|유코드제로|      여|       1|  6000000|       2|2020-10-25 09:32:35|\n",
       "+-----+----------+--------+--------+---------+--------+-------------------+"
      ]
     },
     "metadata": {},
     "output_type": "display_data"
    }
   ],
   "source": [
    "# 여기에 실습 코드를 작성하고 실행하세요 (Shift+Enter)\n",
    "# purchase.printSchema()\n",
    "selectFirstPurchaseTime = \"select p_uid, min(p_time) as d_first_purchase from purchase group by p_uid\"\n",
    "first_purchase = spark.sql(selectFirstPurchaseTime)\n",
    "# print(\"--------first_purchase--------------\")\n",
    "# first_purchase.show()\n",
    "\n",
    "dim7 = (\n",
    "    dim5.join(first_purchase, (dim5.d_uid == first_purchase.p_uid), \"left_outer\")\n",
    "    .drop(\"p_uid\")\n",
    ")\n",
    "display(dim7)\n",
    "\n",
    "dimension = dim7.orderBy(asc(\"d_uid\"))\n",
    "dimension.printSchema()\n",
    "display(dimension)"
   ]
  },
  {
   "cell_type": "markdown",
   "metadata": {},
   "source": [
    "## 7-9. 생성된 디멘젼을 저장소에 저장합니다\n",
    "* 아래의 조건이 만족하는 코드를 작성하세요\n",
    "  - 저장위치 : \"dimension/dt=20201025\" <kbd>dataFrame.write</kbd>\n",
    "  - 저장옵션 : 대상 경로가 존재하더라도 덮어씁니다 <kbd>.mode(\"overwrite\")</kbd>\n",
    "  - 저장포맷 : 파케이  <kbd>.parquet(\"dimension/dt=20201025\")</kbd>\n",
    "  \n",
    "<details><summary> 정답확인</summary>\n",
    "\n",
    "> 저장 시에 오류가 없고 대상 경로(dimension/dt=20201025)가 생성되었다면 성공입니다\n",
    "\n",
    "</details>\n",
    "<br>\n"
   ]
  },
  {
   "cell_type": "code",
   "execution_count": 126,
   "metadata": {},
   "outputs": [
    {
     "name": "stdout",
     "output_type": "stream",
     "text": [
      "root\n",
      " |-- d_uid: long (nullable = true)\n",
      " |-- d_name: string (nullable = true)\n",
      " |-- d_gender: string (nullable = true)\n",
      " |-- d_acount: long (nullable = false)\n",
      " |-- d_pamount: long (nullable = false)\n",
      " |-- d_pcount: long (nullable = false)\n",
      " |-- d_first_purchase: string (nullable = true)\n",
      "\n"
     ]
    }
   ],
   "source": [
    "# 여기에 실습 코드를 작성하고 실행하세요 (Shift+Enter)\n",
    "dimension.printSchema()\n",
    "target_dir=\"dim_users/dt=20201025\"\n",
    "dimension.write.mode(\"overwrite\").parquet(target_dir)"
   ]
  },
  {
   "cell_type": "markdown",
   "metadata": {},
   "source": [
    "## 7-10. 생성된 디멘젼을 다시 읽어서 출력합니다\n",
    "* 아래의 조건이 만족하는 코드를 작성하세요\n",
    "  - 저장위치 : \"dimension/dt=20201025\" <kbd>spark.read</kbd>\n",
    "  - 저장포맷 : 파케이  <kbd>.parquet(\"dimension/dt=20201025\")</kbd>\n",
    "\n",
    "<details><summary> 정답확인</summary>\n",
    "\n",
    "> 디멘젼 테이블을 정상적으로 읽어왔고, 동일한 스키마와 데이터가 출력되었다면 정답입니다\n",
    "\n",
    "</details>\n",
    "<br>\n"
   ]
  },
  {
   "cell_type": "code",
   "execution_count": 127,
   "metadata": {},
   "outputs": [
    {
     "name": "stdout",
     "output_type": "stream",
     "text": [
      "root\n",
      " |-- d_uid: long (nullable = true)\n",
      " |-- d_name: string (nullable = true)\n",
      " |-- d_gender: string (nullable = true)\n",
      " |-- d_acount: long (nullable = true)\n",
      " |-- d_pamount: long (nullable = true)\n",
      " |-- d_pcount: long (nullable = true)\n",
      " |-- d_first_purchase: string (nullable = true)\n",
      "\n"
     ]
    },
    {
     "data": {
      "text/html": [
       "<table border='1'>\n",
       "<tr><th>d_uid</th><th>d_name</th><th>d_gender</th><th>d_acount</th><th>d_pamount</th><th>d_pcount</th><th>d_first_purchase</th></tr>\n",
       "<tr><td>5</td><td>유코드제로</td><td>여</td><td>1</td><td>6000000</td><td>2</td><td>2020-10-25 09:32:35</td></tr>\n",
       "<tr><td>2</td><td>김싸이언</td><td>남</td><td>2</td><td>1400000</td><td>1</td><td>2020-10-25 11:38:20</td></tr>\n",
       "<tr><td>3</td><td>박트롬</td><td>여</td><td>1</td><td>1000000</td><td>1</td><td>2020-10-25 05:42:35</td></tr>\n",
       "<tr><td>1</td><td>정휘센</td><td>남</td><td>1</td><td>3800000</td><td>2</td><td>2020-10-25 05:32:30</td></tr>\n",
       "<tr><td>4</td><td>청소기</td><td>남</td><td>2</td><td>0</td><td>0</td><td>null</td></tr>\n",
       "</table>\n"
      ],
      "text/plain": [
       "+-----+----------+--------+--------+---------+--------+-------------------+\n",
       "|d_uid|    d_name|d_gender|d_acount|d_pamount|d_pcount|   d_first_purchase|\n",
       "+-----+----------+--------+--------+---------+--------+-------------------+\n",
       "|    5|유코드제로|      여|       1|  6000000|       2|2020-10-25 09:32:35|\n",
       "|    2|  김싸이언|      남|       2|  1400000|       1|2020-10-25 11:38:20|\n",
       "|    3|    박트롬|      여|       1|  1000000|       1|2020-10-25 05:42:35|\n",
       "|    1|    정휘센|      남|       1|  3800000|       2|2020-10-25 05:32:30|\n",
       "|    4|    청소기|      남|       2|        0|       0|               null|\n",
       "+-----+----------+--------+--------+---------+--------+-------------------+"
      ]
     },
     "metadata": {},
     "output_type": "display_data"
    }
   ],
   "source": [
    "# 여기에 실습 코드를 작성하고 실행하세요 (Shift+Enter)\n",
    "newDimension = spark.read.parquet(target_dir)\n",
    "newDimension.printSchema()\n",
    "display(newDimension)"
   ]
  },
  {
   "cell_type": "code",
   "execution_count": 128,
   "metadata": {},
   "outputs": [
    {
     "name": "stdout",
     "output_type": "stream",
     "text": [
      "+------------------+\n",
      "|              DAU |\n",
      "+------------------+\n",
      "|                5 |\n",
      "+------------------+\n",
      "+------------------+\n",
      "|               PU |\n",
      "+------------------+\n",
      "|                4 |\n",
      "+------------------+\n",
      "+------------------+\n",
      "|               DR |\n",
      "+------------------+\n",
      "|         12200000 |\n",
      "+------------------+\n",
      "+------------------+\n",
      "|             ARPU |\n",
      "+------------------+\n",
      "|        2440000.0 |\n",
      "+------------------+\n",
      "+------------------+\n",
      "|            ARPPU |\n",
      "+------------------+\n",
      "|        3050000.0 |\n",
      "+------------------+\n"
     ]
    }
   ],
   "source": [
    "# 최종 결과가 아래의 값과 일치하는지 확인합니다\n",
    "# DAU:5, PU:4, DR: 12200000, ARPU: 2440000.0, ARPPU: 3050000.0\n",
    "print(\"+------------------+\")\n",
    "print(\"|              DAU |\")\n",
    "print(\"+------------------+\")\n",
    "print(\"|                {} |\".format(v_dau))\n",
    "print(\"+------------------+\")\n",
    "print(\"+------------------+\")\n",
    "print(\"|               PU |\")\n",
    "print(\"+------------------+\")\n",
    "print(\"|                {} |\".format(v_pu))\n",
    "print(\"+------------------+\")\n",
    "print(\"+------------------+\")\n",
    "print(\"|               DR |\")\n",
    "print(\"+------------------+\")\n",
    "print(\"|         {} |\".format(v_dr))\n",
    "print(\"+------------------+\")\n",
    "print(\"+------------------+\")\n",
    "print(\"|             ARPU |\")\n",
    "print(\"+------------------+\")\n",
    "print(\"|        {} |\".format(v_dr / v_dau))\n",
    "print(\"+------------------+\")\n",
    "print(\"+------------------+\")\n",
    "print(\"|            ARPPU |\")\n",
    "print(\"+------------------+\")\n",
    "print(\"|        {} |\".format(v_dr / v_pu))\n",
    "print(\"+------------------+\")"
   ]
  },
  {
   "cell_type": "code",
   "execution_count": null,
   "metadata": {},
   "outputs": [],
   "source": []
  }
 ],
 "metadata": {
  "kernelspec": {
   "display_name": "Python 3 (ipykernel)",
   "language": "python",
   "name": "python3"
  },
  "language_info": {
   "codemirror_mode": {
    "name": "ipython",
    "version": 3
   },
   "file_extension": ".py",
   "mimetype": "text/x-python",
   "name": "python",
   "nbconvert_exporter": "python",
   "pygments_lexer": "ipython3",
   "version": "3.9.6"
  }
 },
 "nbformat": 4,
 "nbformat_minor": 4
}
