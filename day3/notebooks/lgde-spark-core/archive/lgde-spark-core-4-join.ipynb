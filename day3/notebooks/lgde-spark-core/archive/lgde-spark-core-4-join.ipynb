{
 "cells": [
  {
   "cell_type": "markdown",
   "metadata": {},
   "source": [
    "# 4교시 조인 연산\n",
    "\n",
    "### 목차\n",
    "* [1. 조인 유형](#1.-조인-유형)\n",
    "* [2. Inner Join](#2.-Inner-Join)\n",
    "* [3. Outer Join](#3.-Outer-Join)\n",
    "* [4. Left Semi Join](#3.-Outer-Join)\n",
    "* [5. Left Anti Join](#3.-Outer-Join)\n",
    "* [6. Natural Join](#3.-Outer-Join)\n",
    "* [7. Cross Join - Cartesian Join](#7.-Cross-Join---Cartesian-Join)\n",
    "* [8. 조인시 유의할 점](#4.-조인시-유의할-점)\n",
    "* [참고자료](#참고자료)"
   ]
  },
  {
   "cell_type": "code",
   "execution_count": 2,
   "metadata": {},
   "outputs": [
    {
     "name": "stderr",
     "output_type": "stream",
     "text": [
      "21/09/01 13:38:22 WARN NativeCodeLoader: Unable to load native-hadoop library for your platform... using builtin-java classes where applicable\n",
      "Using Spark's default log4j profile: org/apache/spark/log4j-defaults.properties\n",
      "Setting default log level to \"WARN\".\n",
      "To adjust logging level use sc.setLogLevel(newLevel). For SparkR, use setLogLevel(newLevel).\n",
      "21/09/01 13:38:24 WARN Utils: Service 'SparkUI' could not bind on port 4040. Attempting port 4041.\n"
     ]
    },
    {
     "data": {
      "text/html": [
       "\n",
       "            <div>\n",
       "                <p><b>SparkSession - in-memory</b></p>\n",
       "                \n",
       "        <div>\n",
       "            <p><b>SparkContext</b></p>\n",
       "\n",
       "            <p><a href=\"http://c1aa5f4167a8:4041\">Spark UI</a></p>\n",
       "\n",
       "            <dl>\n",
       "              <dt>Version</dt>\n",
       "                <dd><code>v3.1.2</code></dd>\n",
       "              <dt>Master</dt>\n",
       "                <dd><code>local[*]</code></dd>\n",
       "              <dt>AppName</dt>\n",
       "                <dd><code>pyspark-shell</code></dd>\n",
       "            </dl>\n",
       "        </div>\n",
       "        \n",
       "            </div>\n",
       "        "
      ],
      "text/plain": [
       "<pyspark.sql.session.SparkSession at 0x7f27649a0e50>"
      ]
     },
     "execution_count": 2,
     "metadata": {},
     "output_type": "execute_result"
    }
   ],
   "source": [
    "from pyspark.sql import *\n",
    "from pyspark.sql.functions import *\n",
    "from pyspark.sql.types import *\n",
    "from IPython.display import display, display_pretty, clear_output, JSON\n",
    "\n",
    "spark = (\n",
    "    SparkSession\n",
    "    .builder\n",
    "    .config(\"spark.sql.session.timeZone\", \"Asia/Seoul\")\n",
    "    .getOrCreate()\n",
    ")\n",
    "\n",
    "# 노트북에서 테이블 형태로 데이터 프레임 출력을 위한 설정을 합니다\n",
    "spark.conf.set(\"spark.sql.repl.eagerEval.enabled\", True) # display enabled\n",
    "spark.conf.set(\"spark.sql.repl.eagerEval.truncate\", 100) # display output columns size\n",
    "\n",
    "# 공통 데이터 위치\n",
    "home_jovyan = \"/home/jovyan\"\n",
    "work_data = f\"{home_jovyan}/work/data\"\n",
    "work_dir=!pwd\n",
    "work_dir = work_dir[0]\n",
    "\n",
    "# 로컬 환경 최적화\n",
    "spark.conf.set(\"spark.sql.shuffle.partitions\", 5) # the number of partitions to use when shuffling data for joins or aggregations.\n",
    "spark.conf.set(\"spark.sql.streaming.forceDeleteTempCheckpointLocation\", \"true\")\n",
    "spark"
   ]
  },
  {
   "cell_type": "markdown",
   "metadata": {},
   "source": [
    "## 1. 조인 유형\n",
    "\n",
    "+ 스파크의 조인 타입\n",
    "    + inner join, outer join, left outer join, right outer join\n",
    "    + left semi join: 왼쪽 데이터셋의 키가 오른쪽 데이터셋에 있는 경우에는 키가 일치하는 왼쪽 데이터셋만 유지 \n",
    "    + left anti join: 왼쪽 데이터셋의 키가 오른쪽 데이터셋에 없는 경우에는 키가 일치하지 않는 왼쪽 데이터셋만 유지\n",
    "    + natural join: 두 데이터셋에서 동일한 이름을 가진 컬럼을 암시적으로 결합하는 조인을 수행\n",
    "    + cross join: 왼쪽 데이터셋의 모든 로우와 오른쪽 데이터 셋의 모든 로우를 조합\n",
    "\n",
    "![join](images/join.png)"
   ]
  },
  {
   "cell_type": "markdown",
   "metadata": {},
   "source": [
    "### JOIN 학습을 위해 상품은 단 하나만 구매할 수 있다고 가정하여 아래와 같은 테이블이 존재합니다\n",
    "#### 정보 1. 고객은 4명이지만, 1명은 탈퇴하여 존재하지 않습니다\n",
    "| 고객 아이디 (u_id) | 고객 이름 (u_name) | 고객 성별 (u_gender) |\n",
    "| - | - | - |\n",
    "| 1 | 정휘센 | 남 |\n",
    "| 2 | 김싸이언 | 남 |\n",
    "| 3 | 박트롬 | 여 |\n",
    "\n",
    "#### 정보 2. 구매 상품은 3개이며, 탈퇴한 고객의 상품정보가 남아있습니다\n",
    "| 구매 고객 아이디 (u_id) | 구매 상품 이름 (p_name) | 구매 상품 가격 (p_amount) |\n",
    "| - | - | - |\n",
    "| 2 | LG DIOS | 2,000,000 |\n",
    "| 3 | LG Cyon | 1,800,000 |\n",
    "| 4 | LG Computer | 4,500,000 |\n"
   ]
  },
  {
   "cell_type": "code",
   "execution_count": 2,
   "metadata": {},
   "outputs": [
    {
     "name": "stdout",
     "output_type": "stream",
     "text": [
      "root\n",
      " |-- u_id: long (nullable = true)\n",
      " |-- u_name: string (nullable = true)\n",
      " |-- u_gender: string (nullable = true)\n",
      "\n"
     ]
    },
    {
     "name": "stderr",
     "output_type": "stream",
     "text": [
      "                                                                                \r"
     ]
    },
    {
     "data": {
      "text/html": [
       "<table border='1'>\n",
       "<tr><th>u_id</th><th>u_name</th><th>u_gender</th></tr>\n",
       "<tr><td>1</td><td>정휘센</td><td>남</td></tr>\n",
       "<tr><td>2</td><td>김싸이언</td><td>남</td></tr>\n",
       "<tr><td>3</td><td>박트롬</td><td>여</td></tr>\n",
       "</table>\n"
      ],
      "text/plain": [
       "+----+--------+--------+\n",
       "|u_id|  u_name|u_gender|\n",
       "+----+--------+--------+\n",
       "|   1|  정휘센|      남|\n",
       "|   2|김싸이언|      남|\n",
       "|   3|  박트롬|      여|\n",
       "+----+--------+--------+"
      ]
     },
     "metadata": {},
     "output_type": "display_data"
    },
    {
     "name": "stdout",
     "output_type": "stream",
     "text": [
      "root\n",
      " |-- p_uid: long (nullable = true)\n",
      " |-- p_name: string (nullable = true)\n",
      " |-- p_amont: long (nullable = true)\n",
      "\n"
     ]
    },
    {
     "data": {
      "text/html": [
       "<table border='1'>\n",
       "<tr><th>p_uid</th><th>p_name</th><th>p_amont</th></tr>\n",
       "<tr><td>2</td><td>LG DIOS</td><td>2000000</td></tr>\n",
       "<tr><td>3</td><td>LG Cyon</td><td>1800000</td></tr>\n",
       "<tr><td>4</td><td>LG Computer</td><td>4500000</td></tr>\n",
       "</table>\n"
      ],
      "text/plain": [
       "+-----+-----------+-------+\n",
       "|p_uid|     p_name|p_amont|\n",
       "+-----+-----------+-------+\n",
       "|    2|    LG DIOS|2000000|\n",
       "|    3|    LG Cyon|1800000|\n",
       "|    4|LG Computer|4500000|\n",
       "+-----+-----------+-------+"
      ]
     },
     "metadata": {},
     "output_type": "display_data"
    }
   ],
   "source": [
    "user = spark.createDataFrame([\n",
    "    (1, \"정휘센\", \"남\"),\n",
    "    (2, \"김싸이언\", \"남\"),\n",
    "    (3, \"박트롬\", \"여\")\n",
    "]).toDF(\"u_id\", \"u_name\", \"u_gender\")\n",
    "user.printSchema()\n",
    "display(user)\n",
    "    \n",
    "purchase = spark.createDataFrame([\n",
    "    (2, \"LG DIOS\", 2000000),\n",
    "    (3, \"LG Cyon\", 1800000),\n",
    "    (4, \"LG Computer\", 4500000)\n",
    "]).toDF(\"p_uid\", \"p_name\", \"p_amont\")\n",
    "purchase.printSchema()\n",
    "display(purchase)"
   ]
  },
  {
   "cell_type": "markdown",
   "metadata": {},
   "source": [
    "## 2. Inner Join\n",
    "\n",
    "> join type 을 명시하지 않았을 때 기본적으로 내부조인을 수행함\n",
    "\n",
    "* 왼쪽 테이블과 오른쪽 테이블에서 동일한 칼럼을 가져야함. \n",
    "* 참으로 평가되는 로우만 결합\n",
    "* 세 번째 파라미터로 조인 타입을 명확하게 지정할 수 있음\n",
    "* 두 테이블의 키가 중복되거나 여러 복사본으로 있다면 성능이 저하됨. 조인이 여러 키를 최소화하기 위해 일종의 카테시안 조인으로 변환되어 버림\n",
    "\n",
    "### 2.1 구매 정보와 일치하는 고객 정보를 조인 (inner)"
   ]
  },
  {
   "cell_type": "code",
   "execution_count": 3,
   "metadata": {},
   "outputs": [
    {
     "name": "stderr",
     "output_type": "stream",
     "text": [
      "                                                                                \r"
     ]
    },
    {
     "data": {
      "text/html": [
       "<table border='1'>\n",
       "<tr><th>u_id</th><th>u_name</th><th>u_gender</th><th>p_uid</th><th>p_name</th><th>p_amont</th></tr>\n",
       "<tr><td>3</td><td>박트롬</td><td>여</td><td>3</td><td>LG Cyon</td><td>1800000</td></tr>\n",
       "<tr><td>2</td><td>김싸이언</td><td>남</td><td>2</td><td>LG DIOS</td><td>2000000</td></tr>\n",
       "</table>\n"
      ],
      "text/plain": [
       "+----+--------+--------+-----+-------+-------+\n",
       "|u_id|  u_name|u_gender|p_uid| p_name|p_amont|\n",
       "+----+--------+--------+-----+-------+-------+\n",
       "|   3|  박트롬|      여|    3|LG Cyon|1800000|\n",
       "|   2|김싸이언|      남|    2|LG DIOS|2000000|\n",
       "+----+--------+--------+-----+-------+-------+"
      ]
     },
     "metadata": {},
     "output_type": "display_data"
    },
    {
     "data": {
      "text/plain": [
       "2"
      ]
     },
     "execution_count": 3,
     "metadata": {},
     "output_type": "execute_result"
    }
   ],
   "source": [
    "display(user.join(purchase, user.u_id == purchase.p_uid))\n",
    "user.join(purchase, user.u_id == purchase.p_uid, \"inner\").count()"
   ]
  },
  {
   "cell_type": "markdown",
   "metadata": {},
   "source": [
    "### <font color=green>1. [기본]</font> 고객 정보 f\"{work_data}/tbl_user\", 제품 정보 f\"{work_data}/tbl_purchase\" CSV 파일을 읽고\n",
    "#### 1. 각각 스키마를 출력하세요\n",
    "#### 2. 각각 데이터를 출력하세요\n",
    "#### 3. 고객(tbl_user) 테이블의 u_id 와 제품(tbl_purchase) 테이블의 p_uid 는 고객아이디 입니다\n",
    "#### 4. 고객 테이블을 기준으로 어떤 제품을 구매하였는지 inner join 을 통해 조인해 주세요\n",
    "#### 5. 조인된 최종 테이블의 스키마와 데이터를 출력해 주세요\n",
    "\n",
    "<details><summary>[실습1] 출력 결과 확인 </summary>\n",
    "\n",
    "> 아래와 유사하게 방식으로 작성 되었다면 정답입니다\n",
    "\n",
    "```python\n",
    "left = (\n",
    "    spark.read.format(\"csv\")\n",
    "    .option(\"header\", \"true\")\n",
    "    .option(\"inferSchema\", \"true\")\n",
    "    .load(f\"{work_data}/tbl_user.csv\")\n",
    ")\n",
    "left.printSchema()\n",
    "left.show()\n",
    "\n",
    "right = (\n",
    "    spark.read.format(\"csv\")\n",
    "    .option(\"header\", \"true\")\n",
    "    .option(\"inferSchema\", \"true\")\n",
    "    .load(f\"{work_data}/tbl_purchase.csv\")\n",
    ")\n",
    "right.printSchema()\n",
    "right.show()\n",
    "\n",
    "join_codition = left.u_id == right.p_uid\n",
    "answer = left.join(right, join_codition, \"inner\")\n",
    "answer.printSchema()\n",
    "display(answer)\n",
    "```\n",
    "\n",
    "</details>\n"
   ]
  },
  {
   "cell_type": "code",
   "execution_count": 4,
   "metadata": {},
   "outputs": [
    {
     "name": "stderr",
     "output_type": "stream",
     "text": [
      "                                                                                \r"
     ]
    },
    {
     "name": "stdout",
     "output_type": "stream",
     "text": [
      "root\n",
      " |-- u_id: integer (nullable = true)\n",
      " |-- u_name: string (nullable = true)\n",
      " |-- u_gender: string (nullable = true)\n",
      " |-- u_signup: integer (nullable = true)\n",
      "\n",
      "+----+----------+--------+--------+\n",
      "|u_id|    u_name|u_gender|u_signup|\n",
      "+----+----------+--------+--------+\n",
      "|   1|    정휘센|      남|19700808|\n",
      "|   2|  김싸이언|      남|19710201|\n",
      "|   3|    박트롬|      여|19951030|\n",
      "|   4|    청소기|      남|19770329|\n",
      "|   5|유코드제로|      여|20021029|\n",
      "|   6|  윤디오스|      남|20040101|\n",
      "|   7|  임모바일|      남|20040807|\n",
      "|   8|  조노트북|      여|20161201|\n",
      "|   9|  최컴퓨터|      남|20201124|\n",
      "+----+----------+--------+--------+\n",
      "\n",
      "root\n",
      " |-- p_time: integer (nullable = true)\n",
      " |-- p_uid: integer (nullable = true)\n",
      " |-- p_id: integer (nullable = true)\n",
      " |-- p_name: string (nullable = true)\n",
      " |-- p_amount: integer (nullable = true)\n",
      "\n",
      "+----------+-----+----+-----------+--------+\n",
      "|    p_time|p_uid|p_id|     p_name|p_amount|\n",
      "+----------+-----+----+-----------+--------+\n",
      "|1603651550|    0|1000|GoldStar TV|  100000|\n",
      "|1603651550|    1|2000|    LG DIOS| 2000000|\n",
      "|1603694755|    1|2001|    LG Gram| 1800000|\n",
      "|1603673500|    2|2002|    LG Cyon| 1400000|\n",
      "|1603652155|    3|2003|      LG TV| 1000000|\n",
      "|1603674500|    4|2004|LG Computer| 4500000|\n",
      "|1603665955|    5|2001|    LG Gram| 3500000|\n",
      "|1603666155|    5|2003|      LG TV| 2500000|\n",
      "+----------+-----+----+-----------+--------+\n",
      "\n",
      "root\n",
      " |-- u_id: integer (nullable = true)\n",
      " |-- u_name: string (nullable = true)\n",
      " |-- u_gender: string (nullable = true)\n",
      " |-- u_signup: integer (nullable = true)\n",
      " |-- p_time: integer (nullable = true)\n",
      " |-- p_uid: integer (nullable = true)\n",
      " |-- p_id: integer (nullable = true)\n",
      " |-- p_name: string (nullable = true)\n",
      " |-- p_amount: integer (nullable = true)\n",
      "\n"
     ]
    },
    {
     "data": {
      "text/html": [
       "<table border='1'>\n",
       "<tr><th>u_id</th><th>u_name</th><th>u_gender</th><th>u_signup</th><th>p_time</th><th>p_uid</th><th>p_id</th><th>p_name</th><th>p_amount</th></tr>\n",
       "<tr><td>1</td><td>정휘센</td><td>남</td><td>19700808</td><td>1603651550</td><td>1</td><td>2000</td><td>LG DIOS</td><td>2000000</td></tr>\n",
       "<tr><td>1</td><td>정휘센</td><td>남</td><td>19700808</td><td>1603694755</td><td>1</td><td>2001</td><td>LG Gram</td><td>1800000</td></tr>\n",
       "<tr><td>2</td><td>김싸이언</td><td>남</td><td>19710201</td><td>1603673500</td><td>2</td><td>2002</td><td>LG Cyon</td><td>1400000</td></tr>\n",
       "<tr><td>3</td><td>박트롬</td><td>여</td><td>19951030</td><td>1603652155</td><td>3</td><td>2003</td><td>LG TV</td><td>1000000</td></tr>\n",
       "<tr><td>4</td><td>청소기</td><td>남</td><td>19770329</td><td>1603674500</td><td>4</td><td>2004</td><td>LG Computer</td><td>4500000</td></tr>\n",
       "<tr><td>5</td><td>유코드제로</td><td>여</td><td>20021029</td><td>1603665955</td><td>5</td><td>2001</td><td>LG Gram</td><td>3500000</td></tr>\n",
       "<tr><td>5</td><td>유코드제로</td><td>여</td><td>20021029</td><td>1603666155</td><td>5</td><td>2003</td><td>LG TV</td><td>2500000</td></tr>\n",
       "</table>\n"
      ],
      "text/plain": [
       "+----+----------+--------+--------+----------+-----+----+-----------+--------+\n",
       "|u_id|    u_name|u_gender|u_signup|    p_time|p_uid|p_id|     p_name|p_amount|\n",
       "+----+----------+--------+--------+----------+-----+----+-----------+--------+\n",
       "|   1|    정휘센|      남|19700808|1603651550|    1|2000|    LG DIOS| 2000000|\n",
       "|   1|    정휘센|      남|19700808|1603694755|    1|2001|    LG Gram| 1800000|\n",
       "|   2|  김싸이언|      남|19710201|1603673500|    2|2002|    LG Cyon| 1400000|\n",
       "|   3|    박트롬|      여|19951030|1603652155|    3|2003|      LG TV| 1000000|\n",
       "|   4|    청소기|      남|19770329|1603674500|    4|2004|LG Computer| 4500000|\n",
       "|   5|유코드제로|      여|20021029|1603665955|    5|2001|    LG Gram| 3500000|\n",
       "|   5|유코드제로|      여|20021029|1603666155|    5|2003|      LG TV| 2500000|\n",
       "+----+----------+--------+--------+----------+-----+----+-----------+--------+"
      ]
     },
     "metadata": {},
     "output_type": "display_data"
    }
   ],
   "source": [
    "# 여기에 실습 코드를 작성하고 실행하세요 (Shift+Enter)\n"
   ]
  },
  {
   "cell_type": "markdown",
   "metadata": {},
   "source": [
    "## 3. Outer Join\n",
    "\n",
    "> 왼쪽과 오른쪽의 모든 로우를 제공. \n",
    "\n",
    "* 왼쪽이나 오른쪽 DataFrame에 일치하는 로우가 없다면 해당 위치에 null을 삽입\n",
    "* 공통 로우가 거의 없는 테이블에서 사용하면 결과값이 매우 커지고 성능 저하\n",
    "\n",
    "### 3.1 모든 고객의 정보 구매 정보를 조인 (left_outer)"
   ]
  },
  {
   "cell_type": "code",
   "execution_count": 5,
   "metadata": {},
   "outputs": [
    {
     "data": {
      "text/html": [
       "<table border='1'>\n",
       "<tr><th>u_id</th><th>u_name</th><th>u_gender</th><th>p_uid</th><th>p_name</th><th>p_amont</th></tr>\n",
       "<tr><td>1</td><td>정휘센</td><td>남</td><td>null</td><td>null</td><td>null</td></tr>\n",
       "<tr><td>2</td><td>김싸이언</td><td>남</td><td>2</td><td>LG DIOS</td><td>2000000</td></tr>\n",
       "<tr><td>3</td><td>박트롬</td><td>여</td><td>3</td><td>LG Cyon</td><td>1800000</td></tr>\n",
       "</table>\n"
      ],
      "text/plain": [
       "+----+--------+--------+-----+-------+-------+\n",
       "|u_id|  u_name|u_gender|p_uid| p_name|p_amont|\n",
       "+----+--------+--------+-----+-------+-------+\n",
       "|   1|  정휘센|      남| null|   null|   null|\n",
       "|   2|김싸이언|      남|    2|LG DIOS|2000000|\n",
       "|   3|  박트롬|      여|    3|LG Cyon|1800000|\n",
       "+----+--------+--------+-----+-------+-------+"
      ]
     },
     "execution_count": 5,
     "metadata": {},
     "output_type": "execute_result"
    }
   ],
   "source": [
    "user.join(purchase, user.u_id == purchase.p_uid, \"left_outer\").orderBy(purchase.p_uid.asc())"
   ]
  },
  {
   "cell_type": "markdown",
   "metadata": {},
   "source": [
    "### 3-2. 모든 상품에 대한 고객 정보를 조인 (right_outer)"
   ]
  },
  {
   "cell_type": "code",
   "execution_count": 6,
   "metadata": {},
   "outputs": [
    {
     "data": {
      "text/html": [
       "<table border='1'>\n",
       "<tr><th>u_id</th><th>u_name</th><th>u_gender</th><th>p_uid</th><th>p_name</th><th>p_amont</th></tr>\n",
       "<tr><td>2</td><td>김싸이언</td><td>남</td><td>2</td><td>LG DIOS</td><td>2000000</td></tr>\n",
       "<tr><td>3</td><td>박트롬</td><td>여</td><td>3</td><td>LG Cyon</td><td>1800000</td></tr>\n",
       "<tr><td>null</td><td>null</td><td>null</td><td>4</td><td>LG Computer</td><td>4500000</td></tr>\n",
       "</table>\n"
      ],
      "text/plain": [
       "+----+--------+--------+-----+-----------+-------+\n",
       "|u_id|  u_name|u_gender|p_uid|     p_name|p_amont|\n",
       "+----+--------+--------+-----+-----------+-------+\n",
       "|   2|김싸이언|      남|    2|    LG DIOS|2000000|\n",
       "|   3|  박트롬|      여|    3|    LG Cyon|1800000|\n",
       "|null|    null|    null|    4|LG Computer|4500000|\n",
       "+----+--------+--------+-----+-----------+-------+"
      ]
     },
     "execution_count": 6,
     "metadata": {},
     "output_type": "execute_result"
    }
   ],
   "source": [
    "user.join(purchase, user.u_id == purchase.p_uid, \"right_outer\").orderBy(purchase.p_uid.asc())"
   ]
  },
  {
   "cell_type": "markdown",
   "metadata": {},
   "source": [
    "### 3-3. 모든 고객과 상품에 대한 정보를 조인 (full_outer)"
   ]
  },
  {
   "cell_type": "code",
   "execution_count": 7,
   "metadata": {},
   "outputs": [
    {
     "data": {
      "text/html": [
       "<table border='1'>\n",
       "<tr><th>u_id</th><th>u_name</th><th>u_gender</th><th>p_uid</th><th>p_name</th><th>p_amont</th></tr>\n",
       "<tr><td>1</td><td>정휘센</td><td>남</td><td>null</td><td>null</td><td>null</td></tr>\n",
       "<tr><td>2</td><td>김싸이언</td><td>남</td><td>2</td><td>LG DIOS</td><td>2000000</td></tr>\n",
       "<tr><td>3</td><td>박트롬</td><td>여</td><td>3</td><td>LG Cyon</td><td>1800000</td></tr>\n",
       "<tr><td>null</td><td>null</td><td>null</td><td>4</td><td>LG Computer</td><td>4500000</td></tr>\n",
       "</table>\n"
      ],
      "text/plain": [
       "+----+--------+--------+-----+-----------+-------+\n",
       "|u_id|  u_name|u_gender|p_uid|     p_name|p_amont|\n",
       "+----+--------+--------+-----+-----------+-------+\n",
       "|   1|  정휘센|      남| null|       null|   null|\n",
       "|   2|김싸이언|      남|    2|    LG DIOS|2000000|\n",
       "|   3|  박트롬|      여|    3|    LG Cyon|1800000|\n",
       "|null|    null|    null|    4|LG Computer|4500000|\n",
       "+----+--------+--------+-----+-----------+-------+"
      ]
     },
     "execution_count": 7,
     "metadata": {},
     "output_type": "execute_result"
    }
   ],
   "source": [
    "user.join(purchase, user.u_id == purchase.p_uid, \"full_outer\").orderBy(purchase.p_uid.asc())"
   ]
  },
  {
   "cell_type": "markdown",
   "metadata": {},
   "source": [
    "## 4. Left Semi Join\n",
    "\n",
    "> 오른쪽에 존재하는 것을 기반으로 왼쪽 로우만 제공\n",
    "\n",
    "* 값이 존재하는 지 확인 용도, 값이 있다면 왼쪽 DataFrame에 중복 키가 있더라도 해당 로우는 결과에 포함\n",
    "* 기존 조인 기능과는 달리 DataFrame의 필터 기능과 유사\n",
    "* 하나의 테이블만 확실히 고려되고, 다른 테이블은 조인 조건만 확인하기 때문에 성능이 매우 좋음\n"
   ]
  },
  {
   "cell_type": "code",
   "execution_count": 8,
   "metadata": {},
   "outputs": [
    {
     "data": {
      "text/html": [
       "<table border='1'>\n",
       "<tr><th>u_id</th><th>u_name</th><th>u_gender</th></tr>\n",
       "<tr><td>2</td><td>김싸이언</td><td>남</td></tr>\n",
       "<tr><td>3</td><td>박트롬</td><td>여</td></tr>\n",
       "</table>\n"
      ],
      "text/plain": [
       "+----+--------+--------+\n",
       "|u_id|  u_name|u_gender|\n",
       "+----+--------+--------+\n",
       "|   2|김싸이언|      남|\n",
       "|   3|  박트롬|      여|\n",
       "+----+--------+--------+"
      ]
     },
     "execution_count": 8,
     "metadata": {},
     "output_type": "execute_result"
    }
   ],
   "source": [
    "user.join(purchase, user.u_id == purchase.p_uid, \"left_semi\").orderBy(user.u_id.asc())"
   ]
  },
  {
   "cell_type": "markdown",
   "metadata": {},
   "source": [
    "## 5. Left Anti Join\n",
    "+ 왼쪽 세미 조인의 반대 개념, 즉 오른쪽 DataFrame의 어떤 값도 포함하지 않음\n",
    "+ SQL의 NOT IN과 같은 스타일의 필터"
   ]
  },
  {
   "cell_type": "code",
   "execution_count": 9,
   "metadata": {},
   "outputs": [
    {
     "data": {
      "text/html": [
       "<table border='1'>\n",
       "<tr><th>u_id</th><th>u_name</th><th>u_gender</th></tr>\n",
       "<tr><td>1</td><td>정휘센</td><td>남</td></tr>\n",
       "</table>\n"
      ],
      "text/plain": [
       "+----+------+--------+\n",
       "|u_id|u_name|u_gender|\n",
       "+----+------+--------+\n",
       "|   1|정휘센|      남|\n",
       "+----+------+--------+"
      ]
     },
     "execution_count": 9,
     "metadata": {},
     "output_type": "execute_result"
    }
   ],
   "source": [
    "user.join(purchase, user.u_id == purchase.p_uid, \"left_anti\").orderBy(user.u_id.asc())"
   ]
  },
  {
   "cell_type": "markdown",
   "metadata": {},
   "source": [
    "## 6. Natural Join\n",
    "> 조인하려는 컬럼을 암시적으로 추정\n",
    "\n",
    "* 암시적인 처리는 언제나 위험하므로 비추천\n",
    "* Python join 함수는 이 기능을 지원하지 않음\n"
   ]
  },
  {
   "cell_type": "code",
   "execution_count": 10,
   "metadata": {},
   "outputs": [
    {
     "data": {
      "text/html": [
       "<table border='1'>\n",
       "<tr><th>database</th><th>tableName</th><th>isTemporary</th></tr>\n",
       "<tr><td></td><td>purchase</td><td>true</td></tr>\n",
       "<tr><td></td><td>user</td><td>true</td></tr>\n",
       "</table>\n"
      ],
      "text/plain": [
       "+--------+---------+-----------+\n",
       "|database|tableName|isTemporary|\n",
       "+--------+---------+-----------+\n",
       "|        | purchase|       true|\n",
       "|        |     user|       true|\n",
       "+--------+---------+-----------+"
      ]
     },
     "execution_count": 10,
     "metadata": {},
     "output_type": "execute_result"
    }
   ],
   "source": [
    "user.createOrReplaceTempView(\"user\")\n",
    "purchase.createOrReplaceTempView(\"purchase\")\n",
    "spark.sql(\"show tables\")"
   ]
  },
  {
   "cell_type": "code",
   "execution_count": 11,
   "metadata": {},
   "outputs": [
    {
     "name": "stdout",
     "output_type": "stream",
     "text": [
      "root\n",
      " |-- u_id: long (nullable = true)\n",
      " |-- u_name: string (nullable = true)\n",
      " |-- u_gender: string (nullable = true)\n",
      "\n",
      "root\n",
      " |-- p_uid: long (nullable = true)\n",
      " |-- p_name: string (nullable = true)\n",
      " |-- p_amont: long (nullable = true)\n",
      "\n"
     ]
    }
   ],
   "source": [
    "user.printSchema()\n",
    "purchase.printSchema()"
   ]
  },
  {
   "cell_type": "code",
   "execution_count": 12,
   "metadata": {},
   "outputs": [
    {
     "data": {
      "text/html": [
       "<table border='1'>\n",
       "<tr><th>u_id</th><th>u_name</th><th>u_gender</th><th>p_uid</th><th>p_name</th><th>p_amont</th></tr>\n",
       "<tr><td>1</td><td>정휘센</td><td>남</td><td>2</td><td>LG DIOS</td><td>2000000</td></tr>\n",
       "<tr><td>1</td><td>정휘센</td><td>남</td><td>3</td><td>LG Cyon</td><td>1800000</td></tr>\n",
       "<tr><td>1</td><td>정휘센</td><td>남</td><td>4</td><td>LG Computer</td><td>4500000</td></tr>\n",
       "<tr><td>2</td><td>김싸이언</td><td>남</td><td>2</td><td>LG DIOS</td><td>2000000</td></tr>\n",
       "<tr><td>2</td><td>김싸이언</td><td>남</td><td>3</td><td>LG Cyon</td><td>1800000</td></tr>\n",
       "<tr><td>2</td><td>김싸이언</td><td>남</td><td>4</td><td>LG Computer</td><td>4500000</td></tr>\n",
       "<tr><td>3</td><td>박트롬</td><td>여</td><td>2</td><td>LG DIOS</td><td>2000000</td></tr>\n",
       "<tr><td>3</td><td>박트롬</td><td>여</td><td>3</td><td>LG Cyon</td><td>1800000</td></tr>\n",
       "<tr><td>3</td><td>박트롬</td><td>여</td><td>4</td><td>LG Computer</td><td>4500000</td></tr>\n",
       "</table>\n"
      ],
      "text/plain": [
       "+----+--------+--------+-----+-----------+-------+\n",
       "|u_id|  u_name|u_gender|p_uid|     p_name|p_amont|\n",
       "+----+--------+--------+-----+-----------+-------+\n",
       "|   1|  정휘센|      남|    2|    LG DIOS|2000000|\n",
       "|   1|  정휘센|      남|    3|    LG Cyon|1800000|\n",
       "|   1|  정휘센|      남|    4|LG Computer|4500000|\n",
       "|   2|김싸이언|      남|    2|    LG DIOS|2000000|\n",
       "|   2|김싸이언|      남|    3|    LG Cyon|1800000|\n",
       "|   2|김싸이언|      남|    4|LG Computer|4500000|\n",
       "|   3|  박트롬|      여|    2|    LG DIOS|2000000|\n",
       "|   3|  박트롬|      여|    3|    LG Cyon|1800000|\n",
       "|   3|  박트롬|      여|    4|LG Computer|4500000|\n",
       "+----+--------+--------+-----+-----------+-------+"
      ]
     },
     "execution_count": 12,
     "metadata": {},
     "output_type": "execute_result"
    }
   ],
   "source": [
    "# 지정된 필드의 값이 일치하는 경우 해당 필드를 기준으로 조인\n",
    "spark.sql(\"SELECT * FROM user NATURAL JOIN purchase\")"
   ]
  },
  {
   "cell_type": "markdown",
   "metadata": {},
   "source": [
    "## 7. Cross Join - Cartesian Join\n",
    "\n",
    "> 교차 조인은 조건절을 기술하지 않은 내부 조인을 의미\n",
    "* 왼쪽의 모든 로우를 오른쪽의 모든 로우와 결합함(결과의 로우 수 = 왼쪽 로우 수 * 오른쪽 로우 수)\n",
    "* 큰 데이터에서 사용할 경우 out-of-memory exception 발생. 가장 좋지 않은 성능을 가진 조인. 주의해서 사용하며 특정 사례에서만 사용해야함."
   ]
  },
  {
   "cell_type": "code",
   "execution_count": 13,
   "metadata": {},
   "outputs": [
    {
     "data": {
      "text/html": [
       "<table border='1'>\n",
       "<tr><th>u_id</th><th>u_name</th><th>u_gender</th><th>p_uid</th><th>p_name</th><th>p_amont</th></tr>\n",
       "<tr><td>3</td><td>박트롬</td><td>여</td><td>3</td><td>LG Cyon</td><td>1800000</td></tr>\n",
       "<tr><td>2</td><td>김싸이언</td><td>남</td><td>2</td><td>LG DIOS</td><td>2000000</td></tr>\n",
       "</table>\n"
      ],
      "text/plain": [
       "+----+--------+--------+-----+-------+-------+\n",
       "|u_id|  u_name|u_gender|p_uid| p_name|p_amont|\n",
       "+----+--------+--------+-----+-------+-------+\n",
       "|   3|  박트롬|      여|    3|LG Cyon|1800000|\n",
       "|   2|김싸이언|      남|    2|LG DIOS|2000000|\n",
       "+----+--------+--------+-----+-------+-------+"
      ]
     },
     "execution_count": 13,
     "metadata": {},
     "output_type": "execute_result"
    }
   ],
   "source": [
    "\"\"\" 크로스 조인이지만 조건을 설정해야 하며, 조건에 부합된 결과를 출력하여 inner조인과 동일.\"\"\"\n",
    "joinExpr = user.u_id == purchase.p_uid\n",
    "joinType = \"cross\"\n",
    "user.join(purchase, on=joinExpr, how=joinType)"
   ]
  },
  {
   "cell_type": "code",
   "execution_count": 14,
   "metadata": {},
   "outputs": [
    {
     "data": {
      "text/html": [
       "<table border='1'>\n",
       "<tr><th>u_id</th><th>u_name</th><th>u_gender</th><th>p_uid</th><th>p_name</th><th>p_amont</th></tr>\n",
       "<tr><td>1</td><td>정휘센</td><td>남</td><td>2</td><td>LG DIOS</td><td>2000000</td></tr>\n",
       "<tr><td>1</td><td>정휘센</td><td>남</td><td>3</td><td>LG Cyon</td><td>1800000</td></tr>\n",
       "<tr><td>1</td><td>정휘센</td><td>남</td><td>4</td><td>LG Computer</td><td>4500000</td></tr>\n",
       "<tr><td>2</td><td>김싸이언</td><td>남</td><td>2</td><td>LG DIOS</td><td>2000000</td></tr>\n",
       "<tr><td>2</td><td>김싸이언</td><td>남</td><td>3</td><td>LG Cyon</td><td>1800000</td></tr>\n",
       "<tr><td>2</td><td>김싸이언</td><td>남</td><td>4</td><td>LG Computer</td><td>4500000</td></tr>\n",
       "<tr><td>3</td><td>박트롬</td><td>여</td><td>2</td><td>LG DIOS</td><td>2000000</td></tr>\n",
       "<tr><td>3</td><td>박트롬</td><td>여</td><td>3</td><td>LG Cyon</td><td>1800000</td></tr>\n",
       "<tr><td>3</td><td>박트롬</td><td>여</td><td>4</td><td>LG Computer</td><td>4500000</td></tr>\n",
       "</table>\n"
      ],
      "text/plain": [
       "+----+--------+--------+-----+-----------+-------+\n",
       "|u_id|  u_name|u_gender|p_uid|     p_name|p_amont|\n",
       "+----+--------+--------+-----+-----------+-------+\n",
       "|   1|  정휘센|      남|    2|    LG DIOS|2000000|\n",
       "|   1|  정휘센|      남|    3|    LG Cyon|1800000|\n",
       "|   1|  정휘센|      남|    4|LG Computer|4500000|\n",
       "|   2|김싸이언|      남|    2|    LG DIOS|2000000|\n",
       "|   2|김싸이언|      남|    3|    LG Cyon|1800000|\n",
       "|   2|김싸이언|      남|    4|LG Computer|4500000|\n",
       "|   3|  박트롬|      여|    2|    LG DIOS|2000000|\n",
       "|   3|  박트롬|      여|    3|    LG Cyon|1800000|\n",
       "|   3|  박트롬|      여|    4|LG Computer|4500000|\n",
       "+----+--------+--------+-----+-----------+-------+"
      ]
     },
     "execution_count": 14,
     "metadata": {},
     "output_type": "execute_result"
    }
   ],
   "source": [
    "user.crossJoin(purchase)"
   ]
  },
  {
   "cell_type": "markdown",
   "metadata": {},
   "source": [
    "### <font color=green>2. [기본]</font> 고객 정보 f\"{work_data}/tbl_user\", 제품 정보 f\"{work_data}/tbl_purchase\" CSV 파일을 읽고\n",
    "#### 1. 각각 스키마를 출력하세요\n",
    "#### 2. 각각 데이터를 출력하세요\n",
    "#### 3. 고객(tbl_user) 테이블의 u_id 와 제품(tbl_purchase) 테이블의 p_uid 는 고객아이디 입니다\n",
    "#### 4. 모든 상품을 기준으로 구매하 고객정보를 조인해 주세요 (left: purchase, right: user, join: left_outer)\n",
    "#### 5. 조인된 최종 테이블의 스키마와 데이터를 출력해 주세요\n",
    "#### 6. 출력시에 상품 가격의 내림차순으로 정렬해 주세요\n",
    "\n",
    "<details><summary>[실습2] 출력 결과 확인 </summary>\n",
    "\n",
    "> 아래와 유사하게 방식으로 작성 되었다면 정답입니다\n",
    "\n",
    "```python\n",
    "left = (\n",
    "    spark.read.format(\"csv\")\n",
    "    .option(\"header\", \"true\")\n",
    "    .option(\"inferSchema\", \"true\")\n",
    "    .load(f\"{work_data}/tbl_purchase.csv\")\n",
    ")\n",
    "left.printSchema()\n",
    "# left.show()\n",
    "\n",
    "right = (\n",
    "    spark.read.format(\"csv\")\n",
    "    .option(\"header\", \"true\")\n",
    "    .option(\"inferSchema\", \"true\")\n",
    "    .load(f\"{work_data}/tbl_user.csv\")\n",
    ")\n",
    "right.printSchema()\n",
    "# right.show()\n",
    "\n",
    "join_codition = left.p_uid == right.u_id\n",
    "answer = left.join(right, join_codition, \"left_outer\")\n",
    "answer.printSchema()\n",
    "display(answer.orderBy(desc(\"p_amount\")))\n",
    "```\n",
    "\n",
    "</details>\n"
   ]
  },
  {
   "cell_type": "code",
   "execution_count": 15,
   "metadata": {},
   "outputs": [
    {
     "name": "stdout",
     "output_type": "stream",
     "text": [
      "root\n",
      " |-- p_time: integer (nullable = true)\n",
      " |-- p_uid: integer (nullable = true)\n",
      " |-- p_id: integer (nullable = true)\n",
      " |-- p_name: string (nullable = true)\n",
      " |-- p_amount: integer (nullable = true)\n",
      "\n",
      "root\n",
      " |-- u_id: integer (nullable = true)\n",
      " |-- u_name: string (nullable = true)\n",
      " |-- u_gender: string (nullable = true)\n",
      " |-- u_signup: integer (nullable = true)\n",
      "\n",
      "root\n",
      " |-- p_time: integer (nullable = true)\n",
      " |-- p_uid: integer (nullable = true)\n",
      " |-- p_id: integer (nullable = true)\n",
      " |-- p_name: string (nullable = true)\n",
      " |-- p_amount: integer (nullable = true)\n",
      " |-- u_id: integer (nullable = true)\n",
      " |-- u_name: string (nullable = true)\n",
      " |-- u_gender: string (nullable = true)\n",
      " |-- u_signup: integer (nullable = true)\n",
      "\n"
     ]
    },
    {
     "data": {
      "text/html": [
       "<table border='1'>\n",
       "<tr><th>p_time</th><th>p_uid</th><th>p_id</th><th>p_name</th><th>p_amount</th><th>u_id</th><th>u_name</th><th>u_gender</th><th>u_signup</th></tr>\n",
       "<tr><td>1603674500</td><td>4</td><td>2004</td><td>LG Computer</td><td>4500000</td><td>4</td><td>청소기</td><td>남</td><td>19770329</td></tr>\n",
       "<tr><td>1603665955</td><td>5</td><td>2001</td><td>LG Gram</td><td>3500000</td><td>5</td><td>유코드제로</td><td>여</td><td>20021029</td></tr>\n",
       "<tr><td>1603666155</td><td>5</td><td>2003</td><td>LG TV</td><td>2500000</td><td>5</td><td>유코드제로</td><td>여</td><td>20021029</td></tr>\n",
       "<tr><td>1603651550</td><td>1</td><td>2000</td><td>LG DIOS</td><td>2000000</td><td>1</td><td>정휘센</td><td>남</td><td>19700808</td></tr>\n",
       "<tr><td>1603694755</td><td>1</td><td>2001</td><td>LG Gram</td><td>1800000</td><td>1</td><td>정휘센</td><td>남</td><td>19700808</td></tr>\n",
       "<tr><td>1603673500</td><td>2</td><td>2002</td><td>LG Cyon</td><td>1400000</td><td>2</td><td>김싸이언</td><td>남</td><td>19710201</td></tr>\n",
       "<tr><td>1603652155</td><td>3</td><td>2003</td><td>LG TV</td><td>1000000</td><td>3</td><td>박트롬</td><td>여</td><td>19951030</td></tr>\n",
       "<tr><td>1603651550</td><td>0</td><td>1000</td><td>GoldStar TV</td><td>100000</td><td>null</td><td>null</td><td>null</td><td>null</td></tr>\n",
       "</table>\n"
      ],
      "text/plain": [
       "+----------+-----+----+-----------+--------+----+----------+--------+--------+\n",
       "|    p_time|p_uid|p_id|     p_name|p_amount|u_id|    u_name|u_gender|u_signup|\n",
       "+----------+-----+----+-----------+--------+----+----------+--------+--------+\n",
       "|1603674500|    4|2004|LG Computer| 4500000|   4|    청소기|      남|19770329|\n",
       "|1603665955|    5|2001|    LG Gram| 3500000|   5|유코드제로|      여|20021029|\n",
       "|1603666155|    5|2003|      LG TV| 2500000|   5|유코드제로|      여|20021029|\n",
       "|1603651550|    1|2000|    LG DIOS| 2000000|   1|    정휘센|      남|19700808|\n",
       "|1603694755|    1|2001|    LG Gram| 1800000|   1|    정휘센|      남|19700808|\n",
       "|1603673500|    2|2002|    LG Cyon| 1400000|   2|  김싸이언|      남|19710201|\n",
       "|1603652155|    3|2003|      LG TV| 1000000|   3|    박트롬|      여|19951030|\n",
       "|1603651550|    0|1000|GoldStar TV|  100000|null|      null|    null|    null|\n",
       "+----------+-----+----+-----------+--------+----+----------+--------+--------+"
      ]
     },
     "metadata": {},
     "output_type": "display_data"
    }
   ],
   "source": [
    "# 여기에 실습 코드를 작성하고 실행하세요 (Shift+Enter)\n"
   ]
  },
  {
   "cell_type": "markdown",
   "metadata": {},
   "source": [
    "### <font color=blue>3. [중급]</font> 고객 정보 f\"{work_data}/tbl_user\", 제품 정보 f\"{work_data}/tbl_purchase\" CSV 파일을 읽고\n",
    "#### 1. 모든 고객을 기준으로 구매한 상품 정보를 조인해 주세요 (left: user, right: purchase, join: left_outer)\n",
    "* 고객(tbl_user) 테이블의 u_id 와 제품(tbl_purchase) 테이블의 p_uid 는 고객아이디 입니다\n",
    "* 조인된 최종 테이블의 스키마와 데이터를 출력해 주세요\n",
    "* 출력시에 상품 가격(tbl_purchase.p_amount)의 내림차순으로 정렬해 주세요\n",
    "* 상품가격이 없는 경우에는 등록일자(tbl_user.u_signup)가 최신으로 정렬해 주세요\n",
    "* 가능한 Structured API 를 사용하여 작성하되 최대한 간결하게 작성해 보세요\n",
    "\n",
    "<details><summary>[실습3] 출력 결과 확인 </summary>\n",
    "\n",
    "> 아래와 유사하게 방식으로 작성 되었다면 정답입니다\n",
    "\n",
    "```python\n",
    "left = spark.read.csv(f\"{work_data}/tbl_user.csv\", inferSchema=True, header=True)\n",
    "right = spark.read.csv(f\"{work_data}/tbl_purchase.csv\", inferSchema=True, header=True)\n",
    "answer = left.join(right, left.u_id == right.p_uid, \"left_outer\")\n",
    "answer.printSchema()\n",
    "display(answer.orderBy(desc(\"p_amount\"), desc(\"u_signup\")))\n",
    "```\n",
    "\n",
    "</details>\n"
   ]
  },
  {
   "cell_type": "code",
   "execution_count": 3,
   "metadata": {},
   "outputs": [
    {
     "name": "stderr",
     "output_type": "stream",
     "text": [
      "                                                                                \r"
     ]
    },
    {
     "name": "stdout",
     "output_type": "stream",
     "text": [
      "root\n",
      " |-- u_id: integer (nullable = true)\n",
      " |-- u_name: string (nullable = true)\n",
      " |-- u_gender: string (nullable = true)\n",
      " |-- u_signup: integer (nullable = true)\n",
      " |-- p_time: integer (nullable = true)\n",
      " |-- p_uid: integer (nullable = true)\n",
      " |-- p_id: integer (nullable = true)\n",
      " |-- p_name: string (nullable = true)\n",
      " |-- p_amount: integer (nullable = true)\n",
      "\n"
     ]
    },
    {
     "data": {
      "text/html": [
       "<table border='1'>\n",
       "<tr><th>u_id</th><th>u_name</th><th>u_gender</th><th>u_signup</th><th>p_time</th><th>p_uid</th><th>p_id</th><th>p_name</th><th>p_amount</th></tr>\n",
       "<tr><td>4</td><td>청소기</td><td>남</td><td>19770329</td><td>1603674500</td><td>4</td><td>2004</td><td>LG Computer</td><td>4500000</td></tr>\n",
       "<tr><td>5</td><td>유코드제로</td><td>여</td><td>20021029</td><td>1603665955</td><td>5</td><td>2001</td><td>LG Gram</td><td>3500000</td></tr>\n",
       "<tr><td>5</td><td>유코드제로</td><td>여</td><td>20021029</td><td>1603666155</td><td>5</td><td>2003</td><td>LG TV</td><td>2500000</td></tr>\n",
       "<tr><td>1</td><td>정휘센</td><td>남</td><td>19700808</td><td>1603651550</td><td>1</td><td>2000</td><td>LG DIOS</td><td>2000000</td></tr>\n",
       "<tr><td>1</td><td>정휘센</td><td>남</td><td>19700808</td><td>1603694755</td><td>1</td><td>2001</td><td>LG Gram</td><td>1800000</td></tr>\n",
       "<tr><td>2</td><td>김싸이언</td><td>남</td><td>19710201</td><td>1603673500</td><td>2</td><td>2002</td><td>LG Cyon</td><td>1400000</td></tr>\n",
       "<tr><td>3</td><td>박트롬</td><td>여</td><td>19951030</td><td>1603652155</td><td>3</td><td>2003</td><td>LG TV</td><td>1000000</td></tr>\n",
       "<tr><td>9</td><td>최컴퓨터</td><td>남</td><td>20201124</td><td>null</td><td>null</td><td>null</td><td>null</td><td>null</td></tr>\n",
       "<tr><td>8</td><td>조노트북</td><td>여</td><td>20161201</td><td>null</td><td>null</td><td>null</td><td>null</td><td>null</td></tr>\n",
       "<tr><td>7</td><td>임모바일</td><td>남</td><td>20040807</td><td>null</td><td>null</td><td>null</td><td>null</td><td>null</td></tr>\n",
       "<tr><td>6</td><td>윤디오스</td><td>남</td><td>20040101</td><td>null</td><td>null</td><td>null</td><td>null</td><td>null</td></tr>\n",
       "</table>\n"
      ],
      "text/plain": [
       "+----+----------+--------+--------+----------+-----+----+-----------+--------+\n",
       "|u_id|    u_name|u_gender|u_signup|    p_time|p_uid|p_id|     p_name|p_amount|\n",
       "+----+----------+--------+--------+----------+-----+----+-----------+--------+\n",
       "|   4|    청소기|      남|19770329|1603674500|    4|2004|LG Computer| 4500000|\n",
       "|   5|유코드제로|      여|20021029|1603665955|    5|2001|    LG Gram| 3500000|\n",
       "|   5|유코드제로|      여|20021029|1603666155|    5|2003|      LG TV| 2500000|\n",
       "|   1|    정휘센|      남|19700808|1603651550|    1|2000|    LG DIOS| 2000000|\n",
       "|   1|    정휘센|      남|19700808|1603694755|    1|2001|    LG Gram| 1800000|\n",
       "|   2|  김싸이언|      남|19710201|1603673500|    2|2002|    LG Cyon| 1400000|\n",
       "|   3|    박트롬|      여|19951030|1603652155|    3|2003|      LG TV| 1000000|\n",
       "|   9|  최컴퓨터|      남|20201124|      null| null|null|       null|    null|\n",
       "|   8|  조노트북|      여|20161201|      null| null|null|       null|    null|\n",
       "|   7|  임모바일|      남|20040807|      null| null|null|       null|    null|\n",
       "|   6|  윤디오스|      남|20040101|      null| null|null|       null|    null|\n",
       "+----+----------+--------+--------+----------+-----+----+-----------+--------+"
      ]
     },
     "metadata": {},
     "output_type": "display_data"
    }
   ],
   "source": [
    "# 여기에 실습 코드를 작성하고 실행하세요 (Shift+Enter)\n"
   ]
  },
  {
   "cell_type": "markdown",
   "metadata": {},
   "source": [
    "### <font color=blue>4. [중급]</font> 고객 정보 f\"{work_data}/tbl_user\", 제품 정보 f\"{work_data}/tbl_purchase\" CSV 파일을 읽고\n",
    "#### 1. 모든 고객과 모든 상품 정보가 출력될 수 있도록 조인해 주세요\n",
    "* 고객(tbl_user) 테이블의 u_id 와 제품(tbl_purchase) 테이블의 p_uid 는 고객아이디 입니다\n",
    "* 조인된 최종 테이블의 스키마와 데이터를 출력해 주세요\n",
    "* 출력시에 상품 가격(tbl_purchase.p_amount)의 내림차순으로 정렬해 주세요 (단, null 이 먼저 출력 되도록)\n",
    "* 상품가격이 없는 경우에는 등록일자(tbl_user.u_signup)가 최신으로 정렬해 주세요 (단, null 이 마지막에 출력 되도록)\n",
    "* 가능한 Structured API 를 사용하여 작성하되 최대한 간결하게 작성해 주세요\n",
    "\n",
    "<details><summary>[실습4] 출력 결과 확인 </summary>\n",
    "\n",
    "> 아래와 유사하게 방식으로 작성 되었다면 정답입니다\n",
    "\n",
    "```python\n",
    "left = spark.read.csv(f\"{work_data}/tbl_user.csv\", inferSchema=True, header=True)\n",
    "right = spark.read.csv(f\"{work_data}/tbl_purchase.csv\", inferSchema=True, header=True)\n",
    "answer = left.join(right, left.u_id == right.p_uid, \"full_outer\")\n",
    "answer.printSchema()\n",
    "display(answer.orderBy(desc_nulls_first(\"p_amount\"), desc_nulls_last(\"u_signup\")))\n",
    "```\n",
    "\n",
    "</details>\n"
   ]
  },
  {
   "cell_type": "code",
   "execution_count": 8,
   "metadata": {},
   "outputs": [
    {
     "name": "stdout",
     "output_type": "stream",
     "text": [
      "root\n",
      " |-- u_id: integer (nullable = true)\n",
      " |-- u_name: string (nullable = true)\n",
      " |-- u_gender: string (nullable = true)\n",
      " |-- u_signup: integer (nullable = true)\n",
      " |-- p_time: integer (nullable = true)\n",
      " |-- p_uid: integer (nullable = true)\n",
      " |-- p_id: integer (nullable = true)\n",
      " |-- p_name: string (nullable = true)\n",
      " |-- p_amount: integer (nullable = true)\n",
      "\n"
     ]
    },
    {
     "data": {
      "text/html": [
       "<table border='1'>\n",
       "<tr><th>u_id</th><th>u_name</th><th>u_gender</th><th>u_signup</th><th>p_time</th><th>p_uid</th><th>p_id</th><th>p_name</th><th>p_amount</th></tr>\n",
       "<tr><td>9</td><td>최컴퓨터</td><td>남</td><td>20201124</td><td>null</td><td>null</td><td>null</td><td>null</td><td>null</td></tr>\n",
       "<tr><td>8</td><td>조노트북</td><td>여</td><td>20161201</td><td>null</td><td>null</td><td>null</td><td>null</td><td>null</td></tr>\n",
       "<tr><td>7</td><td>임모바일</td><td>남</td><td>20040807</td><td>null</td><td>null</td><td>null</td><td>null</td><td>null</td></tr>\n",
       "<tr><td>6</td><td>윤디오스</td><td>남</td><td>20040101</td><td>null</td><td>null</td><td>null</td><td>null</td><td>null</td></tr>\n",
       "<tr><td>4</td><td>청소기</td><td>남</td><td>19770329</td><td>1603674500</td><td>4</td><td>2004</td><td>LG Computer</td><td>4500000</td></tr>\n",
       "<tr><td>5</td><td>유코드제로</td><td>여</td><td>20021029</td><td>1603665955</td><td>5</td><td>2001</td><td>LG Gram</td><td>3500000</td></tr>\n",
       "<tr><td>5</td><td>유코드제로</td><td>여</td><td>20021029</td><td>1603666155</td><td>5</td><td>2003</td><td>LG TV</td><td>2500000</td></tr>\n",
       "<tr><td>1</td><td>정휘센</td><td>남</td><td>19700808</td><td>1603651550</td><td>1</td><td>2000</td><td>LG DIOS</td><td>2000000</td></tr>\n",
       "<tr><td>1</td><td>정휘센</td><td>남</td><td>19700808</td><td>1603694755</td><td>1</td><td>2001</td><td>LG Gram</td><td>1800000</td></tr>\n",
       "<tr><td>2</td><td>김싸이언</td><td>남</td><td>19710201</td><td>1603673500</td><td>2</td><td>2002</td><td>LG Cyon</td><td>1400000</td></tr>\n",
       "<tr><td>3</td><td>박트롬</td><td>여</td><td>19951030</td><td>1603652155</td><td>3</td><td>2003</td><td>LG TV</td><td>1000000</td></tr>\n",
       "<tr><td>null</td><td>null</td><td>null</td><td>null</td><td>1603651550</td><td>0</td><td>1000</td><td>GoldStar TV</td><td>100000</td></tr>\n",
       "</table>\n"
      ],
      "text/plain": [
       "+----+----------+--------+--------+----------+-----+----+-----------+--------+\n",
       "|u_id|    u_name|u_gender|u_signup|    p_time|p_uid|p_id|     p_name|p_amount|\n",
       "+----+----------+--------+--------+----------+-----+----+-----------+--------+\n",
       "|   9|  최컴퓨터|      남|20201124|      null| null|null|       null|    null|\n",
       "|   8|  조노트북|      여|20161201|      null| null|null|       null|    null|\n",
       "|   7|  임모바일|      남|20040807|      null| null|null|       null|    null|\n",
       "|   6|  윤디오스|      남|20040101|      null| null|null|       null|    null|\n",
       "|   4|    청소기|      남|19770329|1603674500|    4|2004|LG Computer| 4500000|\n",
       "|   5|유코드제로|      여|20021029|1603665955|    5|2001|    LG Gram| 3500000|\n",
       "|   5|유코드제로|      여|20021029|1603666155|    5|2003|      LG TV| 2500000|\n",
       "|   1|    정휘센|      남|19700808|1603651550|    1|2000|    LG DIOS| 2000000|\n",
       "|   1|    정휘센|      남|19700808|1603694755|    1|2001|    LG Gram| 1800000|\n",
       "|   2|  김싸이언|      남|19710201|1603673500|    2|2002|    LG Cyon| 1400000|\n",
       "|   3|    박트롬|      여|19951030|1603652155|    3|2003|      LG TV| 1000000|\n",
       "|null|      null|    null|    null|1603651550|    0|1000|GoldStar TV|  100000|\n",
       "+----+----------+--------+--------+----------+-----+----+-----------+--------+"
      ]
     },
     "metadata": {},
     "output_type": "display_data"
    }
   ],
   "source": [
    "# 여기에 실습 코드를 작성하고 실행하세요 (Shift+Enter)\n"
   ]
  },
  {
   "cell_type": "markdown",
   "metadata": {},
   "source": [
    "### <font color=green>5. [기본]</font> 아래의 조인 연산 결과에서 null 값에 대한 치환을 해주세요\n",
    "#### 1. 고객아이디(u_id)와 고객이름(u_name), 성별(u_gender), 가입일자(u_signup) 기본값을 채워주세요\n",
    "##### u_id = 0, u_name = '미확인', u_gender = '미확인', u_signup = '19700101'\n",
    "\n",
    "<details><summary>[실습5] 출력 결과 확인 </summary>\n",
    "\n",
    "> 아래와 유사하게 방식으로 작성 되었다면 정답입니다\n",
    "\n",
    "```python\n",
    "left = (\n",
    "    spark.read.format(\"csv\")\n",
    "    .option(\"header\", \"true\")\n",
    "    .option(\"inferSchema\", \"true\")\n",
    "    .load(f\"{work_data}/tbl_purchase.csv\")\n",
    ")\n",
    "left.printSchema()\n",
    "# left.show()\n",
    "\n",
    "right = (\n",
    "    spark.read.format(\"csv\")\n",
    "    .option(\"header\", \"true\")\n",
    "    .option(\"inferSchema\", \"true\")\n",
    "    .load(f\"{work_data}/tbl_user.csv\")\n",
    ")\n",
    "right.printSchema()\n",
    "# right.show()\n",
    "\n",
    "join_codition = left.p_uid == right.u_id\n",
    "user_fill = { \"u_id\":0, \"u_name\":\"미확인\", \"u_gender\":\"미확인\", \"u_signup\":\"19700101\" }\n",
    "answer = left.join(right, join_codition, \"left_outer\").na.fill(user_fill)\n",
    "answer.printSchema()\n",
    "display(answer.orderBy(asc(\"u_signup\")))\n",
    "```\n",
    "\n",
    "</details>\n"
   ]
  },
  {
   "cell_type": "code",
   "execution_count": 19,
   "metadata": {},
   "outputs": [
    {
     "name": "stdout",
     "output_type": "stream",
     "text": [
      "root\n",
      " |-- p_time: integer (nullable = true)\n",
      " |-- p_uid: integer (nullable = true)\n",
      " |-- p_id: integer (nullable = true)\n",
      " |-- p_name: string (nullable = true)\n",
      " |-- p_amount: integer (nullable = true)\n",
      "\n",
      "root\n",
      " |-- u_id: integer (nullable = true)\n",
      " |-- u_name: string (nullable = true)\n",
      " |-- u_gender: string (nullable = true)\n",
      " |-- u_signup: integer (nullable = true)\n",
      "\n",
      "root\n",
      " |-- p_time: integer (nullable = true)\n",
      " |-- p_uid: integer (nullable = true)\n",
      " |-- p_id: integer (nullable = true)\n",
      " |-- p_name: string (nullable = true)\n",
      " |-- p_amount: integer (nullable = true)\n",
      " |-- u_id: integer (nullable = false)\n",
      " |-- u_name: string (nullable = false)\n",
      " |-- u_gender: string (nullable = false)\n",
      " |-- u_signup: integer (nullable = true)\n",
      "\n"
     ]
    },
    {
     "data": {
      "text/html": [
       "<table border='1'>\n",
       "<tr><th>p_time</th><th>p_uid</th><th>p_id</th><th>p_name</th><th>p_amount</th><th>u_id</th><th>u_name</th><th>u_gender</th><th>u_signup</th></tr>\n",
       "<tr><td>1603651550</td><td>0</td><td>1000</td><td>GoldStar TV</td><td>100000</td><td>0</td><td>미확인</td><td>미확인</td><td>19700101</td></tr>\n",
       "<tr><td>1603651550</td><td>1</td><td>2000</td><td>LG DIOS</td><td>2000000</td><td>1</td><td>정휘센</td><td>남</td><td>19700808</td></tr>\n",
       "<tr><td>1603694755</td><td>1</td><td>2001</td><td>LG Gram</td><td>1800000</td><td>1</td><td>정휘센</td><td>남</td><td>19700808</td></tr>\n",
       "<tr><td>1603673500</td><td>2</td><td>2002</td><td>LG Cyon</td><td>1400000</td><td>2</td><td>김싸이언</td><td>남</td><td>19710201</td></tr>\n",
       "<tr><td>1603674500</td><td>4</td><td>2004</td><td>LG Computer</td><td>4500000</td><td>4</td><td>청소기</td><td>남</td><td>19770329</td></tr>\n",
       "<tr><td>1603652155</td><td>3</td><td>2003</td><td>LG TV</td><td>1000000</td><td>3</td><td>박트롬</td><td>여</td><td>19951030</td></tr>\n",
       "<tr><td>1603665955</td><td>5</td><td>2001</td><td>LG Gram</td><td>3500000</td><td>5</td><td>유코드제로</td><td>여</td><td>20021029</td></tr>\n",
       "<tr><td>1603666155</td><td>5</td><td>2003</td><td>LG TV</td><td>2500000</td><td>5</td><td>유코드제로</td><td>여</td><td>20021029</td></tr>\n",
       "</table>\n"
      ],
      "text/plain": [
       "+----------+-----+----+-----------+--------+----+----------+--------+--------+\n",
       "|    p_time|p_uid|p_id|     p_name|p_amount|u_id|    u_name|u_gender|u_signup|\n",
       "+----------+-----+----+-----------+--------+----+----------+--------+--------+\n",
       "|1603651550|    0|1000|GoldStar TV|  100000|   0|    미확인|  미확인|19700101|\n",
       "|1603651550|    1|2000|    LG DIOS| 2000000|   1|    정휘센|      남|19700808|\n",
       "|1603694755|    1|2001|    LG Gram| 1800000|   1|    정휘센|      남|19700808|\n",
       "|1603673500|    2|2002|    LG Cyon| 1400000|   2|  김싸이언|      남|19710201|\n",
       "|1603674500|    4|2004|LG Computer| 4500000|   4|    청소기|      남|19770329|\n",
       "|1603652155|    3|2003|      LG TV| 1000000|   3|    박트롬|      여|19951030|\n",
       "|1603665955|    5|2001|    LG Gram| 3500000|   5|유코드제로|      여|20021029|\n",
       "|1603666155|    5|2003|      LG TV| 2500000|   5|유코드제로|      여|20021029|\n",
       "+----------+-----+----+-----------+--------+----+----------+--------+--------+"
      ]
     },
     "metadata": {},
     "output_type": "display_data"
    }
   ],
   "source": [
    "# 여기에 실습 코드를 작성하고 실행하세요 (Shift+Enter)\n"
   ]
  },
  {
   "cell_type": "markdown",
   "metadata": {},
   "source": [
    "## 8. 조인시 유의할 점"
   ]
  },
  {
   "cell_type": "code",
   "execution_count": 20,
   "metadata": {},
   "outputs": [
    {
     "name": "stdout",
     "output_type": "stream",
     "text": [
      "root\n",
      " |-- id: long (nullable = true)\n",
      " |-- name: string (nullable = true)\n",
      " |-- gender: string (nullable = true)\n",
      "\n"
     ]
    },
    {
     "data": {
      "text/html": [
       "<table border='1'>\n",
       "<tr><th>id</th><th>name</th><th>gender</th></tr>\n",
       "<tr><td>1</td><td>정휘센</td><td>남</td></tr>\n",
       "<tr><td>2</td><td>김싸이언</td><td>남</td></tr>\n",
       "<tr><td>3</td><td>박트롬</td><td>여</td></tr>\n",
       "</table>\n"
      ],
      "text/plain": [
       "+---+--------+------+\n",
       "| id|    name|gender|\n",
       "+---+--------+------+\n",
       "|  1|  정휘센|    남|\n",
       "|  2|김싸이언|    남|\n",
       "|  3|  박트롬|    여|\n",
       "+---+--------+------+"
      ]
     },
     "metadata": {},
     "output_type": "display_data"
    },
    {
     "name": "stdout",
     "output_type": "stream",
     "text": [
      "root\n",
      " |-- id: long (nullable = true)\n",
      " |-- name: string (nullable = true)\n",
      " |-- amount: long (nullable = true)\n",
      "\n"
     ]
    },
    {
     "data": {
      "text/html": [
       "<table border='1'>\n",
       "<tr><th>id</th><th>name</th><th>amount</th></tr>\n",
       "<tr><td>2</td><td>LG DIOS</td><td>2000000</td></tr>\n",
       "<tr><td>3</td><td>LG Cyon</td><td>1800000</td></tr>\n",
       "<tr><td>4</td><td>LG Computer</td><td>4500000</td></tr>\n",
       "</table>\n"
      ],
      "text/plain": [
       "+---+-----------+-------+\n",
       "| id|       name| amount|\n",
       "+---+-----------+-------+\n",
       "|  2|    LG DIOS|2000000|\n",
       "|  3|    LG Cyon|1800000|\n",
       "|  4|LG Computer|4500000|\n",
       "+---+-----------+-------+"
      ]
     },
     "metadata": {},
     "output_type": "display_data"
    }
   ],
   "source": [
    "u = spark.createDataFrame([\n",
    "    (1, \"정휘센\", \"남\"),\n",
    "    (2, \"김싸이언\", \"남\"),\n",
    "    (3, \"박트롬\", \"여\")\n",
    "]).toDF(\"id\", \"name\", \"gender\")\n",
    "u.printSchema()\n",
    "display(u)\n",
    "    \n",
    "p = spark.createDataFrame([\n",
    "    (2, \"LG DIOS\", 2000000),\n",
    "    (3, \"LG Cyon\", 1800000),\n",
    "    (4, \"LG Computer\", 4500000)\n",
    "]).toDF(\"id\", \"name\", \"amount\")\n",
    "p.printSchema()\n",
    "display(p)"
   ]
  },
  {
   "cell_type": "markdown",
   "metadata": {},
   "source": [
    "### 8.1 중복 컬럼명 처리가 되지 않은 경우\n",
    "> #### AnalysisException: \"Reference 'id' is ambiguous, could be: id, id.;\""
   ]
  },
  {
   "cell_type": "code",
   "execution_count": 21,
   "metadata": {},
   "outputs": [
    {
     "name": "stdout",
     "output_type": "stream",
     "text": [
      "+---+--------+------+---+-------+-------+\n",
      "| id|    name|gender| id|   name| amount|\n",
      "+---+--------+------+---+-------+-------+\n",
      "|  3|  박트롬|    여|  3|LG Cyon|1800000|\n",
      "|  2|김싸이언|    남|  2|LG DIOS|2000000|\n",
      "+---+--------+------+---+-------+-------+\n",
      "\n"
     ]
    }
   ],
   "source": [
    "up = u.join(p, u.id == p.id)\n",
    "up.show()\n",
    "# up.select(\"id\")"
   ]
  },
  {
   "cell_type": "markdown",
   "metadata": {},
   "source": [
    "### 3.2 중복 컬럼명 해결방안 - 데이터 프레임의 컬럼 명을 다르게 만든다"
   ]
  },
  {
   "cell_type": "code",
   "execution_count": 22,
   "metadata": {},
   "outputs": [
    {
     "name": "stdout",
     "output_type": "stream",
     "text": [
      "root\n",
      " |-- u_uid: long (nullable = true)\n",
      " |-- name: string (nullable = true)\n",
      " |-- gender: string (nullable = true)\n",
      "\n",
      "root\n",
      " |-- p_uid: long (nullable = true)\n",
      " |-- name: string (nullable = true)\n",
      " |-- amount: long (nullable = true)\n",
      "\n"
     ]
    },
    {
     "data": {
      "text/html": [
       "<table border='1'>\n",
       "<tr><th>u_uid</th><th>name</th><th>gender</th><th>p_uid</th><th>name</th><th>amount</th></tr>\n",
       "<tr><td>3</td><td>박트롬</td><td>여</td><td>3</td><td>LG Cyon</td><td>1800000</td></tr>\n",
       "<tr><td>2</td><td>김싸이언</td><td>남</td><td>2</td><td>LG DIOS</td><td>2000000</td></tr>\n",
       "</table>\n"
      ],
      "text/plain": [
       "+-----+--------+------+-----+-------+-------+\n",
       "|u_uid|    name|gender|p_uid|   name| amount|\n",
       "+-----+--------+------+-----+-------+-------+\n",
       "|    3|  박트롬|    여|    3|LG Cyon|1800000|\n",
       "|    2|김싸이언|    남|    2|LG DIOS|2000000|\n",
       "+-----+--------+------+-----+-------+-------+"
      ]
     },
     "metadata": {},
     "output_type": "display_data"
    },
    {
     "data": {
      "text/html": [
       "<table border='1'>\n",
       "<tr><th>u_uid</th></tr>\n",
       "<tr><td>3</td></tr>\n",
       "<tr><td>2</td></tr>\n",
       "</table>\n"
      ],
      "text/plain": [
       "+-----+\n",
       "|u_uid|\n",
       "+-----+\n",
       "|    3|\n",
       "|    2|\n",
       "+-----+"
      ]
     },
     "execution_count": 22,
     "metadata": {},
     "output_type": "execute_result"
    }
   ],
   "source": [
    "u1 = u.withColumnRenamed(\"id\", \"u_uid\")\n",
    "p1 = p.withColumnRenamed(\"id\", \"p_uid\")\n",
    "u1.printSchema()\n",
    "p1.printSchema()\n",
    "\n",
    "up = u1.join(p1, u1.u_uid == p1.p_uid)\n",
    "display(up)\n",
    "up.select(\"u_uid\")"
   ]
  },
  {
   "cell_type": "markdown",
   "metadata": {},
   "source": [
    "### 3.3 중복 컬럼명 해결방안 - 조인 직후 중복 컬럼을 제거합니다"
   ]
  },
  {
   "cell_type": "code",
   "execution_count": 23,
   "metadata": {},
   "outputs": [
    {
     "data": {
      "text/html": [
       "<table border='1'>\n",
       "<tr><th>id</th><th>name</th><th>gender</th><th>name</th><th>amount</th></tr>\n",
       "<tr><td>3</td><td>박트롬</td><td>여</td><td>LG Cyon</td><td>1800000</td></tr>\n",
       "<tr><td>2</td><td>김싸이언</td><td>남</td><td>LG DIOS</td><td>2000000</td></tr>\n",
       "</table>\n"
      ],
      "text/plain": [
       "+---+--------+------+-------+-------+\n",
       "| id|    name|gender|   name| amount|\n",
       "+---+--------+------+-------+-------+\n",
       "|  3|  박트롬|    여|LG Cyon|1800000|\n",
       "|  2|김싸이언|    남|LG DIOS|2000000|\n",
       "+---+--------+------+-------+-------+"
      ]
     },
     "metadata": {},
     "output_type": "display_data"
    },
    {
     "data": {
      "text/html": [
       "<table border='1'>\n",
       "<tr><th>id</th></tr>\n",
       "<tr><td>3</td></tr>\n",
       "<tr><td>2</td></tr>\n",
       "</table>\n"
      ],
      "text/plain": [
       "+---+\n",
       "| id|\n",
       "+---+\n",
       "|  3|\n",
       "|  2|\n",
       "+---+"
      ]
     },
     "metadata": {},
     "output_type": "display_data"
    }
   ],
   "source": [
    "up = u.join(p, u.id == p.id).drop(p.id)\n",
    "display(up)\n",
    "display(up.select(\"id\"))"
   ]
  },
  {
   "cell_type": "markdown",
   "metadata": {},
   "source": [
    "### <font color=red>6. [고급]</font> 고객 정보 f\"{work_data}/tbl_user_id\", 제품 정보 f\"{work_data}/tbl_purchase_id\" CSV 파일을 읽고\n",
    "#### 1. 가장 비싼 `제품`을 구매한 고객의 고객정보와 제품정보를 출력해 주세요\n",
    "* **고객(tbl_user) 테이블의 아이디도 id 이고 제품(tbl_purchase) 테이블의 아이디도 id** 인 점을 주의 하세요\n",
    "* 최종 출력되는 컬럼은 고객아이디(u_id), 고객이름(u_name), 상품이름(p_name), 상품가격(p_amount) 이렇게 4개 컬럼입니다\n",
    "* 상품가격 (p_amount) 내림차순으로 정렬해 주세요\n",
    "* 가능한 Structured API 를 사용하여 작성하되 최대한 간결하게 작성해 보세요\n",
    "\n",
    "<details><summary>[실습6] 출력 결과 확인 </summary>\n",
    "\n",
    "> 아래와 유사하게 방식으로 작성 되었다면 정답입니다\n",
    "\n",
    "```python\n",
    "left = spark.read.csv(f\"{work_data}/tbl_purchase_id.csv\", inferSchema=True, header=True)\n",
    "right = spark.read.csv(f\"{work_data}/tbl_user_id.csv\", inferSchema=True, header=True)\n",
    "u_left = left.withColumnRenamed(\"id\", \"u_id\")\n",
    "u_right = right.withColumnRenamed(\"id\", \"p_uid\")\n",
    "answer = u_left.join(u_right, u_left.u_id == u_right.p_uid, \"inner\").where(\"p_amount > 0\").select(\"u_id\", \"u_name\", \"p_name\", \"p_amount\")\n",
    "answer.printSchema()\n",
    "display(answer.orderBy(desc(\"p_amount\")))\n",
    "```\n",
    "\n",
    "</details>\n"
   ]
  },
  {
   "cell_type": "code",
   "execution_count": 11,
   "metadata": {},
   "outputs": [
    {
     "name": "stdout",
     "output_type": "stream",
     "text": [
      "root\n",
      " |-- u_id: integer (nullable = true)\n",
      " |-- u_name: string (nullable = true)\n",
      " |-- p_name: string (nullable = true)\n",
      " |-- p_amount: integer (nullable = true)\n",
      "\n"
     ]
    },
    {
     "data": {
      "text/html": [
       "<table border='1'>\n",
       "<tr><th>u_id</th><th>u_name</th><th>p_name</th><th>p_amount</th></tr>\n",
       "<tr><td>4</td><td>청소기</td><td>LG Computer</td><td>4500000</td></tr>\n",
       "<tr><td>5</td><td>유코드제로</td><td>LG Gram</td><td>3500000</td></tr>\n",
       "<tr><td>5</td><td>유코드제로</td><td>LG TV</td><td>2500000</td></tr>\n",
       "<tr><td>1</td><td>정휘센</td><td>LG DIOS</td><td>2000000</td></tr>\n",
       "<tr><td>1</td><td>정휘센</td><td>LG Gram</td><td>1800000</td></tr>\n",
       "<tr><td>2</td><td>김싸이언</td><td>LG Cyon</td><td>1400000</td></tr>\n",
       "<tr><td>3</td><td>박트롬</td><td>LG TV</td><td>1000000</td></tr>\n",
       "</table>\n"
      ],
      "text/plain": [
       "+----+----------+-----------+--------+\n",
       "|u_id|    u_name|     p_name|p_amount|\n",
       "+----+----------+-----------+--------+\n",
       "|   4|    청소기|LG Computer| 4500000|\n",
       "|   5|유코드제로|    LG Gram| 3500000|\n",
       "|   5|유코드제로|      LG TV| 2500000|\n",
       "|   1|    정휘센|    LG DIOS| 2000000|\n",
       "|   1|    정휘센|    LG Gram| 1800000|\n",
       "|   2|  김싸이언|    LG Cyon| 1400000|\n",
       "|   3|    박트롬|      LG TV| 1000000|\n",
       "+----+----------+-----------+--------+"
      ]
     },
     "metadata": {},
     "output_type": "display_data"
    }
   ],
   "source": [
    "# 여기에 실습 코드를 작성하고 실행하세요 (Shift+Enter)\n"
   ]
  },
  {
   "cell_type": "markdown",
   "metadata": {},
   "source": [
    "## 9. 스파크의 조인 수행 방식"
   ]
  },
  {
   "cell_type": "markdown",
   "metadata": {},
   "source": [
    "### 9.1 Broadcast Hash Join : **SmallSize** join **AnySize**\n",
    "- 큰 데이터셋과 이보다 작은 데이터 셋 간의 조인은 큰 데이터셋의 파티션이 있는 모든 익스큐터에 작은 데이터셋이 브로드캐스트되어 수행\n",
    "- 기본값: spark.sql.autoBroadcastJoinThreshold = 10mb \n",
    "  - spark.sql.autoBroadcastJoinThreshold 는 조인을 수행 할 때 모든 작업자 노드에 브로드캐스트되는 테이블의 최대 크기를 구성\n",
    "  - 참고\n",
    "    - [Spark Doc - performance Tuning](https://spark.apache.org/docs/latest/sql-performance-tuning.html)\n",
    "    - [Does spark.sql.autoBroadcastJoinThreshold work for joins using Dataset's join operator?](https://stackoverflow.com/questions/43984068/does-spark-sql-autobroadcastjointhreshold-work-for-joins-using-datasets-join-op)\n",
    "- 수행\n",
    "  - 작은 테이블은 드라이버에 모였다가 다시 모든 노드에 복사\n",
    "  - 작은 테이블은 메모리에 올라가고\n",
    "  - 큰 테이블은 스트림을 통해서 조인 수행\n",
    "  - 브로드캐스트 힌트 `person.join(broadcast(grudateProgram),Seq(“id”))`\n",
    "    - `autoBroadcastJoinThreshold`에 관계없이 힌트가 있는 조인 측이 브로드캐스트됨. \n",
    "    - 조인의 양쪽에 브로드캐스트 힌트가 있으면 실제 크기가 더 작은 쪽이 브로드 캐스트됨. \n",
    "    - 힌트가 없고 테이블의 실제 물리적 추정값이 autoBroadcastJoinThreshold 보다 작으면, 해당 테이블은 모든 실행기 노드로 브로드캐스트됨.\n",
    "- 성능 \n",
    "  - 한 쪽의 데이터가 하나의 machine 에 fit-in-meory 될 정도로 작으면 성능 좋음.\n",
    "    - table broadcast는 네트워크를 많이 사용하므로, 브로드캐스트 된 테이블이 크면 때때로 out-of-memory나 성능저하가 발생할 수 있음\n",
    "  - 셔플링이 없기 때문에, 브로드캐스트 되는 쪽이 데이터가 작으면 다른 알고리즘보다 빠름. \n",
    "- 브로드캐스트 지원\n",
    "  - Full outer join 은 지원하지 않음. \n",
    "  - letf-outer join 에서는 오른쪽 테이블만 브로드캐스트, right-outer join 에서는 왼쪽 테이블만 브로드캐스트 가능."
   ]
  },
  {
   "cell_type": "markdown",
   "metadata": {},
   "source": [
    "### 9.2 Shuffle hash join : **MiddleSize** join **LargeSize**\n",
    "- 두 테이블 모두 shuffle 을 통해 노드에 분산되고\n",
    "- 비교적 작은 테이블이 메모리 버퍼에 올라가고\n",
    "- 큰 테이블은 스트림을 통해서 조인 수행\n",
    "- 파티션이 전체 익스큐터로 분배\n",
    "- 셔플은 비용이 많이 듦. 파티션과 셔플 배포가 최적으로 수행되는지 확인하기 위해 로직을 분석하는 것이 중요.\n",
    "  - 큰 데이터는 join에 필요한 부분만 filtering 을 하거나\n",
    "  - repartioning 을 고려해야함"
   ]
  },
  {
   "cell_type": "markdown",
   "metadata": {},
   "source": [
    "- Map Reduce Fundamentals 유사\n",
    "  - Map - 두 개의 서로 다른 Data frames/table\n",
    "    - Output key를 join 조건에서 필드로 사용\n",
    "    - Shuflle - output key로 두 데이터 세트를 섞음\n",
    "  - Reduce - join 결과"
   ]
  },
  {
   "cell_type": "markdown",
   "metadata": {},
   "source": [
    "![shuffle hash join](https://i.pinimg.com/originals/48/41/81/4841810dd7ad50397d566b8c9beb7875.jpg)"
   ]
  },
  {
   "cell_type": "markdown",
   "metadata": {},
   "source": [
    "#### 성능을 최적화하려면\n",
    "- join할 키가 균등하게 dirstribute되어있거나, \n",
    "- parallelism위한 적절한 수의 키가 있을 때\n",
    "  \n",
    "#### 성능이 나쁜 경우 - 고르지 않은 sharding 및 제한된 parallelism\n",
    "- data skewness 처럼 하나의 단일 파티션이 다른 파티션에 비해 너무 많은 데이터를 가지고 있을 때\n",
    "- 각 스테이트에서 50개 키만 셔플할 수 있음 -> 스파크 클러스터가 크면 고른 sharding과 parallelism 으로 해결 못함"
   ]
  },
  {
   "cell_type": "markdown",
   "metadata": {},
   "source": [
    "![problem of shuffle hash join](https://image.slidesharecdn.com/optimizingsparksqljoins-170209164631/95/optimizing-apache-spark-sql-joins-11-638.jpg?cb=1486658917)"
   ]
  },
  {
   "cell_type": "markdown",
   "metadata": {},
   "source": [
    "### 9.3 Sort merge join : **LargeSize** join **LargeSize**\n",
    "- 일치하는 조인키를 sort할 수 있고, 브로드캐스트 조인, 셔플 해시 조인에 적합하지 않은 경우 사용\n",
    "- shuffle hash join 과 비교했을 때, 클러스터에서 데이터 이동(shuffling)을 최소화함\n",
    "- 수행\n",
    "  - 두 테이블 모두 셔플 및 정렬이 발생하고\n",
    "  - 그나마 작은 쪽이 버퍼를 하고 큰 쪽이 스트리밍으로 조인을 수행한다\n",
    "  - partition 은 join 작업 전에 조인키 정렬\n",
    "- 참고. [SortMergeJoinExec Binary Physical Operator for Sort Merge Join](https://jaceklaskowski.gitbooks.io/mastering-spark-sql/spark-sql-SparkPlan-SortMergeJoinExec.html)"
   ]
  },
  {
   "cell_type": "markdown",
   "metadata": {},
   "source": [
    "### 9.4 BroadcastNestedLoopJoin\n",
    "- 적용 : 조인 키가 지정되어 있지 않고 브로드 캐스트 힌트가 있거나 조인의 한쪽이 브로드캐스트 될 수 있고, spark.sql.autoBroadcastJoinThreshold보다 작은 경우\n",
    "- 브로드캐스트 된 데이터 세트가 크면 매우 느릴 수 있으며 OutOfMemoryExceptions을 일으킬 수 있음"
   ]
  },
  {
   "cell_type": "markdown",
   "metadata": {},
   "source": [
    "---"
   ]
  },
  {
   "cell_type": "markdown",
   "metadata": {},
   "source": [
    "### 9.5 테이블 크기에 따른 조인 동작방식"
   ]
  },
  {
   "cell_type": "markdown",
   "metadata": {},
   "source": [
    "#### 큰 테이블과 큰 테이블 조인\n",
    "+ 전체 노드 간 통신이 발생하는 셔플 조인이 발생됨"
   ]
  },
  {
   "cell_type": "markdown",
   "metadata": {},
   "source": [
    "#### 큰 테이블과 작은 테이블 조인\n",
    "+ 작은 DataFrame을 클러스터 전체 워커에 복제한 후 통신없이 진행\n",
    "+ 모든 단일 노드에서 개별적으로 조인이 수행되므로 CPU가 가장 큰 병목 구간이 됨\n",
    "+ broadcast 함수(힌트)를 통해 브로드캐스트 조인을 설정할 수 있으나 강제할 수는 없음(옵티마이저가 무시 가능)"
   ]
  },
  {
   "cell_type": "code",
   "execution_count": 25,
   "metadata": {},
   "outputs": [
    {
     "data": {
      "text/html": [
       "<table border='1'>\n",
       "<tr><th>u_id</th><th>u_name</th><th>u_gender</th><th>p_uid</th><th>p_name</th><th>p_amont</th></tr>\n",
       "<tr><td>2</td><td>김싸이언</td><td>남</td><td>2</td><td>LG DIOS</td><td>2000000</td></tr>\n",
       "<tr><td>3</td><td>박트롬</td><td>여</td><td>3</td><td>LG Cyon</td><td>1800000</td></tr>\n",
       "</table>\n"
      ],
      "text/plain": [
       "+----+--------+--------+-----+-------+-------+\n",
       "|u_id|  u_name|u_gender|p_uid| p_name|p_amont|\n",
       "+----+--------+--------+-----+-------+-------+\n",
       "|   2|김싸이언|      남|    2|LG DIOS|2000000|\n",
       "|   3|  박트롬|      여|    3|LG Cyon|1800000|\n",
       "+----+--------+--------+-----+-------+-------+"
      ]
     },
     "execution_count": 25,
     "metadata": {},
     "output_type": "execute_result"
    }
   ],
   "source": [
    "from pyspark.sql.functions import broadcast\n",
    "user.join(broadcast(purchase), user.u_id == purchase.p_uid).select(\"*\")"
   ]
  },
  {
   "cell_type": "code",
   "execution_count": 26,
   "metadata": {},
   "outputs": [
    {
     "name": "stdout",
     "output_type": "stream",
     "text": [
      "== Physical Plan ==\n",
      "*(2) BroadcastHashJoin [u_id#6L], [p_uid#44L], Inner, BuildRight, false\n",
      ":- *(2) Project [_1#0L AS u_id#6L, _2#1 AS u_name#7, _3#2 AS u_gender#8]\n",
      ":  +- *(2) Filter isnotnull(_1#0L)\n",
      ":     +- *(2) Scan ExistingRDD[_1#0L,_2#1,_3#2]\n",
      "+- BroadcastExchange HashedRelationBroadcastMode(List(input[0, bigint, true]),false), [id=#2486]\n",
      "   +- *(1) Project [_1#38L AS p_uid#44L, _2#39 AS p_name#45, _3#40L AS p_amont#46L]\n",
      "      +- *(1) Filter isnotnull(_1#38L)\n",
      "         +- *(1) Scan ExistingRDD[_1#38L,_2#39,_3#40L]\n",
      "\n",
      "\n"
     ]
    }
   ],
   "source": [
    "user.join(broadcast(purchase), user.u_id == purchase.p_uid).select(\"*\").explain()"
   ]
  },
  {
   "cell_type": "markdown",
   "metadata": {},
   "source": [
    "#### 작은 테이블과 작은 테이블 조인\n",
    "+ 스파크가 결정하도록 내버려두는 것이 제일 좋은 선택"
   ]
  },
  {
   "cell_type": "markdown",
   "metadata": {},
   "source": [
    "### 9.6 고찰\n",
    "- 브로드캐스트조인을 가능한 한 사용하고 조인 전에 관련없는 행을 조인 키로 필터링하여 불필요한 데이터 셔플링을 피하자\n",
    "  - 필요한 경우 spark.sql.autoBroadcastJoinThreshold를 적절히 조정\n",
    "- sort-merge join 이 default이고, 대부분의 시나리오에서 잘 수행됨. \n",
    "  - Shuffle Hash 조인이 Sort-Merge 조인보다 낫다고 확신이 있으면,Sort-Merge join을 비활성화해서 shuffle hash join이 수행되도록 함. \n",
    "    - builde size 가 stream size보다 작으면 Shuffle Hash 조인이 나음\n",
    "- unique한 조인키가 없거나 조인키가 없는 조인은 수행비용이 비싸므로 최대한 피해야함"
   ]
  },
  {
   "cell_type": "markdown",
   "metadata": {},
   "source": [
    "---"
   ]
  },
  {
   "cell_type": "markdown",
   "metadata": {},
   "source": [
    "## 10. 설명 이해 위한 배경 지식"
   ]
  },
  {
   "cell_type": "markdown",
   "metadata": {},
   "source": [
    "### 10.1 파티셔닝 partioning \n",
    "- 어떤 데이터를 어디에 저장할 것인지 제어할 수 있는 기능\n",
    "- RDD는 데이터 파티션으로 구성되고 모든 연산은 RDD의 데이터 파티션에서 수행됨. \n",
    "- 파티션 개수는 RDD 트랜스포메이션 실행할 태스크 수에 직접적인 영향을 줌\n",
    "  - 파티션 개수 너무 적으면 -> 많은 데이터에서 아주 일부의 CPU/코어만 사용 -> 성능 저하, 클러스터 제대로 활용 못함\n",
    "  - 파티션 개수 너무 많으면 -> 실제 필요한 것보다 많은 자원을 사용 -> 멀티테넌트 환경에서는 자원 부족 현상 발생\n",
    "- Partioner 에 의해 RDD 파티셔닝이 실행된. 파티셔너는 파티션 인덱스를 RDD 엘리먼트에 할당. "
   ]
  },
  {
   "cell_type": "markdown",
   "metadata": {},
   "source": [
    "### 10.2 Shuffling\n",
    "- 파티셔너가 어떤 파티션을 사용하든 많은 연산이 RDD의 파티션 전체에 걸쳐 데이터 리파티셔닝Repartioning 이 발생함\n",
    "  - 새로운 파티션이 생성되거나 파티션이 축소, 병합될 수 있음. \n",
    "- 리파티셔닝에 필요한 모든 데이터 이동을 **셔플링 Shuffling**이라고 함. \n",
    "  - **Shuffling 을 할 때, Disk I/O + Network I/O 과도하게 발생**\n",
    "  - 셔플링은 계산을 동일 익스큐터의 메모리에서 더 이상 진행하지 않고 익스큐터 간에 데이터를 교환함 -> 많은 성능 지연을 초래할 수 있음 \n",
    "  - 스파크 잡의 실행 프로세스를 결정, 잡이 스테이지로 분할되는 부분에 영향을 미침\n",
    "  - 셔플링이 많을 수록 스파크 잡이 실행될 때 더 많은 스테이지가 발생하기 때문에 성능에 영향을 미침\n",
    "- 리파티셔닝을 유발하는 연산은 **조인**, 리듀스, 그룹핑, 집계 연산이 있음"
   ]
  },
  {
   "cell_type": "markdown",
   "metadata": {},
   "source": [
    "### 10.3 버켓팅 Bucketing\n",
    "- Bucketing = pre-(shffle + sort) inputs on join Keys\n",
    "- 각 파일에 저장된 데이터를 제어할 수 있는 또 다른 파일 조직화 기법\n",
    "- 동일한 버킷 ID를 가진 데이터가 하나의 물리적 파티션에 모두 모여 있기 때문에 데이터를 읽을 때 셔플을 피할 수 있음\n",
    "- **데이터가 이후 사용 방식에 맞춰 사전에 파티셔닝되므로 조인이나 집계할 때 발생하는 고비용의 셔플을 피할 수 있음.**\n",
    "- 같은 키로 계속 조인이 발생하는 경우, 일별 누적으로 쌓여가는 테이블 을 버킷팅을 하면 효과를 볼 수 있음"
   ]
  },
  {
   "cell_type": "markdown",
   "metadata": {},
   "source": [
    "### 10.4 Broadcast variable\n",
    "- 브로드캐스트 변수는 모든 익스큐터에서 사용할 수 있는 공유 변수 shared variable\n",
    "- 드라이버에서 한 번 생성되면 익스큐터에서만 읽을 수 있음. \n",
    "- 전체 데이터셋이 스파크 클러스터에서 전파될 수 있어서 익스큐터에서는 브로드캐스트 변수의 데이터에 접근할 수 있음\n",
    "- **익스큐터 내부에서 실행되는 모든 태스크는 모두 브로드캐스트 변수에 접근할 수 있음**"
   ]
  },
  {
   "cell_type": "markdown",
   "metadata": {},
   "source": [
    "---"
   ]
  },
  {
   "cell_type": "markdown",
   "metadata": {},
   "source": [
    "## 참고자료\n",
    "\n",
    "* [Spark Programming Guide](https://spark.apache.org/docs/latest/sql-programming-guide.html)\n",
    "* [PySpark SQL Modules Documentation](https://spark.apache.org/docs/latest/api/python/pyspark.sql.html)\n",
    "* <a href=\"https://spark.apache.org/docs/3.0.1/api/sql/\" target=\"_blank\">PySpark 3.0.1 Builtin Functions</a>\n",
    "* [PySpark Search](https://spark.apache.org/docs/latest/api/python/search.html)\n",
    "* [Pyspark Functions](https://spark.apache.org/docs/latest/api/python/pyspark.sql.html?#module-pyspark.sql.functions)\n",
    "- [Spark SQL, DataFrames and Datasets Guide](https://spark.apache.org/docs/latest/sql-programming-guide.html)\n",
    "- [Spark summit 2017 - Hive Bucketing in Apache Spark with Tejas Patil](https://youtu.be/6BD-Vv-ViBw?t=30) / [slide](https://www.slideshare.net/databricks/hive-bucketing-in-apache-spark-with-tejas-patil) / [한글 요약본](https://www.notion.so/Hive-Bucketing-in-Apache-Spark-Tejas-Patil-9374879e0ca744cc8e7047e82cf5fdfa)\n",
    "- [Spark summit 2017 - Optimizing Apache Spark SQL Joins: Spark Summit East talk by Vida Ha](https://www.youtube.com/watch?v=fp53QhSfQcI) / [slide](https://www.slideshare.net/databricks/optimizing-apache-spark-sql-joins)\n",
    "- [Everyday I'm Shuffling - Tips for Writing Better Apache Spark Programs](https://www.youtube.com/watch?v=Wg2boMqLjCg)\n",
    "- [Spark Memory Management by 0x0fff](https://0x0fff.com/spark-memory-management/)\n",
    "- [Apache Spark에서 컬럼 기반 저장 포맷 Parquet(파케이) 제대로 활용하기](http://engineering.vcnc.co.kr/2018/05/parquet-and-spark/)\n",
    "- [Understanding Database Sharding](https://www.digitalocean.com/community/tutorials/understanding-database-sharding)"
   ]
  },
  {
   "cell_type": "code",
   "execution_count": null,
   "metadata": {},
   "outputs": [],
   "source": []
  }
 ],
 "metadata": {
  "kernelspec": {
   "display_name": "Python 3 (ipykernel)",
   "language": "python",
   "name": "python3"
  },
  "language_info": {
   "codemirror_mode": {
    "name": "ipython",
    "version": 3
   },
   "file_extension": ".py",
   "mimetype": "text/x-python",
   "name": "python",
   "nbconvert_exporter": "python",
   "pygments_lexer": "ipython3",
   "version": "3.9.6"
  }
 },
 "nbformat": 4,
 "nbformat_minor": 4
}
