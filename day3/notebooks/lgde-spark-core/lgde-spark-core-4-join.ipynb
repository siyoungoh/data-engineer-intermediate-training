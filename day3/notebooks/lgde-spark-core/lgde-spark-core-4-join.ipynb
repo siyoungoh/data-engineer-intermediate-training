{
 "cells": [
  {
   "cell_type": "markdown",
   "metadata": {},
   "source": [
    "# 4교시 조인 연산\n",
    "\n",
    "### 목차\n",
    "* [1. 조인 유형](#1.-조인-유형)\n",
    "* [2. Inner Join](#2.-Inner-Join)\n",
    "* [3. Outer Join](#3.-Outer-Join)\n",
    "* [4. Left Semi Join](#3.-Outer-Join)\n",
    "* [5. Left Anti Join](#3.-Outer-Join)\n",
    "* [6. Natural Join](#3.-Outer-Join)\n",
    "* [7. Cross Join - Cartesian Join](#7.-Cross-Join---Cartesian-Join)\n",
    "* [8. 조인시 유의할 점](#4.-조인시-유의할-점)\n",
    "* [참고자료](#참고자료)"
   ]
  },
  {
   "cell_type": "code",
   "execution_count": 2,
   "metadata": {},
   "outputs": [
    {
     "name": "stderr",
     "output_type": "stream",
     "text": [
      "22/04/12 18:52:22 WARN NativeCodeLoader: Unable to load native-hadoop library for your platform... using builtin-java classes where applicable\n",
      "Using Spark's default log4j profile: org/apache/spark/log4j-defaults.properties\n",
      "Setting default log level to \"WARN\".\n",
      "To adjust logging level use sc.setLogLevel(newLevel). For SparkR, use setLogLevel(newLevel).\n"
     ]
    },
    {
     "data": {
      "text/html": [
       "\n",
       "            <div>\n",
       "                <p><b>SparkSession - in-memory</b></p>\n",
       "                \n",
       "        <div>\n",
       "            <p><b>SparkContext</b></p>\n",
       "\n",
       "            <p><a href=\"http://bc1b98992d3a:4040\">Spark UI</a></p>\n",
       "\n",
       "            <dl>\n",
       "              <dt>Version</dt>\n",
       "                <dd><code>v3.1.2</code></dd>\n",
       "              <dt>Master</dt>\n",
       "                <dd><code>local[*]</code></dd>\n",
       "              <dt>AppName</dt>\n",
       "                <dd><code>pyspark-shell</code></dd>\n",
       "            </dl>\n",
       "        </div>\n",
       "        \n",
       "            </div>\n",
       "        "
      ],
      "text/plain": [
       "<pyspark.sql.session.SparkSession at 0x7ff18e284eb0>"
      ]
     },
     "execution_count": 2,
     "metadata": {},
     "output_type": "execute_result"
    }
   ],
   "source": [
    "from pyspark.sql import *\n",
    "from pyspark.sql.functions import *\n",
    "from pyspark.sql.types import *\n",
    "from IPython.display import display, display_pretty, clear_output, JSON\n",
    "\n",
    "spark = (\n",
    "    SparkSession\n",
    "    .builder\n",
    "    .config(\"spark.sql.session.timeZone\", \"Asia/Seoul\")\n",
    "    .getOrCreate()\n",
    ")\n",
    "\n",
    "# 노트북에서 테이블 형태로 데이터 프레임 출력을 위한 설정을 합니다\n",
    "spark.conf.set(\"spark.sql.repl.eagerEval.enabled\", True) # display enabled\n",
    "spark.conf.set(\"spark.sql.repl.eagerEval.truncate\", 100) # display output columns size\n",
    "\n",
    "# 공통 데이터 위치\n",
    "home_jovyan = \"/home/jovyan\"\n",
    "work_data = f\"{home_jovyan}/work/data\"\n",
    "work_dir=!pwd\n",
    "work_dir = work_dir[0]\n",
    "\n",
    "# 로컬 환경 최적화\n",
    "spark.conf.set(\"spark.sql.shuffle.partitions\", 5) # the number of partitions to use when shuffling data for joins or aggregations.\n",
    "spark.conf.set(\"spark.sql.streaming.forceDeleteTempCheckpointLocation\", \"true\")\n",
    "spark"
   ]
  },
  {
   "cell_type": "markdown",
   "metadata": {},
   "source": [
    "## 1. 조인 유형\n",
    "\n",
    "+ 스파크의 조인 타입\n",
    "    + inner join, outer join, left outer join, right outer join\n",
    "    + left semi join: 왼쪽 데이터셋의 키가 오른쪽 데이터셋에 있는 경우에는 키가 일치하는 왼쪽 데이터셋만 유지 \n",
    "    + left anti join: 왼쪽 데이터셋의 키가 오른쪽 데이터셋에 없는 경우에는 키가 일치하지 않는 왼쪽 데이터셋만 유지\n",
    "    + natural join: 두 데이터셋에서 동일한 이름을 가진 컬럼을 암시적으로 결합하는 조인을 수행\n",
    "    + cross join: 왼쪽 데이터셋의 모든 로우와 오른쪽 데이터 셋의 모든 로우를 조합\n",
    "\n",
    "![join](https://i.pinimg.com/originals/12/c8/90/12c890126fb2d1e99099468f53d47260.jpg)\n",
    "\n",
    "![semi anti](https://miro.medium.com/max/1400/0*jfglHEcbPtwv50J1.png)\n",
    "\n",
    "![](https://oracletechnocampus.files.wordpress.com/2016/02/2cea0-jointable2-bmp.jpg)"
   ]
  },
  {
   "cell_type": "markdown",
   "metadata": {},
   "source": [
    "### JOIN 학습을 위해 상품은 단 하나만 구매할 수 있다고 가정하여 아래와 같은 테이블이 존재합니다\n",
    "#### 정보 1. 고객은 4명이지만, 1명은 탈퇴하여 존재하지 않습니다\n",
    "| 고객 아이디 (u_id) | 고객 이름 (u_name) | 고객 성별 (u_gender) |\n",
    "| - | - | - |\n",
    "| 1 | 정휘센 | 남 |\n",
    "| 2 | 김싸이언 | 남 |\n",
    "| 3 | 박트롬 | 여 |\n",
    "\n",
    "#### 정보 2. 구매 상품은 3개이며, 탈퇴한 고객의 상품정보가 남아있습니다\n",
    "| 구매 고객 아이디 (u_id) | 구매 상품 이름 (p_name) | 구매 상품 가격 (p_amount) |\n",
    "| - | - | - |\n",
    "| 2 | LG DIOS | 2,000,000 |\n",
    "| 3 | LG Cyon | 1,800,000 |\n",
    "| 4 | LG Computer | 4,500,000 |\n"
   ]
  },
  {
   "cell_type": "code",
   "execution_count": 3,
   "metadata": {},
   "outputs": [
    {
     "name": "stdout",
     "output_type": "stream",
     "text": [
      "root\n",
      " |-- u_id: long (nullable = true)\n",
      " |-- u_name: string (nullable = true)\n",
      " |-- u_gender: string (nullable = true)\n",
      "\n"
     ]
    },
    {
     "name": "stderr",
     "output_type": "stream",
     "text": [
      "                                                                                \r"
     ]
    },
    {
     "data": {
      "text/html": [
       "<table border='1'>\n",
       "<tr><th>u_id</th><th>u_name</th><th>u_gender</th></tr>\n",
       "<tr><td>1</td><td>정휘센</td><td>남</td></tr>\n",
       "<tr><td>2</td><td>김싸이언</td><td>남</td></tr>\n",
       "<tr><td>3</td><td>박트롬</td><td>여</td></tr>\n",
       "</table>\n"
      ],
      "text/plain": [
       "+----+--------+--------+\n",
       "|u_id|  u_name|u_gender|\n",
       "+----+--------+--------+\n",
       "|   1|  정휘센|      남|\n",
       "|   2|김싸이언|      남|\n",
       "|   3|  박트롬|      여|\n",
       "+----+--------+--------+"
      ]
     },
     "metadata": {},
     "output_type": "display_data"
    },
    {
     "name": "stdout",
     "output_type": "stream",
     "text": [
      "root\n",
      " |-- p_uid: long (nullable = true)\n",
      " |-- p_name: string (nullable = true)\n",
      " |-- p_amont: long (nullable = true)\n",
      "\n"
     ]
    },
    {
     "data": {
      "text/html": [
       "<table border='1'>\n",
       "<tr><th>p_uid</th><th>p_name</th><th>p_amont</th></tr>\n",
       "<tr><td>2</td><td>LG DIOS</td><td>2000000</td></tr>\n",
       "<tr><td>3</td><td>LG Cyon</td><td>1800000</td></tr>\n",
       "<tr><td>4</td><td>LG Computer</td><td>4500000</td></tr>\n",
       "</table>\n"
      ],
      "text/plain": [
       "+-----+-----------+-------+\n",
       "|p_uid|     p_name|p_amont|\n",
       "+-----+-----------+-------+\n",
       "|    2|    LG DIOS|2000000|\n",
       "|    3|    LG Cyon|1800000|\n",
       "|    4|LG Computer|4500000|\n",
       "+-----+-----------+-------+"
      ]
     },
     "metadata": {},
     "output_type": "display_data"
    }
   ],
   "source": [
    "user = spark.createDataFrame([\n",
    "    (1, \"정휘센\", \"남\"),\n",
    "    (2, \"김싸이언\", \"남\"),\n",
    "    (3, \"박트롬\", \"여\")\n",
    "]).toDF(\"u_id\", \"u_name\", \"u_gender\")\n",
    "user.printSchema()\n",
    "display(user)\n",
    "    \n",
    "purchase = spark.createDataFrame([\n",
    "    (2, \"LG DIOS\", 2000000),\n",
    "    (3, \"LG Cyon\", 1800000),\n",
    "    (4, \"LG Computer\", 4500000)\n",
    "]).toDF(\"p_uid\", \"p_name\", \"p_amont\")\n",
    "purchase.printSchema()\n",
    "display(purchase)"
   ]
  },
  {
   "cell_type": "markdown",
   "metadata": {},
   "source": [
    "## 2. Inner Join\n",
    "\n",
    "> join type 을 명시하지 않았을 때 기본적으로 내부조인을 수행함\n",
    "\n",
    "* 왼쪽 테이블과 오른쪽 테이블에서 동일한 칼럼을 가져야함. \n",
    "* 참으로 평가되는 로우만 결합\n",
    "* 세 번째 파라미터로 조인 타입을 명확하게 지정할 수 있음\n",
    "* 두 테이블의 키가 중복되거나 여러 복사본으로 있다면 성능이 저하됨. 조인이 여러 키를 최소화하기 위해 일종의 카테시안 조인으로 변환되어 버림\n",
    "\n",
    "### 2.1 구매 정보와 일치하는 고객 정보를 조인 (inner)"
   ]
  },
  {
   "cell_type": "code",
   "execution_count": 4,
   "metadata": {},
   "outputs": [
    {
     "data": {
      "text/html": [
       "<table border='1'>\n",
       "<tr><th>u_id</th><th>u_name</th><th>u_gender</th><th>p_uid</th><th>p_name</th><th>p_amont</th></tr>\n",
       "<tr><td>3</td><td>박트롬</td><td>여</td><td>3</td><td>LG Cyon</td><td>1800000</td></tr>\n",
       "<tr><td>2</td><td>김싸이언</td><td>남</td><td>2</td><td>LG DIOS</td><td>2000000</td></tr>\n",
       "</table>\n"
      ],
      "text/plain": [
       "+----+--------+--------+-----+-------+-------+\n",
       "|u_id|  u_name|u_gender|p_uid| p_name|p_amont|\n",
       "+----+--------+--------+-----+-------+-------+\n",
       "|   3|  박트롬|      여|    3|LG Cyon|1800000|\n",
       "|   2|김싸이언|      남|    2|LG DIOS|2000000|\n",
       "+----+--------+--------+-----+-------+-------+"
      ]
     },
     "metadata": {},
     "output_type": "display_data"
    },
    {
     "data": {
      "text/plain": [
       "2"
      ]
     },
     "execution_count": 4,
     "metadata": {},
     "output_type": "execute_result"
    }
   ],
   "source": [
    "display(user.join(purchase, user.u_id == purchase.p_uid))\n",
    "user.join(purchase, user.u_id == purchase.p_uid, \"inner\").count()"
   ]
  },
  {
   "cell_type": "markdown",
   "metadata": {},
   "source": [
    "### <font color=green>1. [기본]</font> 고객 정보 f\"{work_data}/tbl_user\", 제품 정보 f\"{work_data}/tbl_purchase\" CSV 파일을 읽고\n",
    "#### 1. 각각 스키마를 출력하세요\n",
    "#### 2. 각각 데이터를 출력하세요\n",
    "#### 3. 고객(tbl_user) 테이블의 u_id 와 제품(tbl_purchase) 테이블의 p_uid 는 고객아이디 입니다\n",
    "#### 4. 고객 테이블을 기준으로 어떤 제품을 구매하였는지 inner join 을 통해 조인해 주세요\n",
    "#### 5. 조인된 최종 테이블의 스키마와 데이터를 출력해 주세요\n",
    "\n",
    "<details><summary>[실습1] 출력 결과 확인 </summary>\n",
    "\n",
    "> 아래와 유사하게 방식으로 작성 되었다면 정답입니다\n",
    "\n",
    "```python\n",
    "left = (\n",
    "    spark.read.format(\"csv\")\n",
    "    .option(\"header\", \"true\")\n",
    "    .option(\"inferSchema\", \"true\")\n",
    "    .load(f\"{work_data}/tbl_user.csv\")\n",
    ")\n",
    "left.printSchema()\n",
    "left.show()\n",
    "\n",
    "right = (\n",
    "    spark.read.format(\"csv\")\n",
    "    .option(\"header\", \"true\")\n",
    "    .option(\"inferSchema\", \"true\")\n",
    "    .load(f\"{work_data}/tbl_purchase.csv\")\n",
    ")\n",
    "right.printSchema()\n",
    "right.show()\n",
    "\n",
    "join_codition = left.u_id == right.p_uid\n",
    "answer = left.join(right, join_codition, \"inner\")\n",
    "answer.printSchema()\n",
    "display(answer)\n",
    "```\n",
    "\n",
    "</details>\n"
   ]
  },
  {
   "cell_type": "code",
   "execution_count": 1,
   "metadata": {},
   "outputs": [],
   "source": [
    "# 여기에 실습 코드를 작성하고 실행하세요 (Shift+Enter)"
   ]
  },
  {
   "cell_type": "markdown",
   "metadata": {},
   "source": [
    "## 3. Outer Join\n",
    "\n",
    "> 왼쪽과 오른쪽의 모든 로우를 제공. \n",
    "\n",
    "* 왼쪽이나 오른쪽 DataFrame에 일치하는 로우가 없다면 해당 위치에 null을 삽입\n",
    "* 공통 로우가 거의 없는 테이블에서 사용하면 결과값이 매우 커지고 성능 저하\n",
    "\n",
    "### 3.1 모든 고객의 정보 구매 정보를 조인 (left_outer)"
   ]
  },
  {
   "cell_type": "code",
   "execution_count": 6,
   "metadata": {},
   "outputs": [
    {
     "data": {
      "text/html": [
       "<table border='1'>\n",
       "<tr><th>u_id</th><th>u_name</th><th>u_gender</th><th>p_uid</th><th>p_name</th><th>p_amont</th></tr>\n",
       "<tr><td>1</td><td>정휘센</td><td>남</td><td>null</td><td>null</td><td>null</td></tr>\n",
       "<tr><td>2</td><td>김싸이언</td><td>남</td><td>2</td><td>LG DIOS</td><td>2000000</td></tr>\n",
       "<tr><td>3</td><td>박트롬</td><td>여</td><td>3</td><td>LG Cyon</td><td>1800000</td></tr>\n",
       "</table>\n"
      ],
      "text/plain": [
       "+----+--------+--------+-----+-------+-------+\n",
       "|u_id|  u_name|u_gender|p_uid| p_name|p_amont|\n",
       "+----+--------+--------+-----+-------+-------+\n",
       "|   1|  정휘센|      남| null|   null|   null|\n",
       "|   2|김싸이언|      남|    2|LG DIOS|2000000|\n",
       "|   3|  박트롬|      여|    3|LG Cyon|1800000|\n",
       "+----+--------+--------+-----+-------+-------+"
      ]
     },
     "execution_count": 6,
     "metadata": {},
     "output_type": "execute_result"
    }
   ],
   "source": [
    "user.join(purchase, user.u_id == purchase.p_uid, \"left_outer\").orderBy(purchase.p_uid.asc())"
   ]
  },
  {
   "cell_type": "markdown",
   "metadata": {},
   "source": [
    "### 3-2. 모든 상품에 대한 고객 정보를 조인 (right_outer)"
   ]
  },
  {
   "cell_type": "code",
   "execution_count": 7,
   "metadata": {},
   "outputs": [
    {
     "data": {
      "text/html": [
       "<table border='1'>\n",
       "<tr><th>u_id</th><th>u_name</th><th>u_gender</th><th>p_uid</th><th>p_name</th><th>p_amont</th></tr>\n",
       "<tr><td>2</td><td>김싸이언</td><td>남</td><td>2</td><td>LG DIOS</td><td>2000000</td></tr>\n",
       "<tr><td>3</td><td>박트롬</td><td>여</td><td>3</td><td>LG Cyon</td><td>1800000</td></tr>\n",
       "<tr><td>null</td><td>null</td><td>null</td><td>4</td><td>LG Computer</td><td>4500000</td></tr>\n",
       "</table>\n"
      ],
      "text/plain": [
       "+----+--------+--------+-----+-----------+-------+\n",
       "|u_id|  u_name|u_gender|p_uid|     p_name|p_amont|\n",
       "+----+--------+--------+-----+-----------+-------+\n",
       "|   2|김싸이언|      남|    2|    LG DIOS|2000000|\n",
       "|   3|  박트롬|      여|    3|    LG Cyon|1800000|\n",
       "|null|    null|    null|    4|LG Computer|4500000|\n",
       "+----+--------+--------+-----+-----------+-------+"
      ]
     },
     "execution_count": 7,
     "metadata": {},
     "output_type": "execute_result"
    }
   ],
   "source": [
    "user.join(purchase, user.u_id == purchase.p_uid, \"right_outer\").orderBy(purchase.p_uid.asc())"
   ]
  },
  {
   "cell_type": "markdown",
   "metadata": {},
   "source": [
    "### 3-3. 모든 고객과 상품에 대한 정보를 조인 (full_outer)"
   ]
  },
  {
   "cell_type": "code",
   "execution_count": 8,
   "metadata": {},
   "outputs": [
    {
     "data": {
      "text/html": [
       "<table border='1'>\n",
       "<tr><th>u_id</th><th>u_name</th><th>u_gender</th><th>p_uid</th><th>p_name</th><th>p_amont</th></tr>\n",
       "<tr><td>1</td><td>정휘센</td><td>남</td><td>null</td><td>null</td><td>null</td></tr>\n",
       "<tr><td>2</td><td>김싸이언</td><td>남</td><td>2</td><td>LG DIOS</td><td>2000000</td></tr>\n",
       "<tr><td>3</td><td>박트롬</td><td>여</td><td>3</td><td>LG Cyon</td><td>1800000</td></tr>\n",
       "<tr><td>null</td><td>null</td><td>null</td><td>4</td><td>LG Computer</td><td>4500000</td></tr>\n",
       "</table>\n"
      ],
      "text/plain": [
       "+----+--------+--------+-----+-----------+-------+\n",
       "|u_id|  u_name|u_gender|p_uid|     p_name|p_amont|\n",
       "+----+--------+--------+-----+-----------+-------+\n",
       "|   1|  정휘센|      남| null|       null|   null|\n",
       "|   2|김싸이언|      남|    2|    LG DIOS|2000000|\n",
       "|   3|  박트롬|      여|    3|    LG Cyon|1800000|\n",
       "|null|    null|    null|    4|LG Computer|4500000|\n",
       "+----+--------+--------+-----+-----------+-------+"
      ]
     },
     "execution_count": 8,
     "metadata": {},
     "output_type": "execute_result"
    }
   ],
   "source": [
    "user.join(purchase, user.u_id == purchase.p_uid, \"full_outer\").orderBy(purchase.p_uid.asc())"
   ]
  },
  {
   "cell_type": "markdown",
   "metadata": {},
   "source": [
    "## 4. Left Semi Join\n",
    "\n",
    "> 오른쪽에 존재하는 것을 기반으로 왼쪽 로우만 제공\n",
    "\n",
    "* 값이 존재하는 지 확인 용도, 값이 있다면 왼쪽 DataFrame에 중복 키가 있더라도 해당 로우는 결과에 포함\n",
    "* 기존 조인 기능과는 달리 DataFrame의 필터 기능과 유사\n",
    "* 하나의 테이블만 확실히 고려되고, 다른 테이블은 조인 조건만 확인하기 때문에 성능이 매우 좋음\n"
   ]
  },
  {
   "cell_type": "code",
   "execution_count": 9,
   "metadata": {},
   "outputs": [
    {
     "data": {
      "text/html": [
       "<table border='1'>\n",
       "<tr><th>u_id</th><th>u_name</th><th>u_gender</th></tr>\n",
       "<tr><td>2</td><td>김싸이언</td><td>남</td></tr>\n",
       "<tr><td>3</td><td>박트롬</td><td>여</td></tr>\n",
       "</table>\n"
      ],
      "text/plain": [
       "+----+--------+--------+\n",
       "|u_id|  u_name|u_gender|\n",
       "+----+--------+--------+\n",
       "|   2|김싸이언|      남|\n",
       "|   3|  박트롬|      여|\n",
       "+----+--------+--------+"
      ]
     },
     "execution_count": 9,
     "metadata": {},
     "output_type": "execute_result"
    }
   ],
   "source": [
    "user.join(purchase, user.u_id == purchase.p_uid, \"left_semi\").orderBy(user.u_id.asc())"
   ]
  },
  {
   "cell_type": "markdown",
   "metadata": {},
   "source": [
    "## 5. Left Anti Join\n",
    "+ 왼쪽 세미 조인의 반대 개념, 즉 오른쪽 DataFrame의 어떤 값도 포함하지 않음\n",
    "+ SQL의 NOT IN과 같은 스타일의 필터"
   ]
  },
  {
   "cell_type": "code",
   "execution_count": 10,
   "metadata": {},
   "outputs": [
    {
     "data": {
      "text/html": [
       "<table border='1'>\n",
       "<tr><th>u_id</th><th>u_name</th><th>u_gender</th></tr>\n",
       "<tr><td>1</td><td>정휘센</td><td>남</td></tr>\n",
       "</table>\n"
      ],
      "text/plain": [
       "+----+------+--------+\n",
       "|u_id|u_name|u_gender|\n",
       "+----+------+--------+\n",
       "|   1|정휘센|      남|\n",
       "+----+------+--------+"
      ]
     },
     "execution_count": 10,
     "metadata": {},
     "output_type": "execute_result"
    }
   ],
   "source": [
    "user.join(purchase, user.u_id == purchase.p_uid, \"left_anti\").orderBy(user.u_id.asc())"
   ]
  },
  {
   "cell_type": "markdown",
   "metadata": {},
   "source": [
    "## 6. Natural Join\n",
    "> 조인하려는 컬럼을 암시적으로 추정\n",
    "\n",
    "* 암시적인 처리는 언제나 위험하므로 비추천\n",
    "* Python join 함수는 이 기능을 지원하지 않음\n"
   ]
  },
  {
   "cell_type": "code",
   "execution_count": 11,
   "metadata": {},
   "outputs": [
    {
     "data": {
      "text/html": [
       "<table border='1'>\n",
       "<tr><th>database</th><th>tableName</th><th>isTemporary</th></tr>\n",
       "<tr><td></td><td>purchase</td><td>true</td></tr>\n",
       "<tr><td></td><td>user</td><td>true</td></tr>\n",
       "</table>\n"
      ],
      "text/plain": [
       "+--------+---------+-----------+\n",
       "|database|tableName|isTemporary|\n",
       "+--------+---------+-----------+\n",
       "|        | purchase|       true|\n",
       "|        |     user|       true|\n",
       "+--------+---------+-----------+"
      ]
     },
     "execution_count": 11,
     "metadata": {},
     "output_type": "execute_result"
    }
   ],
   "source": [
    "user.createOrReplaceTempView(\"user\")\n",
    "purchase.createOrReplaceTempView(\"purchase\")\n",
    "spark.sql(\"show tables\")"
   ]
  },
  {
   "cell_type": "code",
   "execution_count": 12,
   "metadata": {},
   "outputs": [
    {
     "name": "stdout",
     "output_type": "stream",
     "text": [
      "root\n",
      " |-- u_id: long (nullable = true)\n",
      " |-- u_name: string (nullable = true)\n",
      " |-- u_gender: string (nullable = true)\n",
      "\n",
      "root\n",
      " |-- p_uid: long (nullable = true)\n",
      " |-- p_name: string (nullable = true)\n",
      " |-- p_amont: long (nullable = true)\n",
      "\n"
     ]
    }
   ],
   "source": [
    "user.printSchema()\n",
    "purchase.printSchema()"
   ]
  },
  {
   "cell_type": "code",
   "execution_count": 13,
   "metadata": {},
   "outputs": [
    {
     "data": {
      "text/html": [
       "<table border='1'>\n",
       "<tr><th>u_id</th><th>u_name</th><th>u_gender</th><th>p_uid</th><th>p_name</th><th>p_amont</th></tr>\n",
       "<tr><td>1</td><td>정휘센</td><td>남</td><td>2</td><td>LG DIOS</td><td>2000000</td></tr>\n",
       "<tr><td>1</td><td>정휘센</td><td>남</td><td>3</td><td>LG Cyon</td><td>1800000</td></tr>\n",
       "<tr><td>1</td><td>정휘센</td><td>남</td><td>4</td><td>LG Computer</td><td>4500000</td></tr>\n",
       "<tr><td>2</td><td>김싸이언</td><td>남</td><td>2</td><td>LG DIOS</td><td>2000000</td></tr>\n",
       "<tr><td>2</td><td>김싸이언</td><td>남</td><td>3</td><td>LG Cyon</td><td>1800000</td></tr>\n",
       "<tr><td>2</td><td>김싸이언</td><td>남</td><td>4</td><td>LG Computer</td><td>4500000</td></tr>\n",
       "<tr><td>3</td><td>박트롬</td><td>여</td><td>2</td><td>LG DIOS</td><td>2000000</td></tr>\n",
       "<tr><td>3</td><td>박트롬</td><td>여</td><td>3</td><td>LG Cyon</td><td>1800000</td></tr>\n",
       "<tr><td>3</td><td>박트롬</td><td>여</td><td>4</td><td>LG Computer</td><td>4500000</td></tr>\n",
       "</table>\n"
      ],
      "text/plain": [
       "+----+--------+--------+-----+-----------+-------+\n",
       "|u_id|  u_name|u_gender|p_uid|     p_name|p_amont|\n",
       "+----+--------+--------+-----+-----------+-------+\n",
       "|   1|  정휘센|      남|    2|    LG DIOS|2000000|\n",
       "|   1|  정휘센|      남|    3|    LG Cyon|1800000|\n",
       "|   1|  정휘센|      남|    4|LG Computer|4500000|\n",
       "|   2|김싸이언|      남|    2|    LG DIOS|2000000|\n",
       "|   2|김싸이언|      남|    3|    LG Cyon|1800000|\n",
       "|   2|김싸이언|      남|    4|LG Computer|4500000|\n",
       "|   3|  박트롬|      여|    2|    LG DIOS|2000000|\n",
       "|   3|  박트롬|      여|    3|    LG Cyon|1800000|\n",
       "|   3|  박트롬|      여|    4|LG Computer|4500000|\n",
       "+----+--------+--------+-----+-----------+-------+"
      ]
     },
     "execution_count": 13,
     "metadata": {},
     "output_type": "execute_result"
    }
   ],
   "source": [
    "# 지정된 필드의 값이 일치하는 경우 해당 필드를 기준으로 조인\n",
    "spark.sql(\"SELECT * FROM user NATURAL JOIN purchase\")"
   ]
  },
  {
   "cell_type": "markdown",
   "metadata": {},
   "source": [
    "## 7. Cross Join - Cartesian Join\n",
    "\n",
    "> 교차 조인은 조건절을 기술하지 않은 내부 조인을 의미\n",
    "* 왼쪽의 모든 로우를 오른쪽의 모든 로우와 결합함(결과의 로우 수 = 왼쪽 로우 수 * 오른쪽 로우 수)\n",
    "* 큰 데이터에서 사용할 경우 out-of-memory exception 발생. 가장 좋지 않은 성능을 가진 조인. 주의해서 사용하며 특정 사례에서만 사용해야함."
   ]
  },
  {
   "cell_type": "code",
   "execution_count": 14,
   "metadata": {},
   "outputs": [
    {
     "data": {
      "text/html": [
       "<table border='1'>\n",
       "<tr><th>u_id</th><th>u_name</th><th>u_gender</th><th>p_uid</th><th>p_name</th><th>p_amont</th></tr>\n",
       "<tr><td>3</td><td>박트롬</td><td>여</td><td>3</td><td>LG Cyon</td><td>1800000</td></tr>\n",
       "<tr><td>2</td><td>김싸이언</td><td>남</td><td>2</td><td>LG DIOS</td><td>2000000</td></tr>\n",
       "</table>\n"
      ],
      "text/plain": [
       "+----+--------+--------+-----+-------+-------+\n",
       "|u_id|  u_name|u_gender|p_uid| p_name|p_amont|\n",
       "+----+--------+--------+-----+-------+-------+\n",
       "|   3|  박트롬|      여|    3|LG Cyon|1800000|\n",
       "|   2|김싸이언|      남|    2|LG DIOS|2000000|\n",
       "+----+--------+--------+-----+-------+-------+"
      ]
     },
     "execution_count": 14,
     "metadata": {},
     "output_type": "execute_result"
    }
   ],
   "source": [
    "\"\"\" 크로스 조인이지만 조건을 설정해야 하며, 조건에 부합된 결과를 출력하여 inner조인과 동일.\"\"\"\n",
    "joinExpr = user.u_id == purchase.p_uid\n",
    "joinType = \"cross\"\n",
    "user.join(purchase, on=joinExpr, how=joinType)"
   ]
  },
  {
   "cell_type": "code",
   "execution_count": 15,
   "metadata": {},
   "outputs": [
    {
     "data": {
      "text/html": [
       "<table border='1'>\n",
       "<tr><th>u_id</th><th>u_name</th><th>u_gender</th><th>p_uid</th><th>p_name</th><th>p_amont</th></tr>\n",
       "<tr><td>1</td><td>정휘센</td><td>남</td><td>2</td><td>LG DIOS</td><td>2000000</td></tr>\n",
       "<tr><td>1</td><td>정휘센</td><td>남</td><td>3</td><td>LG Cyon</td><td>1800000</td></tr>\n",
       "<tr><td>1</td><td>정휘센</td><td>남</td><td>4</td><td>LG Computer</td><td>4500000</td></tr>\n",
       "<tr><td>2</td><td>김싸이언</td><td>남</td><td>2</td><td>LG DIOS</td><td>2000000</td></tr>\n",
       "<tr><td>2</td><td>김싸이언</td><td>남</td><td>3</td><td>LG Cyon</td><td>1800000</td></tr>\n",
       "<tr><td>2</td><td>김싸이언</td><td>남</td><td>4</td><td>LG Computer</td><td>4500000</td></tr>\n",
       "<tr><td>3</td><td>박트롬</td><td>여</td><td>2</td><td>LG DIOS</td><td>2000000</td></tr>\n",
       "<tr><td>3</td><td>박트롬</td><td>여</td><td>3</td><td>LG Cyon</td><td>1800000</td></tr>\n",
       "<tr><td>3</td><td>박트롬</td><td>여</td><td>4</td><td>LG Computer</td><td>4500000</td></tr>\n",
       "</table>\n"
      ],
      "text/plain": [
       "+----+--------+--------+-----+-----------+-------+\n",
       "|u_id|  u_name|u_gender|p_uid|     p_name|p_amont|\n",
       "+----+--------+--------+-----+-----------+-------+\n",
       "|   1|  정휘센|      남|    2|    LG DIOS|2000000|\n",
       "|   1|  정휘센|      남|    3|    LG Cyon|1800000|\n",
       "|   1|  정휘센|      남|    4|LG Computer|4500000|\n",
       "|   2|김싸이언|      남|    2|    LG DIOS|2000000|\n",
       "|   2|김싸이언|      남|    3|    LG Cyon|1800000|\n",
       "|   2|김싸이언|      남|    4|LG Computer|4500000|\n",
       "|   3|  박트롬|      여|    2|    LG DIOS|2000000|\n",
       "|   3|  박트롬|      여|    3|    LG Cyon|1800000|\n",
       "|   3|  박트롬|      여|    4|LG Computer|4500000|\n",
       "+----+--------+--------+-----+-----------+-------+"
      ]
     },
     "execution_count": 15,
     "metadata": {},
     "output_type": "execute_result"
    }
   ],
   "source": [
    "user.crossJoin(purchase)"
   ]
  },
  {
   "cell_type": "markdown",
   "metadata": {},
   "source": [
    "### <font color=green>2. [기본]</font> 고객 정보 f\"{work_data}/tbl_user\", 제품 정보 f\"{work_data}/tbl_purchase\" CSV 파일을 읽고\n",
    "#### 1. 각각 스키마를 출력하세요\n",
    "#### 2. 각각 데이터를 출력하세요\n",
    "#### 3. 고객(tbl_user) 테이블의 u_id 와 제품(tbl_purchase) 테이블의 p_uid 는 고객아이디 입니다\n",
    "#### 4. 모든 상품을 기준으로 구매하 고객정보를 조인해 주세요 (left: purchase, right: user, join: left_outer)\n",
    "#### 5. 조인된 최종 테이블의 스키마와 데이터를 출력해 주세요\n",
    "#### 6. 출력시에 상품 가격의 내림차순으로 정렬해 주세요\n",
    "\n",
    "<details><summary>[실습2] 출력 결과 확인 </summary>\n",
    "\n",
    "> 아래와 유사하게 방식으로 작성 되었다면 정답입니다\n",
    "\n",
    "```python\n",
    "left = (\n",
    "    spark.read.format(\"csv\")\n",
    "    .option(\"header\", \"true\")\n",
    "    .option(\"inferSchema\", \"true\")\n",
    "    .load(f\"{work_data}/tbl_purchase.csv\")\n",
    ")\n",
    "left.printSchema()\n",
    "# left.show()\n",
    "\n",
    "right = (\n",
    "    spark.read.format(\"csv\")\n",
    "    .option(\"header\", \"true\")\n",
    "    .option(\"inferSchema\", \"true\")\n",
    "    .load(f\"{work_data}/tbl_user.csv\")\n",
    ")\n",
    "right.printSchema()\n",
    "# right.show()\n",
    "\n",
    "join_codition = left.p_uid == right.u_id\n",
    "answer = left.join(right, join_codition, \"left_outer\")\n",
    "answer.printSchema()\n",
    "display(answer.orderBy(desc(\"p_amount\")))\n",
    "```\n",
    "\n",
    "</details>\n"
   ]
  },
  {
   "cell_type": "code",
   "execution_count": 2,
   "metadata": {},
   "outputs": [],
   "source": [
    "# 여기에 실습 코드를 작성하고 실행하세요 (Shift+Enter)"
   ]
  },
  {
   "cell_type": "markdown",
   "metadata": {},
   "source": [
    "### <font color=blue>3. [중급]</font> 고객 정보 f\"{work_data}/tbl_user\", 제품 정보 f\"{work_data}/tbl_purchase\" CSV 파일을 읽고\n",
    "#### 1. 각각 스키마를 출력하세요\n",
    "#### 2. 각각 데이터를 출력하세요\n",
    "#### 3. 고객(tbl_user) 테이블의 u_id 와 제품(tbl_purchase) 테이블의 p_uid 는 고객아이디 입니다\n",
    "#### 4. 모든 고객을 기준으로 구매한 상품 정보를 조인해 주세요 (left: user, right: purchase, join: left_outer)\n",
    "#### 5. 조인된 최종 테이블의 스키마와 데이터를 출력해 주세요\n",
    "#### 6. 출력시에 상품 가격(tbl_purchase.p_amount)의 내림차순으로 정렬해 주세요\n",
    "#### 7. 상품가격이 없는 경우에는 등록일자(tbl_user.u_signup)가 최신으로 정렬해 주세요\n",
    "\n",
    "<details><summary>[실습3] 출력 결과 확인 </summary>\n",
    "\n",
    "> 아래와 유사하게 방식으로 작성 되었다면 정답입니다\n",
    "\n",
    "```python\n",
    "left = (\n",
    "    spark.read.format(\"csv\")\n",
    "    .option(\"header\", \"true\")\n",
    "    .option(\"inferSchema\", \"true\")\n",
    "    .load(f\"{work_data}/tbl_user.csv\")\n",
    ")\n",
    "left.printSchema()\n",
    "# left.show()\n",
    "\n",
    "right = (\n",
    "    spark.read.format(\"csv\")\n",
    "    .option(\"header\", \"true\")\n",
    "    .option(\"inferSchema\", \"true\")\n",
    "    .load(f\"{work_data}/tbl_purchase.csv\")\n",
    ")\n",
    "right.printSchema()\n",
    "# right.show()\n",
    "\n",
    "join_codition = left.u_id == right.p_uid\n",
    "answer = left.join(right, join_codition, \"left_outer\")\n",
    "answer.printSchema()\n",
    "display(answer.orderBy(desc(\"p_amount\"), desc(\"u_signup\")))\n",
    "```\n",
    "\n",
    "</details>\n"
   ]
  },
  {
   "cell_type": "code",
   "execution_count": 3,
   "metadata": {},
   "outputs": [],
   "source": [
    "# 여기에 실습 코드를 작성하고 실행하세요 (Shift+Enter)"
   ]
  },
  {
   "cell_type": "markdown",
   "metadata": {},
   "source": [
    "### <font color=red>4. [고급]</font> 고객 정보 f\"{work_data}/tbl_user\", 제품 정보 f\"{work_data}/tbl_purchase\" CSV 파일을 읽고\n",
    "#### 1. 각각 스키마를 출력하세요\n",
    "#### 2. 각각 데이터를 출력하세요\n",
    "#### 3. 고객(tbl_user) 테이블의 u_id 와 제품(tbl_purchase) 테이블의 p_uid 는 고객아이디 입니다\n",
    "#### 4. 모든 고객을 기준으로 모든 상품 정보를 조인해 주세요 (left: user, right: purchase, join: inner)\n",
    "#### 5. 조인된 최종 테이블의 스키마와 데이터를 출력해 주세요\n",
    "#### 6. 출력시에 상품 가격(tbl_purchase.p_amount)의 내림차순으로 정렬해 주세요\n",
    "#### 7. 상품가격이 없는 경우에는 등록일자(tbl_user.u_signup)가 최신으로 정렬해 주세요\n",
    "\n",
    "<details><summary>[실습4] 출력 결과 확인 </summary>\n",
    "\n",
    "> 아래와 유사하게 방식으로 작성 되었다면 정답입니다\n",
    "\n",
    "```python\n",
    "left = (\n",
    "    spark.read.format(\"csv\")\n",
    "    .option(\"header\", \"true\")\n",
    "    .option(\"inferSchema\", \"true\")\n",
    "    .load(f\"{work_data}/tbl_user.csv\")\n",
    ")\n",
    "left.printSchema()\n",
    "# left.show()\n",
    "\n",
    "right = (\n",
    "    spark.read.format(\"csv\")\n",
    "    .option(\"header\", \"true\")\n",
    "    .option(\"inferSchema\", \"true\")\n",
    "    .load(f\"{work_data}/tbl_purchase.csv\")\n",
    ")\n",
    "right.printSchema()\n",
    "# right.show()\n",
    "\n",
    "join_codition = left.u_id == right.p_uid\n",
    "answer = left.join(right, join_codition, \"inner\")\n",
    "answer.printSchema()\n",
    "display(answer.orderBy(desc(\"p_amount\"), desc(\"u_signup\")))\n",
    "```\n",
    "\n",
    "</details>\n"
   ]
  },
  {
   "cell_type": "code",
   "execution_count": 4,
   "metadata": {},
   "outputs": [],
   "source": [
    "# 여기에 실습 코드를 작성하고 실행하세요 (Shift+Enter)"
   ]
  },
  {
   "cell_type": "markdown",
   "metadata": {},
   "source": [
    "### <font color=blue>5. [중급]</font> 실습 5. 고객 정보 f\"{work_data}/tbl_user\", 제품 정보 f\"{work_data}/tbl_purchase\" CSV 파일을 읽고\n",
    "#### 1. 각각 스키마를 출력하세요\n",
    "#### 2. 각각 데이터를 출력하세요\n",
    "#### 3. 고객(tbl_user) 테이블의 u_id 와 제품(tbl_purchase) 테이블의 p_uid 는 고객아이디 입니다\n",
    "#### 4. 모든 고객과 모든 상품 정보를 조인해 주세요 (left: user, right: purchase, join: full_outer)\n",
    "#### 5. 조인된 최종 테이블의 스키마와 데이터를 출력해 주세요\n",
    "#### 6. 출력시에 상품 가격(tbl_purchase.p_amount)의 내림차순으로 정렬해 주세요\n",
    "#### 7. 상품가격이 없는 경우에는 등록일자(tbl_user.u_signup)가 최신으로 정렬해 주세요\n",
    "\n",
    "<details><summary>[실습5] 출력 결과 확인 </summary>\n",
    "\n",
    "> 아래와 유사하게 방식으로 작성 되었다면 정답입니다\n",
    "\n",
    "```python\n",
    "left = (\n",
    "    spark.read.format(\"csv\")\n",
    "    .option(\"header\", \"true\")\n",
    "    .option(\"inferSchema\", \"true\")\n",
    "    .load(f\"{work_data}/tbl_user.csv\")\n",
    ")\n",
    "left.printSchema()\n",
    "# left.show()\n",
    "\n",
    "right = (\n",
    "    spark.read.format(\"csv\")\n",
    "    .option(\"header\", \"true\")\n",
    "    .option(\"inferSchema\", \"true\")\n",
    "    .load(f\"{work_data}/tbl_purchase.csv\")\n",
    ")\n",
    "right.printSchema()\n",
    "# right.show()\n",
    "\n",
    "join_codition = left.u_id == right.p_uid\n",
    "answer = left.join(right, join_codition, \"full_outer\")\n",
    "answer.printSchema()\n",
    "display(answer.orderBy(desc(\"p_amount\"), desc(\"u_signup\")))\n",
    "```\n",
    "\n",
    "</details>\n"
   ]
  },
  {
   "cell_type": "code",
   "execution_count": 5,
   "metadata": {},
   "outputs": [],
   "source": [
    "# 여기에 실습 코드를 작성하고 실행하세요 (Shift+Enter)"
   ]
  },
  {
   "cell_type": "markdown",
   "metadata": {},
   "source": [
    "### <font color=green>6. [기본]</font> 아래의 조인 연산 결과에서 null 값에 대한 치환을 해주세요\n",
    "#### 1. 고객아이디(u_id)와 고객이름(u_name), 성별(u_gender), 가입일자(u_signup) 기본값을 채워주세요\n",
    "##### u_id = 0, u_name = '미확인', u_gender = '미확인', u_signup = '19700101'\n",
    "\n",
    "<details><summary>[실습6] 출력 결과 확인 </summary>\n",
    "\n",
    "> 아래와 유사하게 방식으로 작성 되었다면 정답입니다\n",
    "\n",
    "```python\n",
    "left = (\n",
    "    spark.read.format(\"csv\")\n",
    "    .option(\"header\", \"true\")\n",
    "    .option(\"inferSchema\", \"true\")\n",
    "    .load(f\"{work_data}/tbl_purchase.csv\")\n",
    ")\n",
    "left.printSchema()\n",
    "# left.show()\n",
    "\n",
    "right = (\n",
    "    spark.read.format(\"csv\")\n",
    "    .option(\"header\", \"true\")\n",
    "    .option(\"inferSchema\", \"true\")\n",
    "    .load(f\"{work_data}/tbl_user.csv\")\n",
    ")\n",
    "right.printSchema()\n",
    "# right.show()\n",
    "\n",
    "join_codition = left.p_uid == right.u_id\n",
    "user_fill = { \"u_id\":0, \"u_name\":\"미확인\", \"u_gender\":\"미확인\", \"u_signup\":\"19700101\" }\n",
    "answer = left.join(right, join_codition, \"left_outer\").na.fill(user_fill)\n",
    "answer.printSchema()\n",
    "display(answer.orderBy(asc(\"u_signup\")))\n",
    "```\n",
    "\n",
    "</details>\n"
   ]
  },
  {
   "cell_type": "code",
   "execution_count": 6,
   "metadata": {},
   "outputs": [],
   "source": [
    "# 여기에 실습 코드를 작성하고 실행하세요 (Shift+Enter)"
   ]
  },
  {
   "cell_type": "markdown",
   "metadata": {},
   "source": [
    "## 8. 조인시 유의할 점"
   ]
  },
  {
   "cell_type": "code",
   "execution_count": 23,
   "metadata": {},
   "outputs": [
    {
     "name": "stdout",
     "output_type": "stream",
     "text": [
      "root\n",
      " |-- id: long (nullable = true)\n",
      " |-- name: string (nullable = true)\n",
      " |-- gender: string (nullable = true)\n",
      "\n"
     ]
    },
    {
     "data": {
      "text/html": [
       "<table border='1'>\n",
       "<tr><th>id</th><th>name</th><th>gender</th></tr>\n",
       "<tr><td>1</td><td>정휘센</td><td>남</td></tr>\n",
       "<tr><td>2</td><td>김싸이언</td><td>남</td></tr>\n",
       "<tr><td>3</td><td>박트롬</td><td>여</td></tr>\n",
       "</table>\n"
      ],
      "text/plain": [
       "+---+--------+------+\n",
       "| id|    name|gender|\n",
       "+---+--------+------+\n",
       "|  1|  정휘센|    남|\n",
       "|  2|김싸이언|    남|\n",
       "|  3|  박트롬|    여|\n",
       "+---+--------+------+"
      ]
     },
     "metadata": {},
     "output_type": "display_data"
    },
    {
     "name": "stdout",
     "output_type": "stream",
     "text": [
      "root\n",
      " |-- id: long (nullable = true)\n",
      " |-- name: string (nullable = true)\n",
      " |-- amount: long (nullable = true)\n",
      "\n"
     ]
    },
    {
     "data": {
      "text/html": [
       "<table border='1'>\n",
       "<tr><th>id</th><th>name</th><th>amount</th></tr>\n",
       "<tr><td>2</td><td>LG DIOS</td><td>2000000</td></tr>\n",
       "<tr><td>3</td><td>LG Cyon</td><td>1800000</td></tr>\n",
       "<tr><td>4</td><td>LG Computer</td><td>4500000</td></tr>\n",
       "</table>\n"
      ],
      "text/plain": [
       "+---+-----------+-------+\n",
       "| id|       name| amount|\n",
       "+---+-----------+-------+\n",
       "|  2|    LG DIOS|2000000|\n",
       "|  3|    LG Cyon|1800000|\n",
       "|  4|LG Computer|4500000|\n",
       "+---+-----------+-------+"
      ]
     },
     "metadata": {},
     "output_type": "display_data"
    }
   ],
   "source": [
    "u = spark.createDataFrame([\n",
    "    (1, \"정휘센\", \"남\"),\n",
    "    (2, \"김싸이언\", \"남\"),\n",
    "    (3, \"박트롬\", \"여\")\n",
    "]).toDF(\"id\", \"name\", \"gender\")\n",
    "u.printSchema()\n",
    "display(u)\n",
    "    \n",
    "p = spark.createDataFrame([\n",
    "    (2, \"LG DIOS\", 2000000),\n",
    "    (3, \"LG Cyon\", 1800000),\n",
    "    (4, \"LG Computer\", 4500000)\n",
    "]).toDF(\"id\", \"name\", \"amount\")\n",
    "p.printSchema()\n",
    "display(p)"
   ]
  },
  {
   "cell_type": "markdown",
   "metadata": {},
   "source": [
    "### 8.1 중복 컬럼명 처리가 되지 않은 경우\n",
    "> #### AnalysisException: \"Reference 'id' is ambiguous, could be: id, id.;\""
   ]
  },
  {
   "cell_type": "code",
   "execution_count": 26,
   "metadata": {},
   "outputs": [
    {
     "name": "stdout",
     "output_type": "stream",
     "text": [
      "+---+--------+------+---+-------+-------+\n",
      "| id|    name|gender| id|   name| amount|\n",
      "+---+--------+------+---+-------+-------+\n",
      "|  3|  박트롬|    여|  3|LG Cyon|1800000|\n",
      "|  2|김싸이언|    남|  2|LG DIOS|2000000|\n",
      "+---+--------+------+---+-------+-------+\n",
      "\n"
     ]
    }
   ],
   "source": [
    "up = u.join(p, u.id == p.id)\n",
    "up.show()\n",
    "# up.select(\"id\") # 주석해제해서 오류 발생시키기"
   ]
  },
  {
   "cell_type": "markdown",
   "metadata": {},
   "source": [
    "### 3.2 중복 컬럼명 해결방안 - 데이터 프레임의 컬럼 명을 다르게 만든다"
   ]
  },
  {
   "cell_type": "code",
   "execution_count": 27,
   "metadata": {},
   "outputs": [
    {
     "name": "stdout",
     "output_type": "stream",
     "text": [
      "root\n",
      " |-- u_uid: long (nullable = true)\n",
      " |-- name: string (nullable = true)\n",
      " |-- gender: string (nullable = true)\n",
      "\n",
      "root\n",
      " |-- p_uid: long (nullable = true)\n",
      " |-- name: string (nullable = true)\n",
      " |-- amount: long (nullable = true)\n",
      "\n"
     ]
    },
    {
     "data": {
      "text/html": [
       "<table border='1'>\n",
       "<tr><th>u_uid</th><th>name</th><th>gender</th><th>p_uid</th><th>name</th><th>amount</th></tr>\n",
       "<tr><td>3</td><td>박트롬</td><td>여</td><td>3</td><td>LG Cyon</td><td>1800000</td></tr>\n",
       "<tr><td>2</td><td>김싸이언</td><td>남</td><td>2</td><td>LG DIOS</td><td>2000000</td></tr>\n",
       "</table>\n"
      ],
      "text/plain": [
       "+-----+--------+------+-----+-------+-------+\n",
       "|u_uid|    name|gender|p_uid|   name| amount|\n",
       "+-----+--------+------+-----+-------+-------+\n",
       "|    3|  박트롬|    여|    3|LG Cyon|1800000|\n",
       "|    2|김싸이언|    남|    2|LG DIOS|2000000|\n",
       "+-----+--------+------+-----+-------+-------+"
      ]
     },
     "metadata": {},
     "output_type": "display_data"
    },
    {
     "data": {
      "text/html": [
       "<table border='1'>\n",
       "<tr><th>u_uid</th></tr>\n",
       "<tr><td>3</td></tr>\n",
       "<tr><td>2</td></tr>\n",
       "</table>\n"
      ],
      "text/plain": [
       "+-----+\n",
       "|u_uid|\n",
       "+-----+\n",
       "|    3|\n",
       "|    2|\n",
       "+-----+"
      ]
     },
     "execution_count": 27,
     "metadata": {},
     "output_type": "execute_result"
    }
   ],
   "source": [
    "u1 = u.withColumnRenamed(\"id\", \"u_uid\")\n",
    "p1 = p.withColumnRenamed(\"id\", \"p_uid\")\n",
    "u1.printSchema()\n",
    "p1.printSchema()\n",
    "\n",
    "up = u1.join(p1, u1.u_uid == p1.p_uid)\n",
    "display(up)\n",
    "up.select(\"u_uid\")"
   ]
  },
  {
   "cell_type": "markdown",
   "metadata": {},
   "source": [
    "### 3.3 중복 컬럼명 해결방안 - 조인 직후 중복 컬럼을 제거합니다"
   ]
  },
  {
   "cell_type": "code",
   "execution_count": 28,
   "metadata": {},
   "outputs": [
    {
     "data": {
      "text/html": [
       "<table border='1'>\n",
       "<tr><th>id</th><th>name</th><th>gender</th><th>name</th><th>amount</th></tr>\n",
       "<tr><td>3</td><td>박트롬</td><td>여</td><td>LG Cyon</td><td>1800000</td></tr>\n",
       "<tr><td>2</td><td>김싸이언</td><td>남</td><td>LG DIOS</td><td>2000000</td></tr>\n",
       "</table>\n"
      ],
      "text/plain": [
       "+---+--------+------+-------+-------+\n",
       "| id|    name|gender|   name| amount|\n",
       "+---+--------+------+-------+-------+\n",
       "|  3|  박트롬|    여|LG Cyon|1800000|\n",
       "|  2|김싸이언|    남|LG DIOS|2000000|\n",
       "+---+--------+------+-------+-------+"
      ]
     },
     "metadata": {},
     "output_type": "display_data"
    },
    {
     "data": {
      "text/html": [
       "<table border='1'>\n",
       "<tr><th>id</th></tr>\n",
       "<tr><td>3</td></tr>\n",
       "<tr><td>2</td></tr>\n",
       "</table>\n"
      ],
      "text/plain": [
       "+---+\n",
       "| id|\n",
       "+---+\n",
       "|  3|\n",
       "|  2|\n",
       "+---+"
      ]
     },
     "metadata": {},
     "output_type": "display_data"
    }
   ],
   "source": [
    "up = u.join(p, u.id == p.id).drop(p.id)\n",
    "display(up)\n",
    "display(up.select(\"id\"))"
   ]
  },
  {
   "cell_type": "markdown",
   "metadata": {},
   "source": [
    "### <font color=red>7. [고급]</font> 고객 정보 f\"{work_data}/tbl_user_id\", 제품 정보 f\"{work_data}/tbl_purchase_id\" CSV 파일을 읽고\n",
    "#### 1. *고객(tbl_user) 테이블의 아이디도 id 이고 제품(tbl_purchase) 테이블의 아이디도 id 입니다*\n",
    "#### 2. 가장 비싼 제품을 구매한 고객의 고객정보와 제품정보를 출력해 주세요\n",
    "#### 3. 최종 출력되는 컬럼은 고객아이디(u_id), 고객이름(u_name), 상품이름(p_name), 상품가격(p_amount) 이렇게 4개 컬럼입니다\n",
    "#### 4. 상품가격 (p_amount) 내림차순으로 정렬되어야 합니다\n",
    "\n",
    "<details><summary>[실습7] 출력 결과 확인 </summary>\n",
    "\n",
    "> 아래와 유사하게 방식으로 작성 되었다면 정답입니다\n",
    "\n",
    "```python\n",
    "left = (\n",
    "    spark.read.format(\"csv\")\n",
    "    .option(\"header\", \"true\")\n",
    "    .option(\"inferSchema\", \"true\")\n",
    "    .load(f\"{work_data}/tbl_purchase_id.csv\")\n",
    ")\n",
    "# left.printSchema()\n",
    "# left.show()\n",
    "\n",
    "right = (\n",
    "    spark.read.format(\"csv\")\n",
    "    .option(\"header\", \"true\")\n",
    "    .option(\"inferSchema\", \"true\")\n",
    "    .load(f\"{work_data}/tbl_user_id.csv\")\n",
    ")\n",
    "# right.printSchema()\n",
    "# right.show()\n",
    "\n",
    "u_left = left.withColumnRenamed(\"id\", \"u_id\")\n",
    "u_right = right.withColumnRenamed(\"id\", \"p_uid\")\n",
    "u_left.printSchema()\n",
    "u_right.printSchema()\n",
    "\n",
    "join_codition = u_left.u_id == u_right.p_uid\n",
    "answer = u_left.join(u_right, join_codition, \"inner\").where(\"p_amount > 0\").select(\"u_id\", \"u_name\", \"p_name\", \"p_amount\")\n",
    "answer.printSchema()\n",
    "display(answer.orderBy(desc(\"p_amount\")))\n",
    "```\n",
    "\n",
    "</details>\n"
   ]
  },
  {
   "cell_type": "code",
   "execution_count": 7,
   "metadata": {},
   "outputs": [],
   "source": [
    "# 여기에 실습 코드를 작성하고 실행하세요 (Shift+Enter)"
   ]
  },
  {
   "cell_type": "markdown",
   "metadata": {},
   "source": [
    "## 9. 참고. 스파크의 조인 수행 방식\n",
    "- Join 을 수행할 사이즈에 따라 조인 수행하는 방식이 다릅니다. 주요한 조인 수행방식은 아래와 같습니다. 데이터의 분포와 파티셔닝을 고려한 성능 튜닝과 함께 자세한 부분은 고급과정에서 다룹니다. \n",
    "- Broadcast Hash Join : **SmallSize** join **AnySize**\n",
    "- Shuffle hash join : **MiddleSize** join **LargeSize**\n",
    "- Sort merge join : **LargeSize** join **LargeSize**\n",
    "- BroadcastNestedLoopJoin"
   ]
  },
  {
   "cell_type": "markdown",
   "metadata": {},
   "source": [
    "---"
   ]
  },
  {
   "cell_type": "markdown",
   "metadata": {},
   "source": [
    "## 참고자료\n",
    "\n",
    "* [Spark Programming Guide](https://spark.apache.org/docs/latest/sql-programming-guide.html)\n",
    "* [PySpark SQL Modules Documentation](https://spark.apache.org/docs/latest/api/python/pyspark.sql.html)\n",
    "* <a href=\"https://spark.apache.org/docs/3.0.1/api/sql/\" target=\"_blank\">PySpark 3.0.1 Builtin Functions</a>\n",
    "* [PySpark Search](https://spark.apache.org/docs/latest/api/python/search.html)\n",
    "* [Pyspark Functions](https://spark.apache.org/docs/latest/api/python/pyspark.sql.html?#module-pyspark.sql.functions)\n",
    "- [Spark SQL, DataFrames and Datasets Guide](https://spark.apache.org/docs/latest/sql-programming-guide.html)\n",
    "- [Spark summit 2017 - Hive Bucketing in Apache Spark with Tejas Patil](https://youtu.be/6BD-Vv-ViBw?t=30) / [slide](https://www.slideshare.net/databricks/hive-bucketing-in-apache-spark-with-tejas-patil) / [한글 요약본](https://www.notion.so/Hive-Bucketing-in-Apache-Spark-Tejas-Patil-9374879e0ca744cc8e7047e82cf5fdfa)\n",
    "- [Spark summit 2017 - Optimizing Apache Spark SQL Joins: Spark Summit East talk by Vida Ha](https://www.youtube.com/watch?v=fp53QhSfQcI) / [slide](https://www.slideshare.net/databricks/optimizing-apache-spark-sql-joins)\n",
    "- [Everyday I'm Shuffling - Tips for Writing Better Apache Spark Programs](https://www.youtube.com/watch?v=Wg2boMqLjCg)\n",
    "- [Spark Memory Management by 0x0fff](https://0x0fff.com/spark-memory-management/)\n",
    "- [Apache Spark에서 컬럼 기반 저장 포맷 Parquet(파케이) 제대로 활용하기](http://engineering.vcnc.co.kr/2018/05/parquet-and-spark/)\n",
    "- [Understanding Database Sharding](https://www.digitalocean.com/community/tutorials/understanding-database-sharding)"
   ]
  },
  {
   "cell_type": "code",
   "execution_count": null,
   "metadata": {},
   "outputs": [],
   "source": []
  }
 ],
 "metadata": {
  "kernelspec": {
   "display_name": "Python 3 (ipykernel)",
   "language": "python",
   "name": "python3"
  },
  "language_info": {
   "codemirror_mode": {
    "name": "ipython",
    "version": 3
   },
   "file_extension": ".py",
   "mimetype": "text/x-python",
   "name": "python",
   "nbconvert_exporter": "python",
   "pygments_lexer": "ipython3",
   "version": "3.9.6"
  }
 },
 "nbformat": 4,
 "nbformat_minor": 4
}
